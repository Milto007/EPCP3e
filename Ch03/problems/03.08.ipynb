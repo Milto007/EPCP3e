{
 "cells": [
  {
   "cell_type": "markdown",
   "metadata": {},
   "source": [
    "# Chapter 3\n",
    "## Problem 08\n",
    "\n",
    "A rectangular block floats in pure water with 0.5 in above the surface and 1.5 in below the surface. When placed in an aqueous solution, the block of material floats with 1 in. below the surface. Estimate the specific gravities of the block and the solution. *Suggestion*: Call the horizontal cross-sectional area of the block A. A should cancel in your calculations"
   ]
  },
  {
   "cell_type": "markdown",
   "metadata": {
    "collapsed": true
   },
   "source": [
    "Force up = Force down (Newton's thrid law)\n",
    "\n",
    "Force = density \\* gravity \\* volume"
   ]
  },
  {
   "cell_type": "code",
   "execution_count": 8,
   "metadata": {
    "collapsed": false
   },
   "outputs": [
    {
     "name": "stdout",
     "output_type": "stream",
     "text": [
      "[length] * [mass] / [time] ** 2\n"
     ]
    }
   ],
   "source": [
    "import pint\n",
    "ureg = pint.UnitRegistry()\n",
    "\n",
    "# check if force equation is correct\n",
    "# force = mass * acceleration = mass * length / time**2\n",
    "rho = ureg.kilogram / ureg.meter**3\n",
    "g   = ureg.meter    / ureg.second**2\n",
    "V   = ureg.meter**3\n",
    "\n",
    "# verify by printing dimensionality\n",
    "print((rho * g * V).dimensionality)"
   ]
  },
  {
   "cell_type": "code",
   "execution_count": 16,
   "metadata": {
    "collapsed": false
   },
   "outputs": [
    {
     "name": "stdout",
     "output_type": "stream",
     "text": [
      "density of block = 0.75 gram / meter ** 3\n",
      "sg = 0.75\n"
     ]
    }
   ],
   "source": [
    "# V = A * h\n",
    "# A* 2 inches in force down, A * 1.5 inches of displaced water\n",
    "\n",
    "# rho_block * g * V_block = rho_water * g * V_waterDisplaced\n",
    "# rho_block * g * A*2     = rho_water * g * A * 1.5 \n",
    "# rho_block * 2           = rho_water * 1.5\n",
    "\n",
    "rho_block = (1.5/2) * 1 * ureg.gram / ureg.meter**3\n",
    "\n",
    "print(\"density of block =\", rho_block)\n",
    "print(\"sg =\", rho_block.magnitude)"
   ]
  },
  {
   "cell_type": "code",
   "execution_count": 18,
   "metadata": {
    "collapsed": false
   },
   "outputs": [
    {
     "name": "stdout",
     "output_type": "stream",
     "text": [
      "density of block = 1.5 gram / meter ** 3\n",
      "sg = 1.5\n"
     ]
    }
   ],
   "source": [
    "# V = A * h\n",
    "# A* 2 inches in force down, A * 1 inches of displaced water\n",
    "\n",
    "# rho_block * g * V_block = rho_soln * g * V_solnDisplaced\n",
    "# rho_block * g * A*2     = rho_soln * g * A * 1\n",
    "# rho_block * 2           = rho_soln * 1\n",
    "\n",
    "rho_soln = (2/1) * rho_block\n",
    "\n",
    "print(\"density of block =\", rho_soln)\n",
    "print(\"sg =\", rho_soln.magnitude)"
   ]
  },
  {
   "cell_type": "code",
   "execution_count": null,
   "metadata": {
    "collapsed": true
   },
   "outputs": [],
   "source": []
  }
 ],
 "metadata": {
  "kernelspec": {
   "display_name": "Python 3",
   "language": "python",
   "name": "python3"
  },
  "language_info": {
   "codemirror_mode": {
    "name": "ipython",
    "version": 3
   },
   "file_extension": ".py",
   "mimetype": "text/x-python",
   "name": "python",
   "nbconvert_exporter": "python",
   "pygments_lexer": "ipython3",
   "version": "3.5.1"
  }
 },
 "nbformat": 4,
 "nbformat_minor": 0
}
