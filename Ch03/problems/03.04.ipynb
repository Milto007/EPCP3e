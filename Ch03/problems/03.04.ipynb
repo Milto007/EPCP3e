{
 "cells": [
  {
   "cell_type": "markdown",
   "metadata": {},
   "source": [
    "# Chapter 3\n",
    "## Problem 4\n",
    "\n",
    "Assume the price of gasoline in France is appoximately 5 French francs per liter and the exchange rate is 5.22 fracs per US dollar. How much would you pay, in dolloars, for 50.0 kg of gasolline in France, assuming gasoline has a specific gravity of 0.70. What would the same quantity of gasoline cost in the United States at a rate of $1.20 per gallon?"
   ]
  },
  {
   "cell_type": "code",
   "execution_count": 7,
   "metadata": {
    "collapsed": false
   },
   "outputs": [
    {
     "name": "stdout",
     "output_type": "stream",
     "text": [
      "68.41817186644774 count\n"
     ]
    }
   ],
   "source": [
    "import pint\n",
    "ureg = pint.UnitRegistry()\n",
    "\n",
    "price_fr = 5 * ureg.count / ureg.liter\n",
    "fr_to_usd = 5.22\n",
    "sg = 0.70\n",
    "\n",
    "rho_gas = sg * 1000 * ureg.kilogram / ureg.meter**3\n",
    "\n",
    "m = 50 * ureg.kilogram\n",
    "\n",
    "V = m / rho_gas\n",
    "\n",
    "print(V.to(ureg.liter) * price_fr / fr_to_usd)"
   ]
  },
  {
   "cell_type": "code",
   "execution_count": 8,
   "metadata": {
    "collapsed": false
   },
   "outputs": [
    {
     "name": "stdout",
     "output_type": "stream",
     "text": [
      "22.643318773555585 gallon\n"
     ]
    }
   ],
   "source": [
    "print(V.to(ureg.gallon) * 1.20)"
   ]
  },
  {
   "cell_type": "code",
   "execution_count": null,
   "metadata": {
    "collapsed": true
   },
   "outputs": [],
   "source": []
  }
 ],
 "metadata": {
  "kernelspec": {
   "display_name": "Python 3",
   "language": "python",
   "name": "python3"
  },
  "language_info": {
   "codemirror_mode": {
    "name": "ipython",
    "version": 3
   },
   "file_extension": ".py",
   "mimetype": "text/x-python",
   "name": "python",
   "nbconvert_exporter": "python",
   "pygments_lexer": "ipython3",
   "version": "3.5.1"
  }
 },
 "nbformat": 4,
 "nbformat_minor": 0
}
