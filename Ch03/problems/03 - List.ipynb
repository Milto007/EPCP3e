{
 "cells": [
  {
   "cell_type": "markdown",
   "metadata": {},
   "source": [
    "# Chapter 3 - Problems\n",
    "\n",
    "Problems with solutions in the book (all evens except 34)\n",
    "\n",
    "- 2\n",
    "- 4\n",
    "- 6\n",
    "- 8\n",
    "- 10\n",
    "- 12\n",
    "- 14\n",
    "- 16\n",
    "- 18\n",
    "- 20\n",
    "- 22\n",
    "- 24\n",
    "- 26\n",
    "- 28\n",
    "- 30\n",
    "- 32\n",
    "- 36\n",
    "- 38\n",
    "- 40\n",
    "- 42\n",
    "- 44\n",
    "- 46\n",
    "- 48\n",
    "- 50\n",
    "- 52\n",
    "- 54"
   ]
  },
  {
   "cell_type": "code",
   "execution_count": null,
   "metadata": {
    "collapsed": true
   },
   "outputs": [],
   "source": []
  }
 ],
 "metadata": {
  "kernelspec": {
   "display_name": "Python 3",
   "language": "python",
   "name": "python3"
  },
  "language_info": {
   "codemirror_mode": {
    "name": "ipython",
    "version": 3
   },
   "file_extension": ".py",
   "mimetype": "text/x-python",
   "name": "python",
   "nbconvert_exporter": "python",
   "pygments_lexer": "ipython3",
   "version": "3.5.1"
  }
 },
 "nbformat": 4,
 "nbformat_minor": 0
}
