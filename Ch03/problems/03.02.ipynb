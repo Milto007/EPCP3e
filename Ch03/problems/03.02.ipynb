{
 "cells": [
  {
   "cell_type": "markdown",
   "metadata": {},
   "source": [
    "# Chapter 03\n",
    "## Problem 02\n",
    "\n",
    "Calculate densities in lbm/ft^3 of the following substances:\n",
    "- a liquid with density of 995 kg/m^3. Use (i) conversion factors from the table on the inside front cover and (ii) Equation 3.1-2\n",
    "- a solid with a specific gravity of 5.7"
   ]
  },
  {
   "cell_type": "code",
   "execution_count": 2,
   "metadata": {
    "collapsed": false
   },
   "outputs": [
    {
     "data": {
      "text/html": [
       "62.11582077326388 pound/foot<sup>3</sup>"
      ],
      "text/latex": [
       "$62.11582077326388 \\frac{pound}{foot^{3}}$"
      ],
      "text/plain": [
       "<Quantity(62.11582077326388, 'pound / foot ** 3')>"
      ]
     },
     "execution_count": 2,
     "metadata": {},
     "output_type": "execute_result"
    }
   ],
   "source": [
    "import pint \n",
    "ureg = pint.UnitRegistry()\n",
    "\n",
    "rho = 995 * ureg.kilogram / ureg.meter**3\n",
    "\n",
    "rho.to(ureg.pound / ureg.foot**3)"
   ]
  },
  {
   "cell_type": "code",
   "execution_count": 3,
   "metadata": {
    "collapsed": false
   },
   "outputs": [
    {
     "data": {
      "text/html": [
       "62.11785 pound/foot<sup>3</sup>"
      ],
      "text/latex": [
       "$62.11785 \\frac{pound}{foot^{3}}$"
      ],
      "text/plain": [
       "<Quantity(62.11785, 'pound / foot ** 3')>"
      ]
     },
     "execution_count": 3,
     "metadata": {},
     "output_type": "execute_result"
    }
   ],
   "source": [
    "# Eq. 3.1-2\n",
    "# rho_h20 = 1.000 g/cm^3 = 1000 kg/m^3 = 62.43 lbm/ft^3\n",
    "\n",
    "(rho / (1000 * ureg.kilogram / ureg.meter**3)) * (62.43 * ureg.pound / ureg.foot**3)"
   ]
  },
  {
   "cell_type": "code",
   "execution_count": 5,
   "metadata": {
    "collapsed": false
   },
   "outputs": [
    {
     "name": "stdout",
     "output_type": "stream",
     "text": [
      "355.851 pound / foot ** 3\n"
     ]
    }
   ],
   "source": [
    "sg = 5.7\n",
    "rho_s = sg * 62.43 * ureg.pound / ureg.foot**3\n",
    "print(rho_s)"
   ]
  },
  {
   "cell_type": "code",
   "execution_count": null,
   "metadata": {
    "collapsed": true
   },
   "outputs": [],
   "source": []
  }
 ],
 "metadata": {
  "kernelspec": {
   "display_name": "Python 3",
   "language": "python",
   "name": "python3"
  },
  "language_info": {
   "codemirror_mode": {
    "name": "ipython",
    "version": 3
   },
   "file_extension": ".py",
   "mimetype": "text/x-python",
   "name": "python",
   "nbconvert_exporter": "python",
   "pygments_lexer": "ipython3",
   "version": "3.5.1"
  }
 },
 "nbformat": 4,
 "nbformat_minor": 0
}
