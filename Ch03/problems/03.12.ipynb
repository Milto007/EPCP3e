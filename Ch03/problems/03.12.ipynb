{
 "cells": [
  {
   "cell_type": "markdown",
   "metadata": {},
   "source": [
    "# Chapter 03\n",
    "## Problem 12\n",
    "\n",
    "Aqueous solutions of the amino acid L-isoleucine (Ile) are prepared by putting 100.0 grams of pure water into each of six flasks and adding different precisely weighed quantities of Ile to each flask. The densities of the solutions at 50.0 +/- 0.05 C are then measured with a precision densitometer, with the following results:"
   ]
  },
  {
   "cell_type": "code",
   "execution_count": 1,
   "metadata": {
    "collapsed": true
   },
   "outputs": [],
   "source": [
    "r = (0, 0.8821, 1.7683, 2.6412, 3.4093, 4.2064)\n",
    "rho = (0.98803, 0.98984, 0.99148, 0.99297, 0.99439, 0.99580)\n",
    "\n",
    "data = ((0, 0.98803), (0.8821, 0.98984), (1.7683, 0.99148), (2.6412, 0.99297), \n",
    "        (3.4093, 0.99439), (4.2064, 0.99580))\n",
    "\n"
   ]
  },
  {
   "cell_type": "markdown",
   "metadata": {},
   "source": [
    "### Part a\n",
    "Plot a calibration curve showing the mass ratio, r, as a function of solution density, rho, and fit a straight line to the data to obtain an equation of the form\n",
    "\n",
    "$$ r = a \\rho + b $$"
   ]
  },
  {
   "cell_type": "code",
   "execution_count": null,
   "metadata": {
    "collapsed": true
   },
   "outputs": [],
   "source": []
  }
 ],
 "metadata": {
  "kernelspec": {
   "display_name": "Python 3",
   "language": "python",
   "name": "python3"
  },
  "language_info": {
   "codemirror_mode": {
    "name": "ipython",
    "version": 3
   },
   "file_extension": ".py",
   "mimetype": "text/x-python",
   "name": "python",
   "nbconvert_exporter": "python",
   "pygments_lexer": "ipython3",
   "version": "3.5.1"
  }
 },
 "nbformat": 4,
 "nbformat_minor": 0
}
