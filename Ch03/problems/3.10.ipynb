{
 "cells": [
  {
   "cell_type": "markdown",
   "metadata": {},
   "source": [
    "# Chapter 03\n",
    "## Problem 10\n",
    "\n",
    "Limestone (calcium carbonate) particles are stores in 50-L bags. The ** void fraction ** of the particulate matter is 0.30 (liter of void space per liter of total volume) and the specific gravity of solid calcium carbonate is 2.93. \n",
    "\n",
    "### Part a\n",
    "Estimate the ** bulk density ** of the bag contents (kg CaCO3/liter of total volume).\n",
    "\n",
    "### Part b\n",
    "Estimate the weight (W) of the filled bags. State what you are neglecting in your estimate\n",
    "\n",
    "### Part c\n",
    "The contents of three bags are fed to a ** ball mill **, a device something like a rotating clothes dryer containing steel balls. The tumbling action of the balls crushes the limestone particles and turns them into a powder. The limestone coming out of the mill is put back into 50-L bags. Would the limestone (i) just fill three bags, (ii) fall short of filling three bags, or (iii) fill more than three bags? Briefly explain your answer."
   ]
  },
  {
   "cell_type": "code",
   "execution_count": 11,
   "metadata": {
    "collapsed": false
   },
   "outputs": [
    {
     "name": "stdout",
     "output_type": "stream",
     "text": [
      "2.051 kilogram / liter\n"
     ]
    }
   ],
   "source": [
    "# solution a\n",
    "import pint\n",
    "ureg = pint.UnitRegistry()\n",
    "\n",
    "rho_CaCO3 = 2.93 * ureg.kilogram / ureg.liter\n",
    "m = rho_CaCO3 * 0.7 * ureg.liter\n",
    "rho_bulk = m / (1 * ureg.liter)\n",
    "print(rho_bulk.to(ureg.kilogram / ureg.liter))"
   ]
  },
  {
   "cell_type": "code",
   "execution_count": 16,
   "metadata": {
    "collapsed": false
   },
   "outputs": [
    {
     "name": "stdout",
     "output_type": "stream",
     "text": [
      "1005.7078500000001 newton\n",
      "I'm neglecting any other mass such as air and the bag\n"
     ]
    }
   ],
   "source": [
    "# solution b\n",
    "# assume\n",
    "g = 9.807 * ureg.meter / ureg.second**2\n",
    "\n",
    "# m = density * volume\n",
    "m_bulk = (rho_bulk * 50 * ureg.liter)\n",
    "\n",
    "# W = m * g\n",
    "W = m_bulk * g\n",
    "print(W.to(ureg.newton))\n",
    "print(\"I'm neglecting any other mass such as air and the bag\")"
   ]
  },
  {
   "cell_type": "markdown",
   "metadata": {},
   "source": [
    "### Solution c\n",
    "The bags will (ii) fall short of filling three bags since now the void fraction will be smaller than the previous 0.30; bulk density will increase"
   ]
  },
  {
   "cell_type": "code",
   "execution_count": null,
   "metadata": {
    "collapsed": true
   },
   "outputs": [],
   "source": []
  }
 ],
 "metadata": {
  "kernelspec": {
   "display_name": "Python 3",
   "language": "python",
   "name": "python3"
  },
  "language_info": {
   "codemirror_mode": {
    "name": "ipython",
    "version": 3
   },
   "file_extension": ".py",
   "mimetype": "text/x-python",
   "name": "python",
   "nbconvert_exporter": "python",
   "pygments_lexer": "ipython3",
   "version": "3.5.1"
  }
 },
 "nbformat": 4,
 "nbformat_minor": 0
}
