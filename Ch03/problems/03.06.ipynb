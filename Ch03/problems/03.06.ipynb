{
 "cells": [
  {
   "cell_type": "markdown",
   "metadata": {},
   "source": [
    "# Chapter 3\n",
    "## Problem 06\n",
    "\n",
    "At 25C, an aqueous solution containing 35.0 wt% H2SO4 has a specific gravity of 1.2563. A quantity of 25% solution is needed that contains 195.5 kg of H2SO4\n",
    "\n",
    "### Part a\n",
    "Calculate the required volume (L) of the solution using the given specific gravity\n",
    "\n",
    "### Part b\n",
    "Estimate the percentage error that would have resulted if pure-component specific gravities of H2SO4 (SG = 1.8255) and water had been used for the calculation instead of the given specific gravity of the mixture"
   ]
  },
  {
   "cell_type": "code",
   "execution_count": 3,
   "metadata": {
    "collapsed": false
   },
   "outputs": [
    {
     "name": "stdout",
     "output_type": "stream",
     "text": [
      "444.6162768219602 liter\n"
     ]
    }
   ],
   "source": [
    "import pint\n",
    "ureg = pint.UnitRegistry()\n",
    "\n",
    "sg = 1.2563\n",
    "rho_soln = sg * 1000 * ureg.kilogram / ureg.meter**3\n",
    "\n",
    "# m = m_h20 + m_h2so4\n",
    "# need m_h2so4 = 195.5 kg\n",
    "\n",
    "h2so4_pct = 0.35\n",
    "# m * h2so4_pct = 195.5 kg \n",
    "m = 195.5 * ureg.kilogram / h2so4_pct\n",
    "\n",
    "V = m / rho_soln\n",
    "print(V.to(ureg.liter))"
   ]
  },
  {
   "cell_type": "code",
   "execution_count": 21,
   "metadata": {
    "collapsed": false
   },
   "outputs": [
    {
     "name": "stdout",
     "output_type": "stream",
     "text": [
      "444.6162768219602 liter\n",
      "470.1653754353015 liter\n",
      "5.746325527252797 dimensionless\n"
     ]
    }
   ],
   "source": [
    "# do each part individually\n",
    "# givens\n",
    "rho_h2o = 1000 * ureg.kilogram / ureg.meter**3\n",
    "rho_h2so4 = 1.8255 * rho_h2o\n",
    "\n",
    "m_h2so4 = 195.5 * ureg.kilogram\n",
    "\n",
    "h2so4_frac = 0.35\n",
    "h2o_frac = 1 - h2so4_frac # 0.65\n",
    "\n",
    "# V = mass / density = mass / (mass / length**3)\n",
    "V_h2so4 = m_h2so4 / rho_h2so4\n",
    "\n",
    "# use fracs to determine mass of water\n",
    "m_total = m_h2so4 / h2so4_frac\n",
    "m_h2o = m_total * h2o_frac\n",
    "\n",
    "# V = mass / (mass / length**3)\n",
    "V_h2o = m_h2o / rho_h2o\n",
    "\n",
    "# add each individual part\n",
    "V_new = V_h2so4 + V_h2o\n",
    "\n",
    "# determine error and print percent error\n",
    "err = (V_new - V)/V\n",
    "\n",
    "print(V.to(ureg.liter))\n",
    "print(V_new.to(ureg.liter))\n",
    "print(err * 100)"
   ]
  },
  {
   "cell_type": "code",
   "execution_count": null,
   "metadata": {
    "collapsed": true
   },
   "outputs": [],
   "source": []
  }
 ],
 "metadata": {
  "kernelspec": {
   "display_name": "Python 3",
   "language": "python",
   "name": "python3"
  },
  "language_info": {
   "codemirror_mode": {
    "name": "ipython",
    "version": 3
   },
   "file_extension": ".py",
   "mimetype": "text/x-python",
   "name": "python",
   "nbconvert_exporter": "python",
   "pygments_lexer": "ipython3",
   "version": "3.5.1"
  }
 },
 "nbformat": 4,
 "nbformat_minor": 0
}
