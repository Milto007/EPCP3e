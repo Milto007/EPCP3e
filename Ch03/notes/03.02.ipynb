{
 "cells": [
  {
   "cell_type": "markdown",
   "metadata": {},
   "source": [
    "# 3.2 Flow Rate\n",
    "## 3.2a Mass and Volumetric Flow Rate\n",
    "\n",
    "- ** flow rate ** - rate at which material is transported through a process line\n",
    "- ** mass flow rate ** - mass / time\n",
    "- ** volumetric flow rate ** - volume / time\n",
    "\n",
    "mass and volume that flow through cross section are related though density, $\\rho$:\n",
    "\n",
    "$$ \\rho = m / V = \\dot{m} / \\dot{V} $$\n",
    "\n",
    "*Density can be used to convert volumetric flow to mass flow and vice versa*"
   ]
  },
  {
   "cell_type": "markdown",
   "metadata": {},
   "source": [
    "### Test Yourself\n",
    "#### Problem 1\n",
    "The mass flow rate of n-hexane ($\\rho = 0.659 \\text{g/cm}^3$) in a pipe is 6.59 g/s. What is the volumetric flow rate of hexane?"
   ]
  },
  {
   "cell_type": "code",
   "execution_count": 2,
   "metadata": {
    "collapsed": false
   },
   "outputs": [
    {
     "name": "stdout",
     "output_type": "stream",
     "text": [
      "10.0 centimeter ** 3 / second\n"
     ]
    }
   ],
   "source": [
    "# Solution 1\n",
    "import pint\n",
    "ureg = pint.UnitRegistry()\n",
    "\n",
    "rho = 0.659 * ureg.gram / ureg.centimeter**3\n",
    "mflow = 6.59 * ureg.gram / ureg.second\n",
    "Vflow = mflow / rho\n",
    "print(Vflow)"
   ]
  },
  {
   "cell_type": "markdown",
   "metadata": {},
   "source": [
    "#### Problem 2\n",
    "The volumetric flow rate of $\\text{CCl}_4$ ($\\rho = 1.595 \\text{g/cm}^3$) in a pipe is $100 \\text{ cm}^3/\\text{min}$. What is the mass flow rate of $\\text{CCl}_4$?"
   ]
  },
  {
   "cell_type": "code",
   "execution_count": 3,
   "metadata": {
    "collapsed": false
   },
   "outputs": [
    {
     "name": "stdout",
     "output_type": "stream",
     "text": [
      "159.5 gram / minute\n"
     ]
    }
   ],
   "source": [
    "# Solution 2\n",
    "# import pint\n",
    "# ureg = pint.UnitRegistry()\n",
    "\n",
    "rho = 1.595 * ureg.gram / ureg.centimeter**3\n",
    "Vflow = 100 * ureg.centimeter**3 / ureg.minute\n",
    "mflow = Vflow * rho\n",
    "print(mflow)"
   ]
  },
  {
   "cell_type": "markdown",
   "metadata": {},
   "source": [
    "#### Problem 3\n",
    "Suppose a gas flowing through a cone-shaped pipe.\n",
    "\n",
    "How do the mass flow rates of the gas at the inlet and outlet compare? If the density of the gas is constant, how do the volumetric flow rates at these two points compare? What if the density decreases from inlet to outlet?"
   ]
  },
  {
   "cell_type": "markdown",
   "metadata": {},
   "source": [
    "#### Solution 3\n",
    "- The mass flow rates should not change between inlet and outlet. \n",
    "- If the density is constant, the volumetric flow rates will also be the same. \n",
    "- If the density decreases, the volumetric flow will be greater at the outlet than the inlet."
   ]
  },
  {
   "cell_type": "markdown",
   "metadata": {},
   "source": [
    "## 3.2b Flow Rate Measurement\n",
    "\n",
    "- ** flowmeter ** - a device in a process line that provides flow rate measurements\n",
    "- ** rotameter ** - type of flowmeter. Consists of tapered vertical tube with float. At larger flow rates, the float will rise higher in the tube\n",
    "- ** orifice meter ** - type of flowmeter. Consists of an obstruction in the flow channel with a narrow opening through which fluid passes. The fluid pressure drops from upstream side to downstream side. As flow rate increases, pressure drop inscreases"
   ]
  },
  {
   "cell_type": "markdown",
   "metadata": {},
   "source": [
    "### Test yourself\n",
    "#### Problem 1\n",
    "A steadily flowing stream of water is funneled into a graduation cylinder for exactly 30 s, during which time 50 mL is collected. What is the volumetric flow rate of the stream? The mass flow rate?"
   ]
  },
  {
   "cell_type": "code",
   "execution_count": 8,
   "metadata": {
    "collapsed": false
   },
   "outputs": [
    {
     "name": "stdout",
     "output_type": "stream",
     "text": [
      "100.0 milliliter / minute\n",
      "100.0 gram / minute\n"
     ]
    }
   ],
   "source": [
    "# Solution 2\n",
    "# import pint\n",
    "# ureg = pint.UnitRegistry()\n",
    "\n",
    "V = 50 * ureg.milliliter\n",
    "t = 30 * ureg.second\n",
    "Vflow = V / t\n",
    "print(Vflow.to(ureg.milliliter / ureg.minute))\n",
    "\n",
    "# density of water\n",
    "rho = 1 * ureg.gram / ureg.milliliter\n",
    "mflow = rho * Vflow\n",
    "print(mflow.to(ureg.gram / ureg.minute))"
   ]
  },
  {
   "cell_type": "markdown",
   "metadata": {},
   "source": [
    "#### Problem 2\n",
    "What is a rotameter? An orifice meter?"
   ]
  },
  {
   "cell_type": "markdown",
   "metadata": {},
   "source": [
    "#### Solution 2\n",
    "- Both are flow meters\n",
    "- rotameter consists of vertical tube with float that rises and falls with flow rate\n",
    "- orifice meter consists of obstruction that measures pressure drop at upstream and downstream. Pressure drop inscreases with greater flow rate."
   ]
  },
  {
   "cell_type": "markdown",
   "metadata": {},
   "source": [
    "#### Probelm 3\n",
    "A rotameter calibration curve (flow rate versus float position) obtained using a liquid is mistakenly used to measure a gas flow rate. Would you expect the gas flow rate determined in this manner to be too high or too low?"
   ]
  },
  {
   "cell_type": "markdown",
   "metadata": {},
   "source": [
    "#### Solution 3\n",
    "The density of gas is much lower than liquid, so I expect the gas flow rate to actually be higher than measured.\n",
    "\n",
    "Gas must flow at a rate much higher than the liquid to raise the float to the same position."
   ]
  },
  {
   "cell_type": "code",
   "execution_count": null,
   "metadata": {
    "collapsed": true
   },
   "outputs": [],
   "source": []
  }
 ],
 "metadata": {
  "kernelspec": {
   "display_name": "Python 3",
   "language": "python",
   "name": "python3"
  },
  "language_info": {
   "codemirror_mode": {
    "name": "ipython",
    "version": 3
   },
   "file_extension": ".py",
   "mimetype": "text/x-python",
   "name": "python",
   "nbconvert_exporter": "python",
   "pygments_lexer": "ipython3",
   "version": "3.5.1"
  }
 },
 "nbformat": 4,
 "nbformat_minor": 0
}
