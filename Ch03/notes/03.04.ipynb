{
 "cells": [
  {
   "cell_type": "markdown",
   "metadata": {},
   "source": [
    "# 3.4 Pressure\n",
    "## 3.4a Fluid Pressure and Hydrostatic Head\n",
    "\n",
    "** pressure ** - ratio of a force to the area on which the force acts. Units are force divided by area units (N/m^2, dynes/cm^2, lbf/in^2 (psi)). Note, SI pressure unit is N/m^2 or a ** pascal (Pa) **\n",
    "\n",
    "** fluid pressure ** - Force / Area (F/A) where F is the minimum force that would have to be exerted on a frictionless plug in the hole to keep the fluid from emerging.\n",
    "\n",
    "** hydrostatic pressure ** - (in a fluid filled cylinder) the force, F, exerted on the base divided by the base area A. F thus equals the force on the top surface plus the weight of the fluid of the column.\n",
    "\n",
    "$$ P = P_0 + \\rho g h$$\n",
    "\n",
    "** head ** - the height of a hypothetical column of fluid that would exert the given pressure at its base if the pressure at the top were zero. 14.7 psi = head of 33.9 ft of water or 76 cm of mercury.\n",
    "\n",
    "$$ P(\\frac{\\text{force}}{\\text{area}}) = \n",
    "\\rho_{\\text{fluid}} g P_h(\\text{head of fluid}) $$"
   ]
  },
  {
   "cell_type": "markdown",
   "metadata": {
    "collapsed": true
   },
   "source": [
    "### Example 3.4-1 Calculation of a pressure as a head of fluid\n",
    "\n",
    "Express a pressure of $2.00 \\times 10^5$ Pa in terms of mm Hg.\n",
    "\n",
    "#### Solution\n",
    "Solve for $P_h$, assume $g = 9.807 \\text{m/s}^2$. Density of mercury is $13.6 \\times 1000 \\text{kg/m}^3 = 13600 \\text{kg/m}^3$"
   ]
  },
  {
   "cell_type": "code",
   "execution_count": 1,
   "metadata": {
    "collapsed": false
   },
   "outputs": [
    {
     "name": "stdout",
     "output_type": "stream",
     "text": [
      "1499.5291478475756 millimeter\n"
     ]
    }
   ],
   "source": [
    "import pint\n",
    "ureg = pint.UnitRegistry()\n",
    "\n",
    "# givens\n",
    "g = 9.807 * ureg.meter / ureg.second**2\n",
    "P = 2 * 10**5 * ureg.pascal\n",
    "rho_hg = 13600 * ureg.kilogram / ureg.meter**3\n",
    "\n",
    "# P = rho * g * head\n",
    "# => head = P / (rho * g)\n",
    "\n",
    "head = P / (rho_hg * g)\n",
    "print(head.to(ureg.millimeter))"
   ]
  },
  {
   "cell_type": "markdown",
   "metadata": {},
   "source": [
    "### Example 3.4-2 Pressure below the surface of a fluid\n",
    "\n",
    "What is the pressure 30.0 m below the surface of a lake? Atmospheric pressure is 10.4 m H20 and the density of water is 1000 kg/m^3. Assume g is 9.807 m/s^2"
   ]
  },
  {
   "cell_type": "code",
   "execution_count": 2,
   "metadata": {
    "collapsed": false
   },
   "outputs": [
    {
     "name": "stdout",
     "output_type": "stream",
     "text": [
      "396196.4472410455 newton / meter ** 2\n",
      "396.19644724104546 kilopascal\n"
     ]
    }
   ],
   "source": [
    "# solution method 1\n",
    "# import pint\n",
    "# ureg = pint.UnitRegistry()\n",
    "\n",
    "#givens\n",
    "rho = 1000 * ureg.kilogram / ureg.meter**3\n",
    "g = 9.807 * ureg.meter / ureg.second**2\n",
    "\n",
    "# convert P0 from m H20 to N/m^2 using conversion table\n",
    "P0 = 10.4 * ureg.meter\n",
    "P0 = P0 * (1.013 * 10**5 * ureg.newton / ureg.meter**2) / (10.33 * ureg.meter)\n",
    "\n",
    "h = 30 * ureg.meter\n",
    "\n",
    "# head = P0 + rho g h\n",
    "head = P0 + rho * g * h\n",
    "print(head)\n",
    "print(head.to(ureg.kilopascal))"
   ]
  },
  {
   "cell_type": "code",
   "execution_count": 3,
   "metadata": {
    "collapsed": false
   },
   "outputs": [
    {
     "name": "stdout",
     "output_type": "stream",
     "text": [
      "40.4 meter\n",
      "396.1781219748305 kilopascal\n"
     ]
    }
   ],
   "source": [
    "# solution method 2\n",
    "# import pint\n",
    "# ureg = pint.UnitRegistry()\n",
    "\n",
    "# head = P0 + h(in m H20)\n",
    "head = 10.4 * ureg.meter + 30 * ureg.meter\n",
    "print(head)\n",
    "\n",
    "# verify by converting to kPa\n",
    "head = head * (1.013 * 10**5 * ureg.newton / ureg.meter**2) / (10.33 * ureg.meter)\n",
    "print(head.to(ureg.kilopascal))"
   ]
  },
  {
   "cell_type": "markdown",
   "metadata": {},
   "source": [
    "### Test Yourself\n",
    "#### Problem 1\n",
    "Define (a) the pressure of a fluid flowing in a pipe, (b) hydrostatic pressure, and (c) a head of a fluid corresponding to a given pressure"
   ]
  },
  {
   "cell_type": "markdown",
   "metadata": {},
   "source": [
    "#### Solution 1\n",
    "- pressure of a fluid in a pipe is the amount of force over an area, A, required to keep fluid from emerging out of the pipe\n",
    "- hydrostatic pressure is the amount of force at the base exerted by the fluid and any surface pressure\n",
    "- head of corresponding fluid is the height of the fluid that would exert the given pressure at its base if the pressure at the top were zero"
   ]
  },
  {
   "cell_type": "markdown",
   "metadata": {},
   "source": [
    "#### Problem 2\n",
    "Consider the tank in Fig. 3.4-1. Does the pressure at the plug depend on the height of the opening in the tank? Why? Would you expect the difference between the pressure at the top and that at the bottom to be very large if the fluid were air? How about water? Mercury?\n",
    "\n",
    "#### Solution 2\n",
    "Yes, if the plug is at the top of the tank, then there is more force pushing the fluid down and thus it is less likely to emerge. As the density increases, the pressure difference at the top and bottom will increase. The size of the increase will depend on the tank size."
   ]
  },
  {
   "cell_type": "markdown",
   "metadata": {},
   "source": [
    "#### Problem 3\n",
    "Suppose the pressure in the tank of Figure 3.4-1 is given as 1300 mm Hg. Does this tell you anything about the height of the tank? If you were given the area of the hole (say 4 cm^2) how would you calculate the force needed to hold the plug in the hole?\n",
    "\n",
    "#### Solution 3\n",
    "\n",
    "No, it does not tell anything about the height of the vessel since the fluid could be anything and thus its size can vary. To calculate the force needed to hold the plug, you would simply solve the equation P = F/A where we now know P = 1300 mm Hg (which can be converted to Pa or dynes/cm^2) and A = 4 cm^2"
   ]
  },
  {
   "cell_type": "markdown",
   "metadata": {},
   "source": [
    "#### Problem 4\n",
    "Suppose the pressure at a point within a column of mercury in a tube is 74 mm Hg. What is the pressure 5 mm below this point?\n",
    "\n",
    "#### Solution 4\n",
    "Pressure is 79 mm Hg (which can be converted to different units if desired). 5 mm lower means more fluid to exert force and thus increase in pressure."
   ]
  },
  {
   "cell_type": "markdown",
   "metadata": {},
   "source": [
    "## 3.4b Atmospheric Pressure, Absolute Pressure, and Gauge Pressure\n",
    "\n",
    "** atmospheric pressure ** - pressure at the base of a column of fluid (air) located at the point of measurement (sea level).\n",
    "\n",
    "$$ P = P_0 + \\rho g h $$\n",
    "\n",
    "where $P_0 = 0$, $\\rho$ and $g$ are average values of density of air and acceleration of gravity between top of the atmosphere and the measurement point.\n",
    "\n",
    "Typical value at sea level is 760.0 mm Hg = 1 atmosphere.\n",
    "\n",
    "- ** absolute pressure ** - pressure of zero refers to vacuum\n",
    "- ** gauge pressure ** - pressure of zero indicates atmospheric pressure (all relative to atmospheric pressure).\n",
    "\n",
    "$$ P_{\\text{absolute}} = P_{\\text{gauge}} + P_{\\text{atmospheric}} $$\n",
    "\n",
    "commonly use psia and psig to denote absolute and gauge in lbf/in^2. Negative gauge pressure is also called positive amounts of vacuum.\n",
    "\n",
    "-1 cm Hg = +1 cm of vacuum ( = 75.0 cm Hg absolute if atmospheric is 76 cm Hg)"
   ]
  },
  {
   "cell_type": "markdown",
   "metadata": {},
   "source": [
    "### Test Yourself\n",
    "#### Problem 1\n",
    "Is atmospheric pressure always equal to 1 atm?\n",
    "#### Solution 1\n",
    "No, it is a defined standard\n",
    "\n",
    "#### Problem 2\n",
    "What is absolute pressure? gauge pressure?\n",
    "#### Solution 2\n",
    "- Absolute pressure is when zero indicates vacuum\n",
    "- Gauge pressure is relative to atmospheric pressure, zero indicates atmospheric pressure\n",
    "\n",
    "#### Problem 3\n",
    "The gauge pressure of a gas is -20 mm Hg at a point where atmospheric pressure is 755 Hg. How else can the gas pressure be expressed in terms of mm Hg?\n",
    "#### Solution 3\n",
    "- Can be 20 mm Hg of vacuum or 735 mm Hg absolute\n",
    "\n",
    "#### Problem 4\n",
    "A mercury column is open to the atmosphere on a day when atmospheric pressure is 29.9 in Hg. What is the gauge pressure 4 in. below the surface? Absolute pressure? \n",
    "#### Solution 4\n",
    "- Gauge is 4 in Hg\n",
    "- Absolute is 33.9 in Hg"
   ]
  },
  {
   "cell_type": "markdown",
   "metadata": {},
   "source": [
    "# 3.4c Fluid Pressure Measurement\n",
    "\n",
    "Pressure-measurement devices are categorized as:\n",
    "- elastic-element methods - Bourdon tubes, bellows, or diaphragms\n",
    "- liquid-column methods - manometers\n",
    "- electrical methods - strain gauges, piezoresistive transducers, and piezoelectric transducers\n",
    "\n",
    "Most common is ** Bourdon gauge ** which is a hollow tube closed at one end and bent into a C configuration. The open end is exposed to the fluid whose pressure is being measured. As pressure increases, the tube tends to straighten, causing a pointer attached to the tube to rotate. The position of the pointer on a calibrated dial gives the gauge pressure of the fluid. It can measure from near 0 atm to 7000 atm. Beacuse of its wide range, anything less than 3 atm is better measured by manometers.\n",
    "\n",
    "A manometer is a U-shaped tube partially filled with a fluid of known density (the ** manometer fluid **). When the ends of the tube are exposed to different pressures, the high-pressure side level drops and low-pressure side rises. The different between the pressures can be calculated from the difference between liquid levels in each arm\n",
    "\n",
    "** Open-end manometers **: one end is exposed to a fluid whose pressure is measured, the other is open to the atmosphere. \n",
    "\n",
    "** Differential manometer **: used to measure pressure different between two points in a process line.\n",
    "\n",
    "** Sealed-end manometer **: has a near-vacuum enclosed at one end. If the open end of a sealed-end manometer is exposed to the atmosphere ($P_1 = P_{\\text{atm}}$) then the device functions as a ** barometer **.\n",
    "\n",
    "Formula that relates P_1 - P_2 to fluid levels is based on principle that the fluid pressure must be the same at any two points at the same height in a continuous fluid. * the pressure at the height of the lower surface of a manometer fluid is the same in both arms of the manometer *. \n",
    "\n",
    "** General Manometer Equation **:\n",
    "\n",
    "$$ P_1 + \\rho_1 g d_1 = P_2 + \\rho_2 g d_2 + \\rho_f g h $$\n",
    "\n",
    "In a differential manometer, fluids 1 and 2 are the same; $ \\rho_1 = \\rho_2 = \\rho $. This reduces to:\n",
    "\n",
    "** Differential Manometer Equation:\n",
    "\n",
    "$$ P_1 - P_2 = (\\rho_f - \\rho) g h $$\n",
    "\n",
    "If one arm is open to gas, density of fluid is much greater than that end and $ \\rho g d $ term may be neglected. If both arms are open to gasses, equation becomes\n",
    "\n",
    "$$ P_1 - P_2 = \\rho_f g h $$\n",
    "\n",
    "If both $P_1$ and $P_2$ are expressed as heads, then\n",
    "\n",
    "** Manometer Formula for Gases:\n",
    "\n",
    "$$ P_1 - P_2 = h $$\n",
    "\n",
    "*Note: If $P_2$ is atmospheric pressure, then the gauge pressure at point 1 is simply the difference in the levels of the manometer fluid*"
   ]
  },
  {
   "cell_type": "markdown",
   "metadata": {
    "collapsed": true
   },
   "source": [
    "### Example 3.4-3 Pressure measurement with manometers\n",
    "\n",
    "#### Problem 1\n",
    "A differential manometer is used to measure the drop in pressure between two points in a process line containing water. The specific gravity of the manometer fluid is 1.05. THe measured levels in each arm are shown below. Calculate the pressure drop between points 1 and 2 in dynes/cm^2."
   ]
  },
  {
   "cell_type": "code",
   "execution_count": 5,
   "metadata": {
    "collapsed": false
   },
   "outputs": [
    {
     "name": "stdout",
     "output_type": "stream",
     "text": [
      "39.22800000000004 dyne / centimeter ** 2\n"
     ]
    }
   ],
   "source": [
    "# Solution 1\n",
    "# import pint\n",
    "# ureg = pint.UnitRegistry()\n",
    "\n",
    "# Givens (some from image in book)\n",
    "h = 382 * ureg.millimeter - 374 * ureg.millimeter\n",
    "rho = 1 * ureg.gram / ureg.centimeter**3\n",
    "rhof = 1.05 * ureg.gram / ureg.centimeter**3\n",
    "g = 9.807 * ureg.meter / ureg.second**2\n",
    "\n",
    "# P1 - P2 = (rhof - rho)* g * h\n",
    "Pdiff = (rhof - rho) * g * h\n",
    "print(Pdiff.to(ureg.dyne / ureg.centimeter**2))"
   ]
  },
  {
   "cell_type": "markdown",
   "metadata": {},
   "source": [
    "#### Problem 2\n",
    "The pressure of gas being pulled through a line by a vacuum pump is measured with an open-end mercury manometer. A reading of -2 in. is obtained. What is the gas gauge pressure in inches of mercury? What is the absolute pressure if P_atm = 30 in. Hg?"
   ]
  },
  {
   "cell_type": "markdown",
   "metadata": {},
   "source": [
    "#### Solution 2\n",
    "P1 - Patm = Pgauge = -2 in. Hg\n",
    "\n",
    "P1 = Patm + Pgauge = 30 - 2 in Hg = 28 in. Hg"
   ]
  },
  {
   "cell_type": "markdown",
   "metadata": {},
   "source": [
    "### Test Yourself\n",
    "\n",
    "#### Problem 1\n",
    "What is a Bourdon gauge? What range of pressures can it measure? As it is normally calibrated, does it measure gauge or absolute pressure?\n",
    "\n",
    "#### Solution 1\n",
    "- A Bourdon gauge is a device to measure pressure\n",
    "- It can measure from near vacuum (0 atm) to 7000 atm\n",
    "- It normally measures gauge pressures"
   ]
  },
  {
   "cell_type": "markdown",
   "metadata": {},
   "source": [
    "#### Problem 2\n",
    "What is an open-end manometer? A differenetial manometer? A sealed-end manometer?\n",
    "\n",
    "#### Solution 2\n",
    "- an open-end manometer has one side open to the atmosphere\n",
    "- a differential manometer has each end on different points in a process to measure to pressure difference.\n",
    "- a sealed-end manometer has one end at near vacuum"
   ]
  },
  {
   "cell_type": "markdown",
   "metadata": {},
   "source": [
    "#### Problem 3\n",
    "True or false?\n",
    "- An open-end manometer provides a direct reading of the gauge pressure of a gas?\n",
    "- A sealed-end manometer provides a direct reading of absolute pressure of a gas, provided that the gas pressure in the sealed end may be neglected\n",
    "- The reading of a differential manometer does not depend on the density of the fluid in the pipeline but only on that of the manometer fluid\n",
    "\n",
    "#### Solution 3\n",
    "- True\n",
    "- True\n",
    "- False"
   ]
  },
  {
   "cell_type": "markdown",
   "metadata": {},
   "source": [
    "#### Problem 4\n",
    "The pressure of a gas in a pipeline is measured with an open-end mercury manometer. The mercury level in the arm connected to the line is 14 mm higher than the level in the open arm. What is the gauge pressure of the gas in the line?\n",
    "\n",
    "#### Solution 4\n",
    "-14 mm Hg "
   ]
  },
  {
   "cell_type": "code",
   "execution_count": null,
   "metadata": {
    "collapsed": true
   },
   "outputs": [],
   "source": []
  }
 ],
 "metadata": {
  "kernelspec": {
   "display_name": "Python 3",
   "language": "python",
   "name": "python3"
  },
  "language_info": {
   "codemirror_mode": {
    "name": "ipython",
    "version": 3
   },
   "file_extension": ".py",
   "mimetype": "text/x-python",
   "name": "python",
   "nbconvert_exporter": "python",
   "pygments_lexer": "ipython3",
   "version": "3.5.1"
  }
 },
 "nbformat": 4,
 "nbformat_minor": 0
}
