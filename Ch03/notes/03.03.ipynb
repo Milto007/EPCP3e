{
 "cells": [
  {
   "cell_type": "markdown",
   "metadata": {},
   "source": [
    "# 3.3 Chemical Composition\n",
    "## 3.3a Moles and Molecular Weight\n",
    "\n",
    "- ** atomic weight ** - mass of an atom on a scale that assigns C12 a mass of exactly 12\n",
    "- ** molecular weight ** - sum of the atomic weights of the atoms that constitute a molecule of the compound\n",
    "- ** gram-mole or mol** - amount of that species whose mass (in grams) is numerically equal to its molecular weight\n",
    "\n",
    "If the molecular weight of a substance is M then there are M kg/kmol, M g/mol, and M lbm/lb-mole of this substance. \n",
    "\n",
    "One gram-mole of any species contains about $ 6.02\\times10^{23} $ molecules of that species"
   ]
  },
  {
   "cell_type": "markdown",
   "metadata": {},
   "source": [
    "### Example 3.3-1 Conversion between mass and moles\n",
    "How many of each of the following are contained in 100 g of CO2 (M = 44.01)?\n",
    "\n",
    "#### Problem 1\n",
    "mol CO2"
   ]
  },
  {
   "cell_type": "code",
   "execution_count": 1,
   "metadata": {
    "collapsed": false
   },
   "outputs": [
    {
     "data": {
      "text/html": [
       "2.2722108611679164 mole"
      ],
      "text/latex": [
       "$2.2722108611679164 mole$"
      ],
      "text/plain": [
       "<Quantity(2.2722108611679164, 'mole')>"
      ]
     },
     "execution_count": 1,
     "metadata": {},
     "output_type": "execute_result"
    }
   ],
   "source": [
    "# Solution 1\n",
    "import pint\n",
    "ureg = pint.UnitRegistry()\n",
    "\n",
    "100 * ureg.gram * (1 * ureg.mole / (44.01 * ureg.gram))"
   ]
  },
  {
   "cell_type": "markdown",
   "metadata": {},
   "source": [
    "#### Problem 2\n",
    "lb-moles CO2"
   ]
  },
  {
   "cell_type": "code",
   "execution_count": 2,
   "metadata": {
    "collapsed": false
   },
   "outputs": [
    {
     "data": {
      "text/html": [
       "0.005011022927689594 mole"
      ],
      "text/latex": [
       "$0.005011022927689594 mole$"
      ],
      "text/plain": [
       "<Quantity(0.005011022927689594, 'mole')>"
      ]
     },
     "execution_count": 2,
     "metadata": {},
     "output_type": "execute_result"
    }
   ],
   "source": [
    "# import pint\n",
    "# ureg = pint.UnitRegistry()\n",
    "\n",
    "2.273 * ureg.mole * (1 * ureg.mole / (453.6 * ureg.mole))"
   ]
  },
  {
   "cell_type": "markdown",
   "metadata": {},
   "source": [
    "#### Problem 3\n",
    "mol C\n",
    "#### Problem 4\n",
    "mol O\n",
    "#### Problem 5\n",
    "mol O2\n",
    "#### Solution 3, 4, and 5\n",
    "Each molecule of CO2 has 1 C atom and 1 O2 molecule, therefore:\n",
    "- 2.273 mol C\n",
    "- 2.273 $\\times$ 2 = 4.546 mol O\n",
    "- 2.273 mole O2"
   ]
  },
  {
   "cell_type": "markdown",
   "metadata": {},
   "source": [
    "#### Problem 6\n",
    "g O"
   ]
  },
  {
   "cell_type": "code",
   "execution_count": 3,
   "metadata": {
    "collapsed": false
   },
   "outputs": [
    {
     "data": {
      "text/html": [
       "72.736 gram"
      ],
      "text/latex": [
       "$72.736 gram$"
      ],
      "text/plain": [
       "<Quantity(72.736, 'gram')>"
      ]
     },
     "execution_count": 3,
     "metadata": {},
     "output_type": "execute_result"
    }
   ],
   "source": [
    "# import pint\n",
    "# ureg = pint.UnitRegistry()\n",
    "\n",
    "4.546 * ureg.mole * (16 * ureg.gram / (1 * ureg.mole))"
   ]
  },
  {
   "cell_type": "markdown",
   "metadata": {},
   "source": [
    "#### Problem 7\n",
    "g O2"
   ]
  },
  {
   "cell_type": "code",
   "execution_count": 4,
   "metadata": {
    "collapsed": false
   },
   "outputs": [
    {
     "data": {
      "text/html": [
       "72.736 gram"
      ],
      "text/latex": [
       "$72.736 gram$"
      ],
      "text/plain": [
       "<Quantity(72.736, 'gram')>"
      ]
     },
     "execution_count": 4,
     "metadata": {},
     "output_type": "execute_result"
    }
   ],
   "source": [
    "# import pint\n",
    "# ureg = pint.UnitRegistry()\n",
    "\n",
    "2.273 * ureg.mole * (32 * ureg.gram / (1 * ureg.mole))"
   ]
  },
  {
   "cell_type": "markdown",
   "metadata": {},
   "source": [
    "#### Problem 8\n",
    "molecules of CO2"
   ]
  },
  {
   "cell_type": "code",
   "execution_count": 5,
   "metadata": {
    "collapsed": false
   },
   "outputs": [
    {
     "data": {
      "text/html": [
       "1.368346e+24 count"
      ],
      "text/latex": [
       "$1.368346e+24 count$"
      ],
      "text/plain": [
       "<Quantity(1.368346e+24, 'count')>"
      ]
     },
     "execution_count": 5,
     "metadata": {},
     "output_type": "execute_result"
    }
   ],
   "source": [
    "# import pint\n",
    "# ureg = pint.UnitRegistry()\n",
    "\n",
    "# use ureg.count for molecules\n",
    "2.273 * ureg.mole * (6.02 * 10**23 * ureg.count / (1 * ureg.mole))"
   ]
  },
  {
   "cell_type": "markdown",
   "metadata": {},
   "source": [
    "### Test Yourself\n",
    "#### Problem 1\n",
    "What is a mol of a species of moelcular weight M, in terms of\n",
    "- Number of molcules\n",
    "- a mass\n",
    "\n",
    "#### Solution 1\n",
    "Info:\n",
    "\n",
    "- 1 mol A\n",
    "- M g/mol A\n",
    "- 1 mol = 6.02 $\\times 10^{23}$\n",
    "\n",
    "Answer:\n",
    "\n",
    "- $6.02 \\times 10^{23}$ molecules\n",
    "- M grams of A"
   ]
  },
  {
   "cell_type": "markdown",
   "metadata": {},
   "source": [
    "#### Problem 2 \n",
    "What is a ton-mole of a species?\n",
    "\n",
    "#### Solution 2\n",
    "Amount of that species whose mass (in tons) is numerically equal to its molecular weight"
   ]
  },
  {
   "cell_type": "markdown",
   "metadata": {},
   "source": [
    "#### Problem 3\n",
    "How many lb-moles and lbm of \n",
    "\n",
    "- H2\n",
    "- H\n",
    "\n",
    "are contained in 1 lb-mole of H20?\n",
    "\n",
    "#### Solution 3\n",
    "1 lb-mole of H20 has 1 lb-mole of H2 therefore 2 lb-moles of H\n",
    "\n",
    "Molecular weight of H is 1 lb/lb-mol so 1 lb-mole of H20 has 1 lbm of H2 and 2 lb-mole of H"
   ]
  },
  {
   "cell_type": "markdown",
   "metadata": {},
   "source": [
    "#### Problem 4\n",
    "How many gram-moles of C3H8 are contained in 2 kmol of this substance?\n",
    "\n",
    "#### Solution 4\n",
    "2 kmol = 2000 moles"
   ]
  },
  {
   "cell_type": "markdown",
   "metadata": {},
   "source": [
    "#### Problem 5\n",
    "100 kg of H2 is fed into a reactor each hour. What is the molar flow rate of this stream in a gram-moles/hr?\n",
    "\n",
    "#### Solution 5\n",
    "- 1 g/mol H\n",
    "\n",
    "100 kg H2 = 50 kg H\n",
    "\n",
    "50,000 g H/hr / (1 g/mol H) = 50 000 gram-moles/hr"
   ]
  },
  {
   "cell_type": "markdown",
   "metadata": {},
   "source": [
    "## 3.3b Mass and Mole Fractions and Average Molecular Weight\n",
    "\n",
    "Process streams usually contain multiple susbtances so it is sometimes best to describe species A as ** Mass Fraction ** or ** Mole Fraction **\n",
    "\n",
    "- Mass Fraction \n",
    "$x_A = \n",
    "\\frac{\\text{mass of A}}{\\text{total mass}}\n",
    "(\\frac{\\text{kg A}}{\\text{kg total}}$ or \n",
    "$\\frac{\\text{g A}}{\\text{g total}}$ or \n",
    "$\\frac{\\text{lbm A}}{\\text{lbm total}}$)\n",
    "- Mole Fraction\n",
    "$y_A = \n",
    "\\frac{\\text{moles of A}}{\\text{total moles}}\n",
    "(\\frac{\\text{kmol A}}{\\text{kmol total}}$ or \n",
    "$\\frac{\\text{mol A}}{\\text{mol total}}$ or \n",
    "$\\frac{\\text{lb-moles A}}{\\text{lb-moles total}}$)\n",
    "\n",
    "\n",
    "- ** percent by mass ** of A is 100 $x_A$\n",
    "- ** mole percent ** of A is 100$y_A$"
   ]
  },
  {
   "cell_type": "markdown",
   "metadata": {},
   "source": [
    "### Example 3.3-2 Conversions using mass and mole fractions\n",
    "\n",
    "A solution contains 15% by mass ($x_A = 0.15$) and 20 mole% B ($y_B = 0.20$).\n",
    "\n",
    "#### Problem 1\n",
    "Calculate the mass of A in 175 kg of the solution"
   ]
  },
  {
   "cell_type": "code",
   "execution_count": 6,
   "metadata": {
    "collapsed": false
   },
   "outputs": [
    {
     "name": "stdout",
     "output_type": "stream",
     "text": [
      "26.25 kilogram\n"
     ]
    }
   ],
   "source": [
    "# import pint\n",
    "# ureg = pint.UnitRegistry()\n",
    "\n",
    "m_A = 175 * ureg.kilogram\n",
    "xa = 0.15\n",
    "print(m_A * xa)"
   ]
  },
  {
   "cell_type": "markdown",
   "metadata": {},
   "source": [
    "#### Problem 2\n",
    "Calc the mass flow rate of A in a stream of solution flowing at a rate of 53 lbm/h"
   ]
  },
  {
   "cell_type": "code",
   "execution_count": 7,
   "metadata": {
    "collapsed": false
   },
   "outputs": [
    {
     "name": "stdout",
     "output_type": "stream",
     "text": [
      "7.949999999999999 pound / hour\n"
     ]
    }
   ],
   "source": [
    "# xa previously defined so it is commented instead\n",
    "mflow_a = 53 * ureg.pound / ureg.hour\n",
    "# xa = 0.15\n",
    "print(mflow_a * xa)"
   ]
  },
  {
   "cell_type": "markdown",
   "metadata": {},
   "source": [
    "#### Problem 3\n",
    "Calc the molar flow rate of B in a stream flowing at a rate of 1000 mol/min."
   ]
  },
  {
   "cell_type": "code",
   "execution_count": 8,
   "metadata": {
    "collapsed": false
   },
   "outputs": [
    {
     "name": "stdout",
     "output_type": "stream",
     "text": [
      "200.0 count / hour\n"
     ]
    }
   ],
   "source": [
    "# ureg.count used for moles\n",
    "nflow_a = 1000 * ureg.count / ureg.hour\n",
    "yb = 0.20\n",
    "print(nflow_a * yb)"
   ]
  },
  {
   "cell_type": "markdown",
   "metadata": {},
   "source": [
    "#### Problem 4\n",
    "Calc the total solution flow rate that corresponds to a molar flow rate of 28 kmol B/s"
   ]
  },
  {
   "cell_type": "code",
   "execution_count": 9,
   "metadata": {
    "collapsed": false
   },
   "outputs": [
    {
     "name": "stdout",
     "output_type": "stream",
     "text": [
      "140000.0 count / second\n"
     ]
    }
   ],
   "source": [
    "# ureg.count used for mol\n",
    "# yb previously defined\n",
    "nflow_b = 28 * 1000 * ureg.count / ureg.second\n",
    "# yb = 0.2\n",
    "\n",
    "# answer will be in mol/second, not kmol\n",
    "print(nflow_b / yb)"
   ]
  },
  {
   "cell_type": "markdown",
   "metadata": {},
   "source": [
    "#### Problem 5\n",
    "Calc the mass of the solution that contains 300 lbm of A"
   ]
  },
  {
   "cell_type": "code",
   "execution_count": 10,
   "metadata": {
    "collapsed": false
   },
   "outputs": [
    {
     "name": "stdout",
     "output_type": "stream",
     "text": [
      "2000.0 pound\n"
     ]
    }
   ],
   "source": [
    "# xa previously defined\n",
    "m_a = 300 * ureg.pound\n",
    "# xa = 0.15\n",
    "print(m_a / xa)"
   ]
  },
  {
   "cell_type": "markdown",
   "metadata": {},
   "source": [
    "** basis of calculation ** - an assumed mass of a mixuture\n",
    "\n",
    "Set of mass fractions can be converted to mole fractions by:\n",
    "\n",
    "- assuming basis of calculation\n",
    "- using known mass fracs to calc the mass of each component in the basis quantity, converting these masses to moles\n",
    "- taking ratio of moles of each component to total number of moles"
   ]
  },
  {
   "cell_type": "markdown",
   "metadata": {},
   "source": [
    "### Example 3.3-3 Conversion from a composition by mass to a molar composition\n",
    "\n",
    "A mixuture of gases has the following composition by mass:\n",
    "\n",
    "| Component | Mass% |\n",
    "|-----------|-------|\n",
    "| O2        | 16    |  \n",
    "| CO        | 4.0   |\n",
    "| CO2       | 17    |\n",
    "| N2        | 63    |\n",
    "\n",
    "($x_{O_2} = 0.16$ g $\\text{O}_2$/g total)\n",
    "\n",
    "What is the molar composition?"
   ]
  },
  {
   "cell_type": "code",
   "execution_count": 11,
   "metadata": {
    "collapsed": false
   },
   "outputs": [
    {
     "name": "stdout",
     "output_type": "stream",
     "text": [
      "0.15247524752475247 dimensionless\n",
      "0.04356435643564356 dimensionless\n",
      "0.11782178217821783 dimensionless\n",
      "0.6861386138613862 dimensionless\n"
     ]
    }
   ],
   "source": [
    "# Solution\n",
    "# import pint\n",
    "# ureg = pint.UnitRegistry()\n",
    "\n",
    "# Basis = 100 g of mixture\n",
    "basis = 100 * ureg.gram\n",
    "\n",
    "# mass fracs\n",
    "xo2 = 0.16\n",
    "xco = 0.04\n",
    "xco2 = 0.17\n",
    "xn2 = 0.63\n",
    "\n",
    "assert(xo2 + xco + xco2 + xn2 == 1)\n",
    "\n",
    "# find masses\n",
    "mo2 = xo2 * basis\n",
    "mco = xco * basis\n",
    "mco2 = xco2 * basis\n",
    "mn2 = xn2 * basis\n",
    "\n",
    "assert(mo2 + mco + mco2 + mn2 == 100 * ureg.gram)\n",
    "\n",
    "# molecular weight, use ureg.count for mol\n",
    "Mo2 = 32 * ureg.gram / ureg.count\n",
    "Mco = 28 * ureg.gram / ureg.count\n",
    "Mco2 = 44 * ureg.gram / ureg.count\n",
    "Mn2 = 28 * ureg.gram / ureg.count\n",
    "\n",
    "# find moles, ni = mi/Mi\n",
    "no2 = mo2 / Mo2\n",
    "nco = mco / Mco\n",
    "nco2 = mco2 / Mco2\n",
    "nn2 = mn2 / Mn2\n",
    "\n",
    "# find mole fracs, yi = ni / ntotal\n",
    "ntotal = no2 + nco + nco2 + nn2\n",
    "\n",
    "yo2 = no2 / ntotal\n",
    "yco = nco / ntotal\n",
    "yco2 = nco2 / ntotal\n",
    "yn2 = nn2 / ntotal\n",
    "\n",
    "assert(yo2 + yco + yco2 + yn2 == 1)\n",
    "\n",
    "print(yo2)\n",
    "print(yco)\n",
    "print(yco2)\n",
    "print(yn2)"
   ]
  },
  {
   "cell_type": "markdown",
   "metadata": {},
   "source": [
    "** average molecular weight ** - of a mixture, $\\bar{M}$ (kg/kmol, lb/lb-mol, etc) is the ratio of the mass of a sample of the mixutre (mt) to the number of moles of all species (nt) in the sample. \n",
    "\n",
    "$$ \\bar{M} = y_1M_1 + y_2M_2 + ... = \\sum{y_iM_i} $$\n",
    "\n",
    "If xi is the mass fraction of the ith component, then \n",
    "\n",
    "\n",
    "$$ \\frac{1}{\\bar{M}} = \\frac{x_1}{M_1} + \\frac{x_2}{M_2} + ... =\n",
    "\\sum{\\frac{x_i}{M_i}} $$"
   ]
  },
  {
   "cell_type": "markdown",
   "metadata": {},
   "source": [
    "### Example 3.3-4 Calculation of an average molecular weight\n",
    "\n",
    "Calculate the average molecular weight of air (1) from its approximate molar composition of 70% N2, 21% O2 and (2) from its approximate composition by mass of 76.7% N2, 23.3% O2"
   ]
  },
  {
   "cell_type": "code",
   "execution_count": 12,
   "metadata": {
    "collapsed": false
   },
   "outputs": [
    {
     "name": "stdout",
     "output_type": "stream",
     "text": [
      "28.84 kilogram / count\n"
     ]
    }
   ],
   "source": [
    "# Solution to 1\n",
    "# import pint\n",
    "# ureg = pint.UnitRegistry()\n",
    "\n",
    "# mole fracs\n",
    "yn2 = 0.79\n",
    "yo2 = 0.21\n",
    "\n",
    "assert(yn2 + yo2 == 1)\n",
    "\n",
    "# molecular weights\n",
    "Mn2 = 28 * ureg.kilogram / ureg.count\n",
    "Mo2 = 32 * ureg.kilogram / ureg.count\n",
    "\n",
    "Mbar = yn2 * Mn2 + yo2 * Mo2\n",
    "print(Mbar)"
   ]
  },
  {
   "cell_type": "code",
   "execution_count": 13,
   "metadata": {
    "collapsed": false
   },
   "outputs": [
    {
     "name": "stdout",
     "output_type": "stream",
     "text": [
      "28.83996395004506 kilogram / count\n"
     ]
    }
   ],
   "source": [
    "# solution to 2 \n",
    "# mass fracs\n",
    "xn2 = 0.767\n",
    "xo2 = 0.233\n",
    "\n",
    "assert (xn2 + xo2 == 1)\n",
    "\n",
    "Mbar_inv = xn2 / Mn2 + xo2 / Mo2\n",
    "print(1/Mbar_inv)"
   ]
  },
  {
   "cell_type": "markdown",
   "metadata": {},
   "source": [
    "### Test Yourself\n",
    "#### Problem 1\n",
    "The molecular weight of atomic hydrogen is approx. 1, atomic bromie is 80. What are (a) the mass fraction and (b) mole fraction of bromine in pure HBr?"
   ]
  },
  {
   "cell_type": "code",
   "execution_count": 14,
   "metadata": {
    "collapsed": false
   },
   "outputs": [
    {
     "name": "stdout",
     "output_type": "stream",
     "text": [
      "mass fracs:\n",
      "0.012345679012345678 dimensionless\n",
      "0.9876543209876543 dimensionless\n",
      "mol frac of bromine\n",
      "0.5 dimensionless\n"
     ]
    }
   ],
   "source": [
    "# import pint\n",
    "# ureg = pint.UnitRegistry()\n",
    "\n",
    "# molecular weights\n",
    "Mh = 1\n",
    "Mbr = 80\n",
    "\n",
    "# assums basis = 100 grams of mixture\n",
    "basis = 100 * ureg.gram\n",
    "\n",
    "# calc masses\n",
    "mh = Mh * basis\n",
    "mbr = Mbr * basis\n",
    "\n",
    "mtotal = mh + mbr\n",
    "\n",
    "# calc mass fracs\n",
    "xh = mh / mtotal\n",
    "xbr = mbr / mtotal\n",
    "\n",
    "assert (xh + xbr == 1)\n",
    "\n",
    "print(\"mass fracs:\")\n",
    "print(xh)\n",
    "print(xbr)\n",
    "\n",
    "# 1 mole H basis, 1:1 ratioin HBr\n",
    "Mh = 1 * ureg.count\n",
    "Mbr = 1 * ureg.count\n",
    "\n",
    "Mtotal = Mh + Mbr\n",
    "\n",
    "print(\"mol frac of bromine\")\n",
    "print(Mbr / Mtotal)"
   ]
  },
  {
   "cell_type": "markdown",
   "metadata": {},
   "source": [
    "#### Problem 2\n",
    "If 100 lbm/min of A ($M_A = 2$) and 300 lbm/min of B ($M_B = 3$) flow through a pipe, what are the mass fractions and mole fractions of A and B, the mass flow rate of A, the molar flow rate of B, the total mass flow rate, and the total molar flow rate of the mixture?"
   ]
  },
  {
   "cell_type": "code",
   "execution_count": 15,
   "metadata": {
    "collapsed": false
   },
   "outputs": [
    {
     "name": "stdout",
     "output_type": "stream",
     "text": [
      "mass fracs:\n",
      "0.25 dimensionless\n",
      "0.75 dimensionless\n"
     ]
    }
   ],
   "source": [
    "# import pint\n",
    "# ureg = pint.UnitRegistry()\n",
    "\n",
    "mflow_a = 100 * ureg.pound / ureg.minute\n",
    "mflow_b = 300 * ureg.pound / ureg.minute\n",
    "\n",
    "Ma = 2 * ureg.pound / ureg.count\n",
    "Mb = 3 * ureg.pound / ureg.count\n",
    "\n",
    "mflow_total = mflow_a + mflow_b\n",
    "\n",
    "xa = mflow_a / mflow_total\n",
    "xb = mflow_b / mflow_total\n",
    "\n",
    "assert(xa + xb == 1)\n",
    "\n",
    "print(\"mass fracs:\")\n",
    "print(xa)\n",
    "print(xb)"
   ]
  },
  {
   "cell_type": "code",
   "execution_count": 16,
   "metadata": {
    "collapsed": false
   },
   "outputs": [
    {
     "name": "stdout",
     "output_type": "stream",
     "text": [
      "mole fracs:\n",
      "0.3333333333333333 dimensionless\n",
      "0.6666666666666666 dimensionless\n"
     ]
    }
   ],
   "source": [
    "na = mflow_a / Ma\n",
    "nb = mflow_b / Mb\n",
    "\n",
    "ntotal = na + nb\n",
    "\n",
    "ya = na / ntotal\n",
    "yb = nb / ntotal\n",
    "\n",
    "print(\"mole fracs:\")\n",
    "print(ya)\n",
    "print(yb)"
   ]
  },
  {
   "cell_type": "code",
   "execution_count": 17,
   "metadata": {
    "collapsed": false
   },
   "outputs": [
    {
     "name": "stdout",
     "output_type": "stream",
     "text": [
      "mass flow rate of A:\n",
      "100.0 pound / minute\n"
     ]
    }
   ],
   "source": [
    "print(\"mass flow rate of A:\")\n",
    "print(mflow_a)"
   ]
  },
  {
   "cell_type": "code",
   "execution_count": 18,
   "metadata": {
    "collapsed": false
   },
   "outputs": [
    {
     "name": "stdout",
     "output_type": "stream",
     "text": [
      "mole flow rate of B\n",
      "100.0 count / minute\n"
     ]
    }
   ],
   "source": [
    "print(\"mole flow rate of B\")\n",
    "print(nb)"
   ]
  },
  {
   "cell_type": "code",
   "execution_count": 19,
   "metadata": {
    "collapsed": false
   },
   "outputs": [
    {
     "name": "stdout",
     "output_type": "stream",
     "text": [
      "total mass flowrate\n",
      "400.0 pound / minute\n"
     ]
    }
   ],
   "source": [
    "print(\"total mass flowrate\")\n",
    "print(mflow_total)"
   ]
  },
  {
   "cell_type": "code",
   "execution_count": 20,
   "metadata": {
    "collapsed": false
   },
   "outputs": [
    {
     "name": "stdout",
     "output_type": "stream",
     "text": [
      "total molar flow rate of mixture\n",
      "150.0 count / minute\n"
     ]
    }
   ],
   "source": [
    "print(\"total molar flow rate of mixture\")\n",
    "print(ntotal)"
   ]
  },
  {
   "cell_type": "markdown",
   "metadata": {},
   "source": [
    "## 3.3c Concentration\n",
    "\n",
    "- ** mass concentration ** - mass of this component per unit volume of the mixture (g/cm^3, lbm/ft^3, kg/in^3, etc.)\n",
    "- ** molar concentration ** - number of moles of the component per unit volume of the mixture (kmol/m^3, lb-moles/ft^3, etc.)\n",
    "- ** molarity ** - value of the molar concentration of the solute expressed in gram-moles solute/liter solution (2-molar solution of A contains 2 mol A/liter solution).\n",
    "\n",
    "For example, 0.02-molar solution of NaOH: 5 L of this solution contains\n",
    "\n",
    "$$ \n",
    "5 \\text{L} \\times \n",
    "\\frac{0.02 \\text{ mol NaOH}}{1 \\text{L}} = \n",
    "0.1 \\text{ mol NaOH} \n",
    "$$\n",
    "\n",
    "if this solution flows at a rate of 2L/min, the molar flow rate of NaOH is\n",
    "\n",
    "$$\n",
    "\\frac{2 \\text{ L}}{\\text{min}} \\times\n",
    "\\frac{0.02 \\text{ mol NaOH}}{1 \\text{ L}} = \n",
    "0.04 \\text{mol NaOH/min}\n",
    "$$"
   ]
  },
  {
   "cell_type": "markdown",
   "metadata": {
    "collapsed": true
   },
   "source": [
    "### Test Yourself\n",
    "A solution with volume V(L) contains n(mol) of a solute A with a molecular weight of $M_A$(g A/mol). In terms of V, n, and $M_A$:\n",
    "#### Problem 1\n",
    "What is the molar concentration of A?\n",
    "\n",
    "#### Problem 2\n",
    "What is the mass concentration of A?"
   ]
  },
  {
   "cell_type": "code",
   "execution_count": 21,
   "metadata": {
    "collapsed": false
   },
   "outputs": [
    {
     "name": "stdout",
     "output_type": "stream",
     "text": [
      "n/V\n"
     ]
    }
   ],
   "source": [
    "# solution 1\n",
    "\n",
    "# molar conc = moles / L\n",
    "print(\"n/V\")"
   ]
  },
  {
   "cell_type": "code",
   "execution_count": 25,
   "metadata": {
    "collapsed": false
   },
   "outputs": [
    {
     "name": "stdout",
     "output_type": "stream",
     "text": [
      "n x Ma / V\n"
     ]
    }
   ],
   "source": [
    "# solution 2\n",
    "\n",
    "# mass conc = mass / vol \n",
    "# mass = mol weight * moles\n",
    "# mass conc = (mol weight * moles) / vol\n",
    "print(\"n x Ma / V\")"
   ]
  },
  {
   "cell_type": "markdown",
   "metadata": {},
   "source": [
    "In terms of $C_A$ (mol A/L) and $c_A$(g A/L):\n",
    "#### Problem 3\n",
    "What volume of the solution contains 20 mol of A?\n",
    "\n",
    "#### Problem 4\n",
    "What is the mass flow rate of A in a stream whose volumetric flow rate is 120 L/h?"
   ]
  },
  {
   "cell_type": "code",
   "execution_count": 23,
   "metadata": {
    "collapsed": false
   },
   "outputs": [
    {
     "name": "stdout",
     "output_type": "stream",
     "text": [
      "n / Ca\n"
     ]
    }
   ],
   "source": [
    "# solution 3\n",
    "\n",
    "# n = 20 moles\n",
    "# V = moles / (mol / L)\n",
    "print(\"n / Ca\")"
   ]
  },
  {
   "cell_type": "code",
   "execution_count": 24,
   "metadata": {
    "collapsed": false
   },
   "outputs": [
    {
     "name": "stdout",
     "output_type": "stream",
     "text": [
      "ca x V\n"
     ]
    }
   ],
   "source": [
    "# solution 4\n",
    "\n",
    "# Vdot = 120 L/h\n",
    "# mdot = (g/L) * (L/hr)\n",
    "print(\"ca x V\")"
   ]
  },
  {
   "cell_type": "markdown",
   "metadata": {},
   "source": [
    "### Example 3.3-5 Conversion between mass, molar, and volumetric flow rates of a solution\n",
    "\n",
    "A 0.50-molar aqueous solution of sulfuric acid flows into a process unit at a rate of 1.25 $m^3/min$. The specific gravity of the solution is 1.03. Calculate:\n",
    "#### Problem 1\n",
    "the mass concentration of $\\text{H}_2\\text{SO}_4$ in kg/m^3\n",
    "#### Problem 2\n",
    "the mass flow rate of $\\text{H}_2\\text{SO}_4$ in kg/s\n",
    "#### Problem 3\n",
    "the mass fraction of $\\text{H}_2\\text{SO}_4$"
   ]
  },
  {
   "cell_type": "code",
   "execution_count": 28,
   "metadata": {
    "collapsed": false
   },
   "outputs": [
    {
     "name": "stdout",
     "output_type": "stream",
     "text": [
      "49.0 kilogram / meter ** 3\n"
     ]
    }
   ],
   "source": [
    "# solution 1\n",
    "# import pint\n",
    "# ureg = pint.UnitRegistry()\n",
    "\n",
    "n = 0.50 * ureg.count / ureg.liter\n",
    "M = 98 * ureg.gram / ureg.count\n",
    "\n",
    "C = (n * M).to(ureg.kilogram / ureg.meter**3)\n",
    "print(C)"
   ]
  },
  {
   "cell_type": "code",
   "execution_count": 29,
   "metadata": {
    "collapsed": false
   },
   "outputs": [
    {
     "name": "stdout",
     "output_type": "stream",
     "text": [
      "1.0208333333333333 kilogram / second\n"
     ]
    }
   ],
   "source": [
    "# solution 2\n",
    "# import pint\n",
    "# ureg = pint.UnitRegistry()\n",
    "\n",
    "V = 1.25 * ureg.meter**3 / ureg.minute\n",
    "\n",
    "m = (V * C).to(ureg.kilogram / ureg.second)\n",
    "print(m)"
   ]
  },
  {
   "cell_type": "code",
   "execution_count": 32,
   "metadata": {
    "collapsed": false
   },
   "outputs": [
    {
     "name": "stdout",
     "output_type": "stream",
     "text": [
      "0.04757281553398058 dimensionless\n"
     ]
    }
   ],
   "source": [
    "# solution 3\n",
    "# import pint\n",
    "# ureg = pint.UnitRegistry()\n",
    "\n",
    "# determine solution's density\n",
    "rho_sln = 1.03 * 1000 * ureg.kilogram / ureg.meter**3\n",
    "\n",
    "# determine solution's mass flow rate\n",
    "m_sln = (V * rho_sln).to(ureg.kilogram/ureg.second)\n",
    "\n",
    "# determine mass fraction\n",
    "x = m / m_sln\n",
    "print(x)"
   ]
  },
  {
   "cell_type": "markdown",
   "metadata": {},
   "source": [
    "## 3.3d Parts Per Million and Parts Per Billion\n",
    "\n",
    "- ** parts per million (ppm) ** and ** parts per billion (ppb) ** - used to express the concentrations of traces species (minute amounts) in mixtures of gases and liquids\n",
    "\n",
    "If $y_i$ is the fraction of component $i$, then by definition:\n",
    "\n",
    "- $\\text{ppm}_i = y_i \\times 10^6 $\n",
    "- $\\text{ppm}_i = y_i \\times 10^9 $\n",
    "\n",
    "For example, suppose air contains 15 ppm SO2. Assuming molar basis, this means every million moles of air contains 15 moles of SO2 or that mole fraction of SO2 in the air is $15 \\times 10^{-6}$"
   ]
  },
  {
   "cell_type": "markdown",
   "metadata": {},
   "source": [
    "### Test Yourself\n",
    "A liquid that is almost entirely water is reported to contain 125 ppb phenol (mass basis).\n",
    "\n",
    "#### Problem 1\n",
    "What is the mass fraction of phenol in the liquid?"
   ]
  },
  {
   "cell_type": "code",
   "execution_count": 38,
   "metadata": {
    "collapsed": false
   },
   "outputs": [
    {
     "name": "stdout",
     "output_type": "stream",
     "text": [
      "1.2500000000000002e-07 dimensionless\n"
     ]
    }
   ],
   "source": [
    "# solution 1\n",
    "# import pint\n",
    "# ureg = pint.UnitRegistry()\n",
    "\n",
    "basis = 1 * ureg.gram\n",
    "\n",
    "# for every 1 g of mixture, there is 125 * 10**-6 g phenol\n",
    "print(125 * 10**-9 * ureg.gram / basis)"
   ]
  },
  {
   "cell_type": "markdown",
   "metadata": {},
   "source": [
    "#### Problem 2\n",
    "How many miligrams of phenol are contained in one kilogram of the liquid?"
   ]
  },
  {
   "cell_type": "code",
   "execution_count": 45,
   "metadata": {
    "collapsed": false
   },
   "outputs": [
    {
     "name": "stdout",
     "output_type": "stream",
     "text": [
      "0.12500000000000003 milligram\n"
     ]
    }
   ],
   "source": [
    "# solution 2\n",
    "# import pint\n",
    "# ureg = pint.UnitRegistry()\n",
    "\n",
    "print((125 * 10**-9 * 1 * ureg.kilogram).to(ureg.milligram))"
   ]
  },
  {
   "cell_type": "markdown",
   "metadata": {},
   "source": [
    "#### Problem 3\n",
    "What is the approximate concetration of phenol in the liquid in g/L?"
   ]
  },
  {
   "cell_type": "code",
   "execution_count": 46,
   "metadata": {
    "collapsed": false
   },
   "outputs": [
    {
     "name": "stdout",
     "output_type": "stream",
     "text": [
      "0.00012500000000000003 gram / liter\n"
     ]
    }
   ],
   "source": [
    "# solution 3\n",
    "# import pint\n",
    "# ureg = pint.UnitRegistry()\n",
    "\n",
    "# mostly water means rho about 1 kg/L\n",
    "\n",
    "# (125 * 10**-9 g phenol / 1 g soln) * kg solution / L\n",
    "print((125 * 10**-9 * 1 * ureg.kilogram / ureg.liter).to(ureg.gram / ureg.liter))"
   ]
  },
  {
   "cell_type": "code",
   "execution_count": null,
   "metadata": {
    "collapsed": true
   },
   "outputs": [],
   "source": []
  }
 ],
 "metadata": {
  "kernelspec": {
   "display_name": "Python 3",
   "language": "python",
   "name": "python3"
  },
  "language_info": {
   "codemirror_mode": {
    "name": "ipython",
    "version": 3
   },
   "file_extension": ".py",
   "mimetype": "text/x-python",
   "name": "python",
   "nbconvert_exporter": "python",
   "pygments_lexer": "ipython3",
   "version": "3.5.1"
  }
 },
 "nbformat": 4,
 "nbformat_minor": 0
}
