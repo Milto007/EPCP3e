{
 "cells": [
  {
   "cell_type": "markdown",
   "metadata": {},
   "source": [
    "# 3.5 Temperature\n",
    "\n",
    "Temperature is measure of average kinetic energy possesed by the substance molecules. Devices to measure (indirectly) are:\n",
    "- ** resistance thermometer ** - measures electrical resistance of a conductor\n",
    "- ** thermocouple ** - measures voltage at junction of two dissimilar metals\n",
    "- ** pyrometer ** - measures spectra of emitter radiation\n",
    "- ** thermometer ** - measures volume of a fixed mass of fluid\n",
    "\n",
    "Easiest to defined a standard scale (i. e 0 = freeze of water at 1 atm; 100 = boiling of water at 1 atm). \n",
    "\n",
    "** degree ** - One unit temperture interval (i. e. 1/100)\n",
    "\n",
    "- ** Celcius (or centigrade) scale ** - T_f is assigned 0C and T_b is 100C. ** Absolute zero ** falls at -273.15C.\n",
    "- ** Fahrenheit scale ** - T_f is assigned 32F and T_b is 212F. Absolute zero falls at -458.96F\n",
    "\n",
    "** Kelvin ** uses scale size of Celcius but defines absolute zero as 0 and ** Rankine ** uses scale size of Fahrenheit but defines absolute zero as 0.\n",
    "\n",
    "$$ T(\\text{K}) = T(\\text{C}) + 273 $$\n",
    "$$ T(\\text{R}) = T(\\text{F}) + 459.67 $$\n",
    "$$ T(\\text{R}) = 1.8T(\\text{C})$$\n",
    "$$ T(\\text{F}) = 1.8T(\\text{C}) + 32 $$"
   ]
  },
  {
   "cell_type": "markdown",
   "metadata": {},
   "source": [
    "## Example 3.5-1 Definition of a temperature conversion formula\n",
    "\n",
    "Derive 3.5-4 for T(F) in terms of T(C). Use T1 = 0C (32F) and T2 = 100C (212F)\n",
    "\n",
    "### Solution \n",
    "\n",
    "T(F) = a T(C) + b\n",
    "\n",
    "- Sub T1:  32 = (a)(0) + b -> b = 32\n",
    "- Sub T2: 212 = (a)(100) + 32 -> a = 1.8\n",
    "\n",
    "T(F) = 1.8T(C) + 32"
   ]
  },
  {
   "cell_type": "markdown",
   "metadata": {},
   "source": [
    "*Note: A degree is both a temperature and a temperature interval*\n",
    "\n",
    "Tempearture **interval** conversions (not temperature conversions):\n",
    "- 1.8F/1C\n",
    "- 1.8R/1K\n",
    "- 1F/1R\n",
    "- 1C/1K\n",
    "\n",
    "These can be used to convert a temperature difference, not a temperature.\n",
    "\n",
    "$$\n",
    "\\Delta T(\\text{C}) = \n",
    "(212 - 32) \\text{F} \\times \n",
    "\\frac{1\\text{C}}{1.8\\text{F}} = \n",
    "100 \\text{C}\n",
    "$$\n",
    "\n",
    "But they cannot be used to convert temperatures\n",
    "\n",
    "$$\n",
    "T(\\text{C}) \\ne\n",
    "32 \\text{F} \\times\n",
    "\\frac{1\\text{C}}{1.8\\text{F}}\n",
    "$$"
   ]
  },
  {
   "cell_type": "markdown",
   "metadata": {},
   "source": [
    "## Test Yourself\n",
    "### Problem 1\n",
    "Suppose you were given a glass tube with mercury in it but no scale markings, and you were given only a beaker of water, a freezer, and a bunsen burner with which to work. How would you calibrate the thermometer to provide readings in C?\n",
    "\n",
    "### Solution 1\n",
    "Freeze water with mercury tube and mark level. This is 0C. Boiling water and use tube then mark the level. This is 100C. Create exactly 99 points equidistance between the two extremes."
   ]
  },
  {
   "cell_type": "markdown",
   "metadata": {},
   "source": [
    "### Problem 2\n",
    "Which is warmer, a temperature of 1C or 1F\n",
    "### Solution 2\n",
    "0C = freezing but 32F = freezing so 1F is way below freezing while 1C is above freezing. Therefore, ** 1C is warmer **"
   ]
  },
  {
   "cell_type": "markdown",
   "metadata": {},
   "source": [
    "### Problem 3\n",
    "Which reflects a greater change in temperature, an increase of 1C or 1F?\n",
    "### Solution 3\n",
    "in Celcius: \n",
    "- 0C = freezing; 100C = boiling\n",
    "- 1C is 1/100 between Tf and Tb\n",
    "\n",
    "in Fahrenheit:\n",
    "- 32F = freezing; 212F = boiling\n",
    "- 1F is (1/(212-32)) between Tf and Tb\n",
    "\n",
    "1C is a greater change in temperature"
   ]
  },
  {
   "cell_type": "markdown",
   "metadata": {},
   "source": [
    "## Example 3.5-2 Temperature conversion\n",
    "\n",
    "Consider the interval from 20F to 80F:\n",
    "- Calculate the equivalent temperatures in C and the interval between them\n",
    "- Calculate directly the interval in C between the temperatures"
   ]
  },
  {
   "cell_type": "code",
   "execution_count": 10,
   "metadata": {
    "collapsed": false
   },
   "outputs": [
    {
     "name": "stdout",
     "output_type": "stream",
     "text": [
      "33.3333333333333\n"
     ]
    }
   ],
   "source": [
    "# solution 1\n",
    "from sympy import *\n",
    "import pint\n",
    "ureg = pint.UnitRegistry()\n",
    "\n",
    "TF = symbols('TF')\n",
    "TC = (TF - 32) / 1.8\n",
    "\n",
    "T1 = TC.subs(TF,20)\n",
    "T2 = TC.subs(TF,80)\n",
    "print(T2 - T1)"
   ]
  },
  {
   "cell_type": "code",
   "execution_count": 23,
   "metadata": {
    "collapsed": false
   },
   "outputs": [
    {
     "name": "stdout",
     "output_type": "stream",
     "text": [
      "33.333333333333336\n"
     ]
    }
   ],
   "source": [
    "# solution 2\n",
    "# note pint does not support temperature units very well\n",
    "print((80 - 20) * (1/1.8))"
   ]
  },
  {
   "cell_type": "markdown",
   "metadata": {},
   "source": [
    "## Example 3.5-3 Temperature conversion and dimensional homogeneity\n",
    "\n",
    "The heat capacity of ammonia, defined as the amount of heat required to raise the temperature of a unit mass of ammonia by precisely 1 degree at a constant pressure is, over a limited temeperature range, given by the expression:\n",
    "\n",
    "$$ \n",
    "C_p (\\frac{\\text{Btu}}{\\text{lb}_m\\text{F}}) = \n",
    "0.487 + 2.29 \\times \n",
    "10^{-4}T(\\text{F}) \n",
    "$$\n",
    "\n",
    "Determine the expression for $C_p$ in J/(g-C) in terms of T(C)"
   ]
  },
  {
   "cell_type": "markdown",
   "metadata": {},
   "source": [
    "### Solution\n",
    "\n",
    "The F in the untis of Cp refers to a temperature interval \n",
    "while the unit of T is a temperature\n",
    "\n",
    "$$ T(\\text{F}) = 1.8 T(\\text{C}) + 32 $$\n",
    "\n",
    "Substutite 1.8 * T + 32 for T to put everything in terms of C on rhs\n",
    "\n",
    "$$ C_p = (0.487 + 2.29 \\times 10^{-4}) \\times (1.8  T + 32) $$\n",
    "\n",
    "Note: at this point, Cp is still not in terms of TC. The temperature interval must be changed. Do this by used factor (1.8F / 1C)\n",
    "\n",
    "$$ C_p \\times 1.8 / 1 = \n",
    "((0.487 + 2.29 \\times 10^{-4}) \\times (1.8 T + 32)) \\times (1.8 / 1) $$\n",
    "\n",
    "$$ C_p (\\frac{\\text{J}}{\\text{g-C}}) = \n",
    "2.06 + 1.72 \\times 10^{-3} T(\\text{C}) $$"
   ]
  },
  {
   "cell_type": "code",
   "execution_count": null,
   "metadata": {
    "collapsed": true
   },
   "outputs": [],
   "source": []
  }
 ],
 "metadata": {
  "kernelspec": {
   "display_name": "Python 3",
   "language": "python",
   "name": "python3"
  },
  "language_info": {
   "codemirror_mode": {
    "name": "ipython",
    "version": 3
   },
   "file_extension": ".py",
   "mimetype": "text/x-python",
   "name": "python",
   "nbconvert_exporter": "python",
   "pygments_lexer": "ipython3",
   "version": "3.5.1"
  }
 },
 "nbformat": 4,
 "nbformat_minor": 0
}
