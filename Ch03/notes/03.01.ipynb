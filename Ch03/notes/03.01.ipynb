{
 "cells": [
  {
   "cell_type": "markdown",
   "metadata": {},
   "source": [
    "# Chapter 03\n",
    "## Processes and Process Variables\n",
    "\n",
    "- ** Process ** - any operation or series of operations by which a particular objective is accomplished\n",
    "- ** input or feed ** - material that enters a process\n",
    "- ** output or product ** - material that leaves a process\n",
    "- ** process unit ** - a single step of a process\n",
    "- ** process streams ** - set inputs and outputs of a single process unit\n",
    "\n",
    "- ** Design ** - formulation of a process flowsheet (layout), specification of process units (i. e. reactors, separation equipment, heat exchangers, etc.)\n",
    "- ** Operation ** - day-to-day running of the proces\n",
    "- ** Debottle-necking ** - troubleshooting and experimenting to find how to increase production rate greater than that which can be accomodated by current equipment at current operating conditions"
   ]
  },
  {
   "cell_type": "markdown",
   "metadata": {},
   "source": [
    "## 3.1 Mass and Volume\n",
    "\n",
    "- ** Density ** - mass per unit volume of a substance\n",
    "- ** Specific Volume ** - volume occupied by a unit mass of a substance; inverse of density\n",
    "\n",
    "Densities of pure solids and liquids are essentially independent of pressure and vary only slightly with temperature. Densities of some pure compounds, solutions, and mixtures can be found in standard references\n",
    "\n",
    "Density can be used as a conversion factor to relate mass and volume of a quantity of the substance."
   ]
  },
  {
   "cell_type": "code",
   "execution_count": 10,
   "metadata": {
    "collapsed": false
   },
   "outputs": [
    {
     "name": "stdout",
     "output_type": "stream",
     "text": [
      "True\n",
      "31.9 gram\n"
     ]
    }
   ],
   "source": [
    "import pint\n",
    "ureg = pint.UnitRegistry()\n",
    "\n",
    "V = 20.0 * ureg.centimeter**3\n",
    "rho = 1.595 * ureg.gram / ureg.centimeter**3\n",
    "\n",
    "print((V * rho).dimensionality == '[mass]')\n",
    "m = V * rho\n",
    "\n",
    "print(m)"
   ]
  },
  {
   "cell_type": "code",
   "execution_count": 18,
   "metadata": {
    "collapsed": false
   },
   "outputs": [
    {
     "name": "stdout",
     "output_type": "stream",
     "text": [
      "True\n",
      "1763.1803724137933 centimeter ** 3\n"
     ]
    }
   ],
   "source": [
    "# import pint\n",
    "# ureg = pint.UnitRegistry()\n",
    "\n",
    "m = 6.20 * ureg.pound\n",
    "m.ito(ureg.gram)\n",
    "rho = 1.595 * ureg.gram / (1 * ureg.centimeter**3)\n",
    "\n",
    "print((m / rho).dimensionality == '[length] ** 3')\n",
    "V = m / rho\n",
    "print(V)"
   ]
  },
  {
   "cell_type": "markdown",
   "metadata": {},
   "source": [
    "** Specific gravity ** - ratio of the density, $\\rho$, of he substance to the density, $\\rho_{ref}$, of a reference substance at a specified condition\n",
    "\n",
    "$$ \\text{SG} = \\rho/\\rho_{ref} $$\n",
    "\n",
    "Most commonly use water at 4 degrees Celsius\n",
    "\n",
    "$$ \\rho_{\\text{H}_2\\text{O(l)}} = \n",
    "1.000 \\text{g/cm}^3 =\n",
    "1000. \\text{kg/m}^3 =\n",
    "2.43 \\text{lb}_m\\text{/ft}^3\n",
    "$$\n",
    "\n",
    "Density of a liquid or solid in $\\text{g/cm}^3$ is numerically equal to the specific gravity of that substance. Below:\n",
    "\n",
    "$$ \\text{SG} = 0.6\\frac{20\\text{ degrees}}{4\\text{ degrees}} $$\n",
    "\n",
    "signifies the specific gravity of a substance at 20 degrees C with reference to water at 4 degrees C is 0.6.\n",
    "\n",
    "*If you are given the SG of a substance, multiply it by the reference density in any units to get the density of the substance in the same units*\n",
    "\n",
    "- ** Note ** - Some special densities such as degrees API are occasionally used (especially in petroleum industry). See references like Perry's Handbook for definitions and conversion factors"
   ]
  },
  {
   "cell_type": "markdown",
   "metadata": {},
   "source": [
    "### Test Youself\n",
    "\n",
    "#### Problem 1\n",
    "What are the units of specific gravity?\n",
    "#### Solution 1\n",
    "It does not have any units. It is the substance density / reference density\n",
    "\n",
    "#### Problem 2\n",
    "A liquid has a specific gravity of 0.50:\n",
    "- What is its density in $\\text{g/cm}^3$? \n",
    "- What is its specific volume in $\\text{cm}^3\\text{/g}$? \n",
    "- What is its density in $\\text{lb}_m \\text{/ft}^3$?\n",
    "- What is the mass of 3.0 $\\text{cm}^3$ of this liquid?\n",
    "- What volume is occupied by 18 g?"
   ]
  },
  {
   "cell_type": "code",
   "execution_count": 3,
   "metadata": {
    "collapsed": false
   },
   "outputs": [
    {
     "name": "stdout",
     "output_type": "stream",
     "text": [
      "1.5\n",
      "31.213980288072296 pound / foot ** 3\n",
      "36\n"
     ]
    }
   ],
   "source": [
    "# calcs for Problem 2\n",
    "# import pint\n",
    "# ureg = pint.UnitRegistry()\n",
    "\n",
    "print(0.5*3)\n",
    "print((0.50 * ureg.gram/ureg.centimeter**3).to(ureg.pound/ureg.foot**3))\n",
    "print(2*18)"
   ]
  },
  {
   "cell_type": "markdown",
   "metadata": {},
   "source": [
    "#### Solution 2\n",
    "- $0.50 \\text{g/cm}^3$\n",
    "- $2.0  \\text{cm}^3/\\text{g}$\n",
    "- Convert $0.50 \\text{g/cm}^3$ to $\\text{lb}_m/\\text{ft}^3$ = $ 31\\text{lb}_m/\\text{ft}^3$\n",
    "- $0.50 \\times 3.0 = 1.5 \\text{g}$\n",
    "- $2.0 \\times 18 = 36 \\text{cm}^3$"
   ]
  },
  {
   "cell_type": "markdown",
   "metadata": {},
   "source": [
    "#### Problem 3\n",
    "If substance A and substance B each have a density of 1.34 $\\text{g/cm}^3$, must 3 $\\text{cm}^3$ of A have the same mass as 3 $\\text{cm}^3$ of B?\n",
    "#### Solution 3\n",
    "Yes\n",
    "\n",
    "#### Problem 4\n",
    "If substance A and substance B each have a specific gravity of 1.34, must 3 $\\text{cm}^3$ of A have the same mass as 3 $\\text{cm}^3$ of B?\n",
    "#### Solution 4\n",
    "Yes only if same reference density is used. No otherwise.\n",
    "\n",
    "#### Problem 5\n",
    "Freezing a sealed full bottle of water leads to a broken bottle and freezing a sealed full flexible-walled contained of n-butyl alcohol leads to a container with concave walls. What can you conclude about the densities of the solid and liquid forms of these two susbtances?\n",
    "#### Solution 5\n",
    "Water's density decreases (expands) as it freezes, n-butyl alcohol's density increases as it freezes (contracts)\n",
    "\n",
    "#### Problem 6\n",
    "Does the density of liquid mercury increase or decrease with increasing temperature? Justify your answer using a thermometer as an illustration\n",
    "#### Solution 6\n",
    "The density of liquid mercury decreases as it increases in temperature. This causes it to expand and move up the height of a thermometer."
   ]
  },
  {
   "cell_type": "markdown",
   "metadata": {},
   "source": [
    "### Example 3.1-1 Mass, Volume, and Density\n",
    "\n",
    "Calculate the density of mercury in $\\text{lb}_m/\\text{ft}^3$ from a tabulated specific gravity, and calculate the volume in $\\text{ft}^3$ occupied by $215\\text{ kg}$ of mercury\n",
    "\n",
    "#### Solution\n",
    "\n",
    "$$ \n",
    "\\text{SG} = 13.546 \\\n",
    "$$\n",
    "\n",
    "$$ \n",
    "\\rho_{Hg} = \n",
    "(13.546)(62.43\\frac{\\text{lb}_m}{\\text{ft}^3}) = 845.7\\frac{\\text{lb}_m}{\\text{ft}^3} \n",
    "$$\n",
    "\n",
    "$$ \n",
    "V = 215 \\text{ kg} \\times \n",
    "\\frac{1 \\text{ lb}_m}{0.454 \\text{ kg}} \n",
    "\\times \\frac{1 \\text{ ft}^3}{845.7 \\text{ lb}_m} =\n",
    "0.560 \\text{ ft}^3\n",
    "$$\n",
    "\n",
    "From *Perry's Chemical Engineers' Handbook*, the dependence volume of mercury on temperature is:\n",
    "\n",
    "$$\n",
    "V(T) = V_0(1 + 0.18182 \\times 10^{-3}T + 0.0078 \\times 10^{-6}T^2)\n",
    "$$\n",
    "\n",
    "where $V(T)$ is the volume of a given mass of mercury at temperature $T(C)$ and $V_0$ is the volume of the same mass of mercury at $0C$."
   ]
  },
  {
   "cell_type": "markdown",
   "metadata": {},
   "source": [
    "### Example 3.1-2 Effect of Temperature on Liquid Density\n",
    "\n",
    "In Example 3.1-1, 215 kg of mercury was found to occupy 0.560 $\\text{ft}^3$ at 20 degrees Celsius. \n",
    "- What volume would the mercury occupy at 100 degrees Celsius?\n",
    "- Suppose the mercury is contained in a cylinder having a diameter of 0.25 in. What change in height would be observed as the mercury is heated from 20 degrees Celsius to 100 degrees Celsius?"
   ]
  },
  {
   "cell_type": "code",
   "execution_count": 10,
   "metadata": {
    "collapsed": false
   },
   "outputs": [
    {
     "name": "stdout",
     "output_type": "stream",
     "text": [
      "V0*(7.8e-9*T**2 + 0.00018182*T + 1)\n"
     ]
    }
   ],
   "source": [
    "from sympy import *\n",
    "V, T, V0= symbols('V T V0')\n",
    "\n",
    "# create equation\n",
    "V = V0 * (1 + 0.18182 * 10**-3 * T + 0.0078 * 10**-6 * T**2)\n",
    "print(V)"
   ]
  },
  {
   "cell_type": "code",
   "execution_count": 13,
   "metadata": {
    "collapsed": false
   },
   "outputs": [
    {
     "data": {
      "text/plain": [
       "[0.557969259719864]"
      ]
     },
     "execution_count": 13,
     "metadata": {},
     "output_type": "execute_result"
    }
   ],
   "source": [
    "# Solve for V0 using given info for 20 deg C\n",
    "solve(Eq(0.560,V.subs(T, 20)), V0)"
   ]
  },
  {
   "cell_type": "code",
   "execution_count": 16,
   "metadata": {
    "collapsed": false
   },
   "outputs": [
    {
     "data": {
      "text/plain": [
       "0.568157513940000"
      ]
     },
     "execution_count": 16,
     "metadata": {},
     "output_type": "execute_result"
    }
   ],
   "source": [
    "# Use V0 in V(T=100)\n",
    "V.subs([(T,100),(V0,0.557969)])"
   ]
  },
  {
   "cell_type": "markdown",
   "metadata": {},
   "source": [
    "#### Solution 1\n",
    "$$V(100) = 0.568 \\text{ft}^3$$"
   ]
  },
  {
   "cell_type": "markdown",
   "metadata": {},
   "source": [
    "#### Solution 2\n",
    "\n",
    "Volume of Hg equals $\\pi D^2H/4$ where $D$ is the cylinder diamter and $H$ is its height. Since $D$ is constant,\n",
    "\n",
    "$$\n",
    "H(100) - H(20) = \\frac{V(100) - V(20)}{\\pi D^2/ 4}\n",
    "$$\n",
    "\n",
    "$$\n",
    "D = (0.25/12)\\text{ft}\n",
    "$$\n",
    "\n",
    "$$ = 23.5 \\text{ft} $$"
   ]
  },
  {
   "cell_type": "code",
   "execution_count": 27,
   "metadata": {
    "collapsed": false
   },
   "outputs": [
    {
     "name": "stdout",
     "output_type": "stream",
     "text": [
      "4.35216022581494e-9*T**2 + 0.000101449970802266*T + 0.557969259719864\n"
     ]
    }
   ],
   "source": [
    "# from sympy import *\n",
    "V, T = symbols('V T')\n",
    "\n",
    "# use previously calc'd V0 and convert D to feet\n",
    "V0 = 0.557969259719864\n",
    "D = 0.25/12\n",
    "\n",
    "# create equation\n",
    "V = V0 * (1 + 0.18182 * 10**-3 * T + 0.0078 * 10**-6 * T**2)\n",
    "print(V)"
   ]
  },
  {
   "cell_type": "code",
   "execution_count": 34,
   "metadata": {
    "collapsed": false
   },
   "outputs": [
    {
     "name": "stdout",
     "output_type": "stream",
     "text": [
      "23.9312011600681\n"
     ]
    }
   ],
   "source": [
    "# calc delta H; use pi.evalf() to get numerical result for pi\n",
    "H = (V.subs(T,100) - V.subs(T,20))/(pi.evalf() * D**2 / 4)\n",
    "print(H)"
   ]
  },
  {
   "cell_type": "code",
   "execution_count": null,
   "metadata": {
    "collapsed": true
   },
   "outputs": [],
   "source": []
  }
 ],
 "metadata": {
  "kernelspec": {
   "display_name": "Python 3",
   "language": "python",
   "name": "python3"
  },
  "language_info": {
   "codemirror_mode": {
    "name": "ipython",
    "version": 3
   },
   "file_extension": ".py",
   "mimetype": "text/x-python",
   "name": "python",
   "nbconvert_exporter": "python",
   "pygments_lexer": "ipython3",
   "version": "3.5.1"
  }
 },
 "nbformat": 4,
 "nbformat_minor": 0
}
