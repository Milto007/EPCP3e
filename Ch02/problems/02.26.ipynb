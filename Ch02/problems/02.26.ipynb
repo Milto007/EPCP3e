{
 "cells": [
  {
   "cell_type": "markdown",
   "metadata": {},
   "source": [
    "# Chapter 02"
   ]
  },
  {
   "cell_type": "code",
   "execution_count": 2,
   "metadata": {
    "collapsed": true
   },
   "outputs": [],
   "source": [
    "import pint\n",
    "ureg = pint.UnitRegistry()\n",
    "\n",
    "# import numpy as np\n",
    "\n",
    "from sympy import *\n",
    "init_printing()\n",
    "\n",
    "# force plots to display in notebook, not new window\n",
    "# %matplotlib inline"
   ]
  },
  {
   "cell_type": "markdown",
   "metadata": {},
   "source": [
    "## Problem 2.26"
   ]
  },
  {
   "cell_type": "markdown",
   "metadata": {},
   "source": [
    "The density of a fluid is given by the empirical equation \n",
    "\n",
    "$$rho = 70.5*exp[8.27*10^-7*P]$$ \n",
    "\n",
    "where rho is density (lbm/ft^3) and P is pressure (lbf/in^2)"
   ]
  },
  {
   "cell_type": "markdown",
   "metadata": {},
   "source": [
    "(a) what are the untis of 70.5 and 8.27*10^-7?"
   ]
  },
  {
   "cell_type": "markdown",
   "metadata": {},
   "source": [
    "70.5 has units lbm/ft^3 \n",
    "\n",
    "8.27*10^-7 has units in^2/lbf"
   ]
  },
  {
   "cell_type": "markdown",
   "metadata": {},
   "source": [
    "(b) calculate the density in g/cm^3 for a pressure of 9.00 * 10^6 N/m^2"
   ]
  },
  {
   "cell_type": "code",
   "execution_count": 3,
   "metadata": {
    "collapsed": true
   },
   "outputs": [],
   "source": [
    "# create symbols\n",
    "rho, P = symbols('rho P')"
   ]
  },
  {
   "cell_type": "code",
   "execution_count": 4,
   "metadata": {
    "collapsed": false
   },
   "outputs": [
    {
     "data": {
      "image/png": "[encoded data removed]",
      "text/latex": [
       "$$70.5 e^{8.27 \\cdot 10^{-7} P}$$"
      ],
      "text/plain": [
       "      8.27e-7⋅P\n",
       "70.5⋅ℯ         "
      ]
     },
     "execution_count": 4,
     "metadata": {},
     "output_type": "execute_result"
    }
   ],
   "source": [
    "# define rho as given\n",
    "rho = 70.5*exp(8.27*10**-7*P)\n",
    "rho"
   ]
  },
  {
   "cell_type": "code",
   "execution_count": 18,
   "metadata": {
    "collapsed": true
   },
   "outputs": [],
   "source": [
    "# assign coefficients to variables\n",
    "a = 70.7 * ureg.pounds/ureg.feet**3\n",
    "b = 8.27*10**-7 * ureg.inch**2/ureg.force_pounds"
   ]
  },
  {
   "cell_type": "code",
   "execution_count": 19,
   "metadata": {
    "collapsed": false
   },
   "outputs": [],
   "source": [
    "# assign P as given, convert to lbf and in**2 to match b\n",
    "P = 9*10**6 * ureg.newton/ureg.meter**2\n",
    "P.ito(ureg.force_pounds/ureg.inch**2)"
   ]
  },
  {
   "cell_type": "code",
   "execution_count": 13,
   "metadata": {
    "collapsed": false
   },
   "outputs": [
    {
     "name": "stdout",
     "output_type": "stream",
     "text": [
      "b*P has correct units and dimensions\n"
     ]
    }
   ],
   "source": [
    "# check units and dimensionality\n",
    "if((b*P).dimensionality == ureg.dimensionless and\n",
    "   (b*P).units          == ureg.dimensionless):\n",
    "    print(\"b*P has correct units and dimensions\")\n",
    "else:\n",
    "    print(\"b*P has incorrect units and/or dimensions\")"
   ]
  },
  {
   "cell_type": "code",
   "execution_count": 17,
   "metadata": {
    "collapsed": false
   },
   "outputs": [
    {
     "name": "stdout",
     "output_type": "stream",
     "text": [
      "dimensions of coefficient 'a' [mass] / [length] ** 3\n",
      "units of coefficient 'a' gram / centimeter ** 3\n"
     ]
    }
   ],
   "source": [
    "# check units of coefficient a\n",
    "a.ito(ureg.gram/ureg.centimeter**3)\n",
    "print(\"dimensions of coefficient 'a'\", a.dimensionality)\n",
    "print(\"units of coefficient 'a'\", a.units)"
   ]
  },
  {
   "cell_type": "code",
   "execution_count": 15,
   "metadata": {
    "collapsed": false
   },
   "outputs": [
    {
     "data": {
      "text/html": [
       "1.13372857818470 gram/centimeter<sup>3</sup>"
      ],
      "text/latex": [
       "$1.13372857818470 \\frac{gram}{centimeter^{3}}$"
      ],
      "text/plain": [
       "<Quantity(1.13372857818470, 'gram / centimeter ** 3')>"
      ]
     },
     "execution_count": 15,
     "metadata": {},
     "output_type": "execute_result"
    }
   ],
   "source": [
    "# Calculate\n",
    "a*exp(b*P)"
   ]
  },
  {
   "cell_type": "markdown",
   "metadata": {},
   "source": [
    "(c) derive a formula for rho (g/cm^3) as a function of P (N/m^2). See example 2.6-1. Check your result using the solution of part (b)"
   ]
  },
  {
   "cell_type": "code",
   "execution_count": null,
   "metadata": {
    "collapsed": true
   },
   "outputs": [],
   "source": []
  }
 ],
 "metadata": {
  "kernelspec": {
   "display_name": "Python 3",
   "language": "python",
   "name": "python3"
  },
  "language_info": {
   "codemirror_mode": {
    "name": "ipython",
    "version": 3
   },
   "file_extension": ".py",
   "mimetype": "text/x-python",
   "name": "python",
   "nbconvert_exporter": "python",
   "pygments_lexer": "ipython3",
   "version": "3.5.1"
  }
 },
 "nbformat": 4,
 "nbformat_minor": 0
}
