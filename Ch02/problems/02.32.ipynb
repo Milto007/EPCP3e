{
 "cells": [
  {
   "cell_type": "markdown",
   "metadata": {},
   "source": [
    "# Chapter 02"
   ]
  },
  {
   "cell_type": "code",
   "execution_count": 1,
   "metadata": {
    "collapsed": true
   },
   "outputs": [],
   "source": [
    "import pint\n",
    "ureg = pint.UnitRegistry()\n",
    "\n",
    "import numpy as np\n",
    "\n",
    "from sympy import *\n",
    "init_printing()\n",
    "\n",
    "# force plots to display in notebook, not new window\n",
    "%matplotlib inline"
   ]
  },
  {
   "cell_type": "markdown",
   "metadata": {},
   "source": [
    "## Problem 02.32"
   ]
  },
  {
   "cell_type": "markdown",
   "metadata": {},
   "source": [
    "A hygrometer, which measures the amound of moisture in a gas stream, is to be calibrated using the apparatus shown here:\n",
    "\n",
    ">figure\n",
    "\n",
    "\n",
    "Steam and dry air are fed at known flow rates and mixed to form a gas stream with a known water content, and the hygrometer reading is recorded; the flow rate of either the water or the air is changed to produce a stream with a different water content and the new reading is recorded, and so on. The following data are taken:"
   ]
  },
  {
   "cell_type": "code",
   "execution_count": 2,
   "metadata": {
    "collapsed": true
   },
   "outputs": [],
   "source": [
    "ys = [0.011, 0.044, 0.083, 0.126, 0.170]\n",
    "Rs = [5, 20, 40, 60, 80]"
   ]
  },
  {
   "cell_type": "markdown",
   "metadata": {},
   "source": [
    "(a) draw a calibration curve and determine an equation of y(R)"
   ]
  },
  {
   "cell_type": "code",
   "execution_count": 4,
   "metadata": {
    "collapsed": false
   },
   "outputs": [
    {
     "data": {
      "image/png": "[encoded data removed]",
      "text/plain": [
       "<matplotlib.figure.Figure at 0x7f9c5af22208>"
      ]
     },
     "metadata": {},
     "output_type": "display_data"
    }
   ],
   "source": [
    "# plot y(R)\n",
    "import matplotlib.pyplot as plt\n",
    "plt.plot(Rs, ys)\n",
    "plt.show()"
   ]
  },
  {
   "cell_type": "code",
   "execution_count": 11,
   "metadata": {
    "collapsed": false
   },
   "outputs": [],
   "source": [
    "# y = mx + b\n",
    "y2 = 0.170\n",
    "x2 = 80\n",
    "\n",
    "# solve for m and b\n",
    "y1 = 0.011\n",
    "x1 = 5\n",
    "m = (y2 - y1)/(x2 - x1)\n",
    "b = y2 - m*x2\n",
    "\n",
    "# define function\n",
    "y = Function('y')\n",
    "x = symbols('x')\n",
    "y = m*x + b"
   ]
  },
  {
   "cell_type": "markdown",
   "metadata": {},
   "source": [
    "(b) Suppose a sample of a stack gas is inserted in the sample chamber of the hygrometer and a reading of R = 43 is obtained. If the mass flow rate of the stack gas is 1200 kg/h, what is the mass flow rate of water vapor in the gas?"
   ]
  },
  {
   "cell_type": "code",
   "execution_count": 15,
   "metadata": {
    "collapsed": false
   },
   "outputs": [
    {
     "data": {
      "text/html": [
       "109.872000000000 kilogram/hour"
      ],
      "text/latex": [
       "$109.872000000000 \\frac{kilogram}{hour}$"
      ],
      "text/plain": [
       "<Quantity(109.872000000000, 'kilogram / hour')>"
      ]
     },
     "execution_count": 15,
     "metadata": {},
     "output_type": "execute_result"
    }
   ],
   "source": [
    "R1 = 43\n",
    "mgas = 1200 * ureg.kilogram/ureg.hour\n",
    "y.subs(x, R1) * mgas"
   ]
  },
  {
   "cell_type": "code",
   "execution_count": null,
   "metadata": {
    "collapsed": true
   },
   "outputs": [],
   "source": []
  }
 ],
 "metadata": {
  "kernelspec": {
   "display_name": "Python 3",
   "language": "python",
   "name": "python3"
  },
  "language_info": {
   "codemirror_mode": {
    "name": "ipython",
    "version": 3
   },
   "file_extension": ".py",
   "mimetype": "text/x-python",
   "name": "python",
   "nbconvert_exporter": "python",
   "pygments_lexer": "ipython3",
   "version": "3.5.1"
  }
 },
 "nbformat": 4,
 "nbformat_minor": 0
}
