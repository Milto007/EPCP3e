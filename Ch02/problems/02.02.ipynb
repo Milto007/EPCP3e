{
 "cells": [
  {
   "cell_type": "markdown",
   "metadata": {},
   "source": [
    "# Chapter 2"
   ]
  },
  {
   "cell_type": "code",
   "execution_count": 3,
   "metadata": {
    "collapsed": true
   },
   "outputs": [],
   "source": [
    "# import pint units package\n",
    "import pint\n",
    "ureg = pint.UnitRegistry()"
   ]
  },
  {
   "cell_type": "markdown",
   "metadata": {},
   "source": [
    "## Problem 2.2\n",
    "\n",
    "Using the table of conversion factors on the inside front cover, convert"
   ]
  },
  {
   "cell_type": "markdown",
   "metadata": {},
   "source": [
    "(a) 760 miles/h to m/s"
   ]
  },
  {
   "cell_type": "code",
   "execution_count": 4,
   "metadata": {
    "collapsed": false
   },
   "outputs": [
    {
     "data": {
      "text/html": [
       "339.7504 meter/second"
      ],
      "text/latex": [
       "$339.7504 \\frac{meter}{second}$"
      ],
      "text/plain": [
       "<Quantity(339.7504, 'meter / second')>"
      ]
     },
     "execution_count": 4,
     "metadata": {},
     "output_type": "execute_result"
    }
   ],
   "source": [
    "(760 * ureg.miles / ureg.hours).to(ureg.meters / ureg.seconds)"
   ]
  },
  {
   "cell_type": "code",
   "execution_count": 14,
   "metadata": {
    "collapsed": false
   },
   "outputs": [
    {
     "data": {
      "text/html": [
       "340.0 meter/second"
      ],
      "text/latex": [
       "$340.0 \\frac{meter}{second}$"
      ],
      "text/plain": [
       "<Quantity(340.0, 'meter / second')>"
      ]
     },
     "execution_count": 14,
     "metadata": {},
     "output_type": "execute_result"
    }
   ],
   "source": [
    "# round to 2 sig figs\n",
    "int(round(339.7504,0)) * ureg.meters/ureg.seconds"
   ]
  },
  {
   "cell_type": "markdown",
   "metadata": {},
   "source": [
    "(b) 921 kg/m^3 to lbm/ft^3"
   ]
  },
  {
   "cell_type": "code",
   "execution_count": 5,
   "metadata": {
    "collapsed": false
   },
   "outputs": [
    {
     "data": {
      "text/html": [
       "57.496151690629176 pound/foot<sup>3</sup>"
      ],
      "text/latex": [
       "$57.496151690629176 \\frac{pound}{foot^{3}}$"
      ],
      "text/plain": [
       "<Quantity(57.496151690629176, 'pound / foot ** 3')>"
      ]
     },
     "execution_count": 5,
     "metadata": {},
     "output_type": "execute_result"
    }
   ],
   "source": [
    "(921 * ureg.kilograms/ureg.meters**3).to(ureg.pounds/ureg.feet**3)"
   ]
  },
  {
   "cell_type": "code",
   "execution_count": 12,
   "metadata": {
    "collapsed": false
   },
   "outputs": [
    {
     "data": {
      "text/html": [
       "57.5 pound/foot<sup>3</sup>"
      ],
      "text/latex": [
       "$57.5 \\frac{pound}{foot^{3}}$"
      ],
      "text/plain": [
       "<Quantity(57.5, 'pound / foot ** 3')>"
      ]
     },
     "execution_count": 12,
     "metadata": {},
     "output_type": "execute_result"
    }
   ],
   "source": [
    "# round to 3 sig figs\n",
    "round(57.496151690629176, 1) * ureg.pounds/ureg.feet**3"
   ]
  },
  {
   "cell_type": "markdown",
   "metadata": {},
   "source": [
    "(c) 5.37 * 10^3 kJ/min to hp"
   ]
  },
  {
   "cell_type": "code",
   "execution_count": 6,
   "metadata": {
    "collapsed": false
   },
   "outputs": [
    {
     "data": {
      "text/html": [
       "120.02147701875501 horsepower"
      ],
      "text/latex": [
       "$120.02147701875501 horsepower$"
      ],
      "text/plain": [
       "<Quantity(120.02147701875501, 'horsepower')>"
      ]
     },
     "execution_count": 6,
     "metadata": {},
     "output_type": "execute_result"
    }
   ],
   "source": [
    "(5.37 * 10**3 * ureg.kilojoules/ureg.minutes).to(ureg.horsepower)"
   ]
  },
  {
   "cell_type": "code",
   "execution_count": 7,
   "metadata": {
    "collapsed": false
   },
   "outputs": [
    {
     "data": {
      "text/html": [
       "120 horsepower"
      ],
      "text/latex": [
       "$120 horsepower$"
      ],
      "text/plain": [
       "<Quantity(120, 'horsepower')>"
      ]
     },
     "execution_count": 7,
     "metadata": {},
     "output_type": "execute_result"
    }
   ],
   "source": [
    "# round to 2 sig figs\n",
    "round(int(120.02),0) * ureg.hp"
   ]
  },
  {
   "cell_type": "code",
   "execution_count": null,
   "metadata": {
    "collapsed": true
   },
   "outputs": [],
   "source": []
  }
 ],
 "metadata": {
  "kernelspec": {
   "display_name": "Python 3",
   "language": "python",
   "name": "python3"
  },
  "language_info": {
   "codemirror_mode": {
    "name": "ipython",
    "version": 3
   },
   "file_extension": ".py",
   "mimetype": "text/x-python",
   "name": "python",
   "nbconvert_exporter": "python",
   "pygments_lexer": "ipython3",
   "version": "3.5.1"
  }
 },
 "nbformat": 4,
 "nbformat_minor": 0
}
