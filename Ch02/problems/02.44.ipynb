{
 "cells": [
  {
   "cell_type": "markdown",
   "metadata": {},
   "source": [
    "# Chapter 02"
   ]
  },
  {
   "cell_type": "code",
   "execution_count": 1,
   "metadata": {
    "collapsed": true
   },
   "outputs": [],
   "source": [
    "# preamble\n",
    "from sympy import *\n",
    "init_printing()\n",
    "\n",
    "import pint\n",
    "ureg = pint.UnitRegistry()\n",
    "\n",
    "import numpy as np\n",
    "\n",
    "import matplotlib.pyplot as plt\n",
    "%matplotlib inline"
   ]
  },
  {
   "cell_type": "markdown",
   "metadata": {},
   "source": [
    "## Problem 02.44\n",
    "\n",
    "Write a computer program to fit a straight line $ y = a x + b $ to tabulated $(x, y)$ data assuming that no more than 100 data points will be taken in any one run. Your program should read in and store the data, evaluate the slope $a$ and intercept $b$ of the best line through the data using Equations A.1-3 through A.1-5 in Appendix A, then print out the measured values of $x$ and $y$ and calculated values of $y(= a x + b)$ for each tabulated value of $x$. \n",
    "\n",
    "Test your program by fitting a line to the data in the following table."
   ]
  },
  {
   "cell_type": "code",
   "execution_count": 2,
   "metadata": {
    "collapsed": true
   },
   "outputs": [],
   "source": [
    "# given data\n",
    "xdata = [1.0, 1.5, 2.0, 2.5, 3.0]\n",
    "ydata = [2.35, 5.53, 8.92, 12.15, 15.38]"
   ]
  },
  {
   "cell_type": "markdown",
   "metadata": {},
   "source": [
    "### Method of Least Squares (from Appendix A)\n",
    "A.1-3\n",
    "$$ s_x    = \\frac{1}{n} \\sum\\limits_{i=1}^n x_i $$\n",
    "$$ s_{xx} = \\frac{1}{n} \\sum\\limits_{i=1}^n x_i^2 $$\n",
    "$$ s_y    = \\frac{1}{n} \\sum\\limits_{i=1}^n y_i $$\n",
    "$$ s_{xy} = \\frac{1}{n} \\sum\\limits_{i=1}^n x_i y_i $$\n",
    "\n",
    "A.1-4, Slope for $y = a x + b$\n",
    "$$ a = \\frac{s_{xy} - s_x s_y} {s_{xx} - (s_x)^2} $$\n",
    "\n",
    "A.1-5, Intercept for $y = a x + b$\n",
    "$$ b = \\frac{s_{xx} s_y - s_{xy} s_x} {s_{xx} - (s_x)^2} $$"
   ]
  },
  {
   "cell_type": "markdown",
   "metadata": {},
   "source": [
    "### Solution\n",
    "This could all be wrapped in a function\n",
    "\n",
    "```python\n",
    "def function bestfit(xdata, ydata):\n",
    "    ...\n",
    "    print(results)\n",
    "```\n",
    "\n",
    "but I think it's best to split it up for the notebook format. Creating a function from this is trivial and would mostly involve copy/pasting code below and adding a few error checks such as checking data dimensions and data types."
   ]
  },
  {
   "cell_type": "code",
   "execution_count": 3,
   "metadata": {
    "collapsed": false
   },
   "outputs": [],
   "source": [
    "# calculate A.1-3 equations from given data\n",
    "# assuming correct data types and same dimensions\n",
    "sx = 0\n",
    "for x in xdata:\n",
    "    sx += x\n",
    "sx = sx/len(xdata)\n",
    "\n",
    "sxx = 0\n",
    "for x in xdata:\n",
    "    sxx += x**2\n",
    "sxx = sxx/len(xdata)\n",
    "\n",
    "sy = 0\n",
    "for y in ydata:\n",
    "    sy += y\n",
    "sy = sy/len(ydata)\n",
    "\n",
    "sxy = 0\n",
    "for i in range(len(ydata)):\n",
    "    sxy += xdata[i] * ydata[i]\n",
    "sxy = sxy/len(xdata)"
   ]
  },
  {
   "cell_type": "code",
   "execution_count": 4,
   "metadata": {
    "collapsed": false
   },
   "outputs": [
    {
     "data": {
      "image/png": "[encoded data removed]",
      "text/latex": [
       "$$6.53599999999999 x - 4.20599999999999$$"
      ],
      "text/plain": [
       "6.53599999999999⋅x - 4.20599999999999"
      ]
     },
     "execution_count": 4,
     "metadata": {},
     "output_type": "execute_result"
    }
   ],
   "source": [
    "# find slope and intercept of best fit line (least squares)\n",
    "# use equations A.1-4 and A.1-5\n",
    "y = Function('y')\n",
    "x = symbols('x')\n",
    "\n",
    "a = (sxy - sx*sy)/(sxx - sx**2)\n",
    "b = (sxx*sy - sxy*sx)/(sxx - sx**2)\n",
    "\n",
    "# define and print function\n",
    "y = a * x + b\n",
    "y"
   ]
  },
  {
   "cell_type": "code",
   "execution_count": 5,
   "metadata": {
    "collapsed": false
   },
   "outputs": [
    {
     "name": "stdout",
     "output_type": "stream",
     "text": [
      "x value is            1.0\n",
      "measured y value is   2.35\n",
      "calculated y value is 2.33000000000001\n",
      "\n",
      "x value is            1.5\n",
      "measured y value is   5.53\n",
      "calculated y value is 5.59800000000000\n",
      "\n",
      "x value is            2.0\n",
      "measured y value is   8.92\n",
      "calculated y value is 8.86600000000000\n",
      "\n",
      "x value is            2.5\n",
      "measured y value is   12.15\n",
      "calculated y value is 12.1340000000000\n",
      "\n",
      "x value is            3.0\n",
      "measured y value is   15.38\n",
      "calculated y value is 15.4020000000000\n",
      "\n"
     ]
    }
   ],
   "source": [
    "# print the measured values and the calculated values\n",
    "for i in range(len(xdata)):\n",
    "    print(\"x value is           \", xdata[i])\n",
    "    print(\"measured y value is  \", ydata[i])\n",
    "    print(\"calculated y value is\", y.subs([(x, xdata[i])]))\n",
    "    print()"
   ]
  },
  {
   "cell_type": "code",
   "execution_count": 6,
   "metadata": {
    "collapsed": false
   },
   "outputs": [
    {
     "data": {
      "text/plain": [
       "[<matplotlib.lines.Line2D at 0x7f7e3c154c50>,\n",
       " <matplotlib.lines.Line2D at 0x7f7e3c154e10>]"
      ]
     },
     "execution_count": 6,
     "metadata": {},
     "output_type": "execute_result"
    },
    {
     "data": {
      "image/png": "[encoded data removed]",
      "text/plain": [
       "<matplotlib.figure.Figure at 0x7f7e3c1787f0>"
      ]
     },
     "metadata": {},
     "output_type": "display_data"
    }
   ],
   "source": [
    "# plot for visual inspection\n",
    "# substitute xdata for x in function y and append to new list\n",
    "y1 = []\n",
    "for i in range(len(xdata)):\n",
    "    y1.append(y.subs([(x, xdata[i])]))\n",
    "\n",
    "# plot measured data and calculated data\n",
    "plt.plot(xdata, ydata, 'ro-', xdata, y1, 'bo--')"
   ]
  },
  {
   "cell_type": "code",
   "execution_count": null,
   "metadata": {
    "collapsed": true
   },
   "outputs": [],
   "source": []
  }
 ],
 "metadata": {
  "kernelspec": {
   "display_name": "Python 3",
   "language": "python",
   "name": "python3"
  },
  "language_info": {
   "codemirror_mode": {
    "name": "ipython",
    "version": 3
   },
   "file_extension": ".py",
   "mimetype": "text/x-python",
   "name": "python",
   "nbconvert_exporter": "python",
   "pygments_lexer": "ipython3",
   "version": "3.5.1"
  }
 },
 "nbformat": 4,
 "nbformat_minor": 0
}
