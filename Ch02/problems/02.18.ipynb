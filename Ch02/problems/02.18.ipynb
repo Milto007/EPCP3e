{
 "cells": [
  {
   "cell_type": "markdown",
   "metadata": {},
   "source": [
    "# Chapter 02"
   ]
  },
  {
   "cell_type": "code",
   "execution_count": 1,
   "metadata": {
    "collapsed": true
   },
   "outputs": [],
   "source": [
    "# import pint units package\n",
    "import pint\n",
    "ureg = pint.UnitRegistry()\n",
    "\n",
    "from sympy import *\n",
    "init_printing()\n",
    "\n",
    "# import numpy functions\n",
    "import numpy as np"
   ]
  },
  {
   "cell_type": "markdown",
   "metadata": {},
   "source": [
    "## Problem 2.18\n",
    "\n",
    "Two thermocouples (temperature measure devices) are tested by inserting their probes in boiling water, reording the readings, removing and drying the probes, and then doing it again. The results of five measurements are as follows:"
   ]
  },
  {
   "cell_type": "code",
   "execution_count": 2,
   "metadata": {
    "collapsed": true
   },
   "outputs": [],
   "source": [
    "# create tuples of each thermocouples\n",
    "TthermoA = (72.4, 73.1, 72.6, 72.8, 73.0)\n",
    "TthermoB = (97.3, 101.4, 98.7, 103.1, 100.4)"
   ]
  },
  {
   "cell_type": "markdown",
   "metadata": {},
   "source": [
    "(a) for each set of temperature readings, calculate the sample mean, the range, and the sample standard deviation"
   ]
  },
  {
   "cell_type": "code",
   "execution_count": 5,
   "metadata": {
    "collapsed": false
   },
   "outputs": [
    {
     "name": "stdout",
     "output_type": "stream",
     "text": [
      "Thermocouple A\n",
      "Mean is 72.78\n",
      "Range is  0.7\n",
      "Std dev is 0.286356421266\n"
     ]
    }
   ],
   "source": [
    "# thermocouple A\n",
    "print(\"Thermocouple A\")\n",
    "print(\"Mean is\", np.mean(TthermoA))\n",
    "print(\"Range is \", np.max(TthermoA) - np.min(TthermoA))\n",
    "# alternative numpy method for range or 'peak to peak'\n",
    "# print(np.ptp(TthermoA))\n",
    "\n",
    "# note: must specify delta degrees of freedom, ddof=1\n",
    "# numpy default is ddof=0. We want N-1, not N on bottom\n",
    "print(\"Std dev is\", np.std(TthermoA, ddof=1))"
   ]
  },
  {
   "cell_type": "code",
   "execution_count": 6,
   "metadata": {
    "collapsed": false
   },
   "outputs": [
    {
     "name": "stdout",
     "output_type": "stream",
     "text": [
      "Thermocouple B\n",
      "Mean is 100.18\n",
      "Range is  5.8\n",
      "Std dev is  2.26649509155\n"
     ]
    }
   ],
   "source": [
    "# thermocouple B\n",
    "print(\"Thermocouple B\")\n",
    "print(\"Mean is\", np.mean(TthermoB))\n",
    "print(\"Range is \", np.max(TthermoB) - np.min(TthermoB))\n",
    "# alternative numpy method for range or 'peak to peak'\n",
    "# print(np.ptp(TthermoA))\n",
    "\n",
    "# note: must specify delta degrees of freedom, ddof=1\n",
    "# numpy default is ddof=0. We want N-1, not N\n",
    "print(\"Std dev is \", np.std(TthermoB, ddof=1))"
   ]
  },
  {
   "cell_type": "markdown",
   "metadata": {},
   "source": [
    "(b) which thermocouple readings exhibit the higher degree of scatter? which thermocouple is more accurate?"
   ]
  },
  {
   "cell_type": "markdown",
   "metadata": {},
   "source": [
    "Thermocouple A has a smaller range and smaller std dev (less scatter) but Thermocouple B is more accurate (water boils at 100C)"
   ]
  },
  {
   "cell_type": "code",
   "execution_count": null,
   "metadata": {
    "collapsed": true
   },
   "outputs": [],
   "source": []
  }
 ],
 "metadata": {
  "kernelspec": {
   "display_name": "Python 3",
   "language": "python",
   "name": "python3"
  },
  "language_info": {
   "codemirror_mode": {
    "name": "ipython",
    "version": 3
   },
   "file_extension": ".py",
   "mimetype": "text/x-python",
   "name": "python",
   "nbconvert_exporter": "python",
   "pygments_lexer": "ipython3",
   "version": "3.5.1"
  }
 },
 "nbformat": 4,
 "nbformat_minor": 0
}
