{
 "cells": [
  {
   "cell_type": "markdown",
   "metadata": {},
   "source": [
    "# Chapter 02"
   ]
  },
  {
   "cell_type": "code",
   "execution_count": 1,
   "metadata": {
    "collapsed": true
   },
   "outputs": [],
   "source": [
    "import pint\n",
    "ureg = pint.UnitRegistry()\n",
    "\n",
    "import numpy as np\n",
    "\n",
    "from sympy import *\n",
    "init_printing()\n",
    "\n",
    "# force plots to display in notebook, not new window\n",
    "%matplotlib inline"
   ]
  },
  {
   "cell_type": "markdown",
   "metadata": {},
   "source": [
    "## Problem 2.20"
   ]
  },
  {
   "cell_type": "markdown",
   "metadata": {},
   "source": [
    "Your company manufactures plastic wrap for food storage. The tear resistance of the wrap, denoted by X, must be controlled so that the wrap can be torn off the roll without too much effort but it does not tear too easily when in use.\n",
    "\n",
    "In a series of test runs, 15 rolls of wrap are made under carefully controlled conditions and the tear resistance of each roll is measured. The results are used as the basis of a quality assurance specification (see problem 2.19). If X for a subsequently produced roll fails more than two standard deviations away from the test period average, the process is declared out of specification and production is suspended for routine maintenance.\n",
    "\n",
    "The test series data are as follows"
   ]
  },
  {
   "cell_type": "code",
   "execution_count": 2,
   "metadata": {
    "collapsed": false
   },
   "outputs": [],
   "source": [
    "# define the given data\n",
    "data = ((1, 134), (2, 131), (3, 129), (4, 133), (5, 135), \n",
    "        (6, 131), (7, 134),(8, 130),(9, 131),(10, 136),\n",
    "        (11, 129),(12, 130),(13, 133),(14, 130),(15, 133))"
   ]
  },
  {
   "cell_type": "markdown",
   "metadata": {},
   "source": [
    "(a) write a spreadsheet to take as input the test series data and calculate the sample mean (Xavg) and sample standard deviation (sx), preferably using built-in functions for the calculations."
   ]
  },
  {
   "cell_type": "code",
   "execution_count": 5,
   "metadata": {
    "collapsed": false
   },
   "outputs": [
    {
     "name": "stdout",
     "output_type": "stream",
     "text": [
      "Xavg is 131.933333333\n",
      "Xstddev is 2.2189658681\n"
     ]
    }
   ],
   "source": [
    "# axis=0 specifies to take mean of xs and ys separately\n",
    "# slice asks for just the y's mean\n",
    "\n",
    "Xavg = np.mean(data, axis=0)[1]\n",
    "Xstd = np.std(data, axis=0, ddof=1)[1]\n",
    "\n",
    "print(\"Xavg is\", Xavg)\n",
    "print(\"Xstddev is\", Xstd)"
   ]
  },
  {
   "cell_type": "markdown",
   "metadata": {},
   "source": [
    "(b) the following tear resistance values are obtained for rolls produced in 14 consecutive production runs subsequent to the test series. On the spreadsheet, plot a control chart of X vs run number showing horizontal lines for the values corresponding to Xavg, X-2sx, and Xavg + 2sx from the test period and show the points corresponding to the 14 production runs. which measurements led to suspension of production?"
   ]
  },
  {
   "cell_type": "code",
   "execution_count": 6,
   "metadata": {
    "collapsed": true
   },
   "outputs": [],
   "source": [
    "# define new set of data as tuple of tuples and as list of x's and y's\n",
    "roll2 = ((1,128), (2,131), (3,133), (4,130), (5,133),\n",
    "         (6,129), (7,133), (8,135), (9,137), (10,133),\n",
    "         (11,137), (12,136), (13,137), (14,139))\n",
    "roll2x = [1, 2, 3, 4, 5, 6, 7, 8, 9, 10, 11, 12, 13, 14]\n",
    "roll2y = [128, 131, 133, 130, 133, 129, 133, 135, 137, 133, 137, 136, 137, 139]"
   ]
  },
  {
   "cell_type": "code",
   "execution_count": 7,
   "metadata": {
    "collapsed": false
   },
   "outputs": [
    {
     "name": "stdout",
     "output_type": "stream",
     "text": [
      "Mean is 133.642857143\n",
      "Std dev is 3.34220431307\n"
     ]
    }
   ],
   "source": [
    "# Note: Must specify ddof=1 for std dev (default in numpy is 0)\n",
    "print(\"Mean is\", np.mean(roll2, axis=0)[1])\n",
    "print(\"Std dev is\", np.std(roll2, axis=0, ddof=1)[1])"
   ]
  },
  {
   "cell_type": "code",
   "execution_count": 8,
   "metadata": {
    "collapsed": false
   },
   "outputs": [
    {
     "data": {
      "text/plain": [
       "[<matplotlib.lines.Line2D at 0x7fd67f883400>,\n",
       " <matplotlib.lines.Line2D at 0x7fd67f8835c0>,\n",
       " <matplotlib.lines.Line2D at 0x7fd67f883f28>,\n",
       " <matplotlib.lines.Line2D at 0x7fd67f88d780>]"
      ]
     },
     "execution_count": 8,
     "metadata": {},
     "output_type": "execute_result"
    },
    {
     "data": {
      "image/png": "[encoded data removed]",
      "text/plain": [
       "<matplotlib.figure.Figure at 0x7fd6983d59e8>"
      ]
     },
     "metadata": {},
     "output_type": "display_data"
    }
   ],
   "source": [
    "# I can't figure out how to plot discrete points using sympy's plot()\n",
    "# so I reverted to matplotlib which I'm not familiar with\n",
    "# There is probably an easier/simpler way than explicitly \n",
    "# making it like this\n",
    "\n",
    "import matplotlib.pyplot as plt\n",
    "x, y1 = symbols('x, y1')\n",
    "#plot(Xavg+2*Xstd,Xavg-2*Xstd,(x,0,15),ylim=(80,150))\n",
    "#plot(Xavg + 2*Xstd, (x,0,15))\n",
    "#plot(Xavg - 2*Xstd, (x,0,15))\n",
    "\n",
    "# only first and last points are needed if blue line\n",
    "# option is used in matplotlib\n",
    "xs = (0, 14)\n",
    "top = (Xavg+2*Xstd, Xavg+2*Xstd)\n",
    "bottom = (Xavg-2*Xstd, Xavg-2*Xstd)\n",
    "middle = (Xavg,Xavg)\n",
    "\n",
    "# plot using matplotlib with 'ro' for points and 'b-' for lines\n",
    "plt.plot(roll2x,roll2y,'ro',xs,top,'b-',xs,bottom,'b-', xs, middle, 'b-')\n",
    "#y1 = Xavg\n",
    "#plot(y1,x**2, (x, 0, 100))"
   ]
  },
  {
   "cell_type": "code",
   "execution_count": null,
   "metadata": {
    "collapsed": true
   },
   "outputs": [],
   "source": []
  }
 ],
 "metadata": {
  "kernelspec": {
   "display_name": "Python 3",
   "language": "python",
   "name": "python3"
  },
  "language_info": {
   "codemirror_mode": {
    "name": "ipython",
    "version": 3
   },
   "file_extension": ".py",
   "mimetype": "text/x-python",
   "name": "python",
   "nbconvert_exporter": "python",
   "pygments_lexer": "ipython3",
   "version": "3.5.1"
  }
 },
 "nbformat": 4,
 "nbformat_minor": 0
}
