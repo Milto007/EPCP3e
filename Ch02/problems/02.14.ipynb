{
 "cells": [
  {
   "cell_type": "markdown",
   "metadata": {},
   "source": [
    "# Chapter 02"
   ]
  },
  {
   "cell_type": "code",
   "execution_count": 1,
   "metadata": {
    "collapsed": true
   },
   "outputs": [],
   "source": [
    "# import pint units package\n",
    "import pint\n",
    "ureg = pint.UnitRegistry()\n",
    "\n",
    "from sympy import *\n",
    "init_printing()\n",
    "\n",
    "# add USD to unit definitions for only this problem\n",
    "# dimensions of USD will be [] (dimensionless)\n",
    "ureg.define('slug = 1 * force_pound * second ** 2 / ft')"
   ]
  },
  {
   "cell_type": "markdown",
   "metadata": {},
   "source": [
    "## Problem 2.14\n",
    "\n",
    "A poundal is the force required to accelerate a mass of 1 lbm at a rate of 1 ft/s^2, and a slug is the mass of an object that will acelerate at a rate of 1 ft/s^2 when subjected to a force of 1 lbf. (a) calculate the mass in slugs and the weight in poundals of a 175 lbm man (i) on eartch and (ii) on the moon, where the acceleration of gravity is 1/6th its value on earth"
   ]
  },
  {
   "cell_type": "code",
   "execution_count": 5,
   "metadata": {
    "collapsed": false
   },
   "outputs": [
    {
     "name": "stdout",
     "output_type": "stream",
     "text": [
      "5.43916628002427 slug\n",
      "5630.45 poundal\n"
     ]
    }
   ],
   "source": [
    "# (a)\n",
    "\n",
    "# define given constants\n",
    "m = 175 * ureg.pounds\n",
    "aearth = 32.174 * ureg.feet/ureg.seconds**2\n",
    "amoon = (32.174 * 1/6) * ureg.feet/ureg.seconds**2\n",
    "\n",
    "# print mass in slugs but do not change m (use .to not .ito)\n",
    "print(m.to(ureg.slugs))\n",
    "\n",
    "# print weight in poundals using earth's acceleration\n",
    "Fearth = m * aearth\n",
    "print(Fearth.to(ureg.poundal))"
   ]
  },
  {
   "cell_type": "code",
   "execution_count": 6,
   "metadata": {
    "collapsed": false
   },
   "outputs": [
    {
     "name": "stdout",
     "output_type": "stream",
     "text": [
      "5.43916628002427 slug\n",
      "938.4083333333333 poundal\n"
     ]
    }
   ],
   "source": [
    "# print mass in slugs but do not change m\n",
    "# mass is the same on both earth and moon\n",
    "print(m.to(ureg.slugs))\n",
    "\n",
    "# print weight in poundals using moon's acceleration\n",
    "Fmoon = m * amoon\n",
    "print(Fmoon.to(ureg.poundal))"
   ]
  },
  {
   "cell_type": "markdown",
   "metadata": {},
   "source": [
    "(b) a force of 255 poundals is exerted on a 25.0 slug object. at what rate (m/s^2) does the object accelerate?"
   ]
  },
  {
   "cell_type": "code",
   "execution_count": 7,
   "metadata": {
    "collapsed": false
   },
   "outputs": [
    {
     "name": "stdout",
     "output_type": "stream",
     "text": [
      "0.1345233252945705 meter / second ** 2\n"
     ]
    }
   ],
   "source": [
    "# define given constants\n",
    "F = 355 * ureg.poundal\n",
    "m = 25 * ureg.slug\n",
    "\n",
    "# rearrange F=m a to get acceleration\n",
    "a = F/m\n",
    "\n",
    "# print acceleration in m/s^2\n",
    "print(a.to(ureg.meter/ureg.second**2))"
   ]
  },
  {
   "cell_type": "code",
   "execution_count": null,
   "metadata": {
    "collapsed": true
   },
   "outputs": [],
   "source": []
  }
 ],
 "metadata": {
  "kernelspec": {
   "display_name": "Python 3",
   "language": "python",
   "name": "python3"
  },
  "language_info": {
   "codemirror_mode": {
    "name": "ipython",
    "version": 3
   },
   "file_extension": ".py",
   "mimetype": "text/x-python",
   "name": "python",
   "nbconvert_exporter": "python",
   "pygments_lexer": "ipython3",
   "version": "3.5.1"
  }
 },
 "nbformat": 4,
 "nbformat_minor": 0
}
