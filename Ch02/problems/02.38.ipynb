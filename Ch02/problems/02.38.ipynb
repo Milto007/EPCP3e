{
 "cells": [
  {
   "cell_type": "markdown",
   "metadata": {},
   "source": [
    "# Chapter 02"
   ]
  },
  {
   "cell_type": "code",
   "execution_count": 1,
   "metadata": {
    "collapsed": true
   },
   "outputs": [],
   "source": [
    "import pint\n",
    "ureg = pint.UnitRegistry()\n",
    "\n",
    "import numpy as np\n",
    "\n",
    "from sympy import *\n",
    "init_printing()\n",
    "\n",
    "# force plots to display in notebook, not new window\n",
    "%matplotlib inline"
   ]
  },
  {
   "cell_type": "markdown",
   "metadata": {},
   "source": [
    "## Probelm 02.38\n",
    "\n",
    "A process instrument reading, Z(volt) is thought to be related to a process stream flow rate Vflow (L/s) and pressure P (kPa) by the following expression:\n",
    "\n",
    "$$ Z = aV^bP^c $$\n",
    "\n",
    "Process data have been obtained in two sets of runs--one with Vflow held constant, the other with P held constant. The data are as follows:"
   ]
  },
  {
   "cell_type": "code",
   "execution_count": 2,
   "metadata": {
    "collapsed": true
   },
   "outputs": [],
   "source": [
    "point = [1, 2, 3, 4, 5, 6, 7]\n",
    "# Vflow in L/s\n",
    "Vflow = [0.65, 1.02, 1.75, 3.43, 1.02, 1.02, 1.02]\n",
    "# P in kPa\n",
    "Pdata = [11.2, 11.2, 11.2, 11.2, 9.1, 7.6, 5.4]\n",
    "# Z in volts\n",
    "Zdata = [2.27, 2.58, 3.72, 5.21, 3.50, 4.19, 5.89]"
   ]
  },
  {
   "cell_type": "markdown",
   "metadata": {},
   "source": [
    "(a) suppose you had only performed runs 2, 3, and 5. Calculate a, b, and c algebraically from the data for these three runs"
   ]
  },
  {
   "cell_type": "markdown",
   "metadata": {},
   "source": [
    "Convert formula to linear format (y = a*x + b)\n",
    "$$ Z = a*Vflow^b * P^c $$\n",
    "$$ \\ln Z = \\ln (a*Vflow^b * P^c) $$\n",
    "$$      = c * \\ln (P) + \\ln (a) + b * \\ln (V) $$\n",
    "\n",
    "Can't use $\\ln(a)$ with linear solver, change to $A = \\ln(a)$\n",
    "then all functions will be $1*A$.\n",
    "After solving for $A$, convert back to $\\ln (a)$ using $exp(A)$"
   ]
  },
  {
   "cell_type": "code",
   "execution_count": 3,
   "metadata": {
    "collapsed": true
   },
   "outputs": [],
   "source": [
    "# Z = a*Vflow^b * P^c\n",
    "# ln Z = ln (a*Vflow^b * P^c)\n",
    "#      = c * ln (P) + ln (a) + b * ln (V)\n",
    "\n",
    "# ln (2.58) = c * ln (11.2) + A + b * ln (1.02)\n",
    "# ln (3.72) = c * ln (11.2) + A + b * ln (1.75)\n",
    "# ln (3.50) = c * ln (9.1)  + A + b * ln (1.02)\n",
    "system = Matrix(((ln(11.2), 1, ln(1.02), ln(2.58)), \n",
    "                 (ln(11.2), 1, ln(1.75), ln(3.72)),\n",
    "                 (ln(9.10), 1, ln(1.02), ln(3.50))))"
   ]
  },
  {
   "cell_type": "code",
   "execution_count": 4,
   "metadata": {
    "collapsed": true
   },
   "outputs": [],
   "source": [
    "# A = ln(a)\n",
    "A, b, c = symbols('A, b, c')"
   ]
  },
  {
   "cell_type": "code",
   "execution_count": 6,
   "metadata": {
    "collapsed": false
   },
   "outputs": [
    {
     "name": "stdout",
     "output_type": "stream",
     "text": [
      "{A: 4.48277658965389, b: 0.677890603701089, c: -1.46876566438907}\n"
     ]
    }
   ],
   "source": [
    "print(solve_linear_system(system, c, A, b))"
   ]
  },
  {
   "cell_type": "code",
   "execution_count": 7,
   "metadata": {
    "collapsed": false
   },
   "outputs": [
    {
     "data": {
      "image/png": "[encoded data removed]",
      "text/latex": [
       "$$88.4800045903306$$"
      ],
      "text/plain": [
       "88.4800045903306"
      ]
     },
     "execution_count": 7,
     "metadata": {},
     "output_type": "execute_result"
    }
   ],
   "source": [
    "# A = ln (a)\n",
    "# exp(A) = a\n",
    "exp(4.48277658965389).evalf()"
   ]
  },
  {
   "cell_type": "markdown",
   "metadata": {},
   "source": [
    "a is volts/(kPa*L/s)\n",
    "\n",
    "b and c are unitless"
   ]
  },
  {
   "cell_type": "markdown",
   "metadata": {},
   "source": [
    "(b) Now use a grpahical method and all the data to calculate a, b, and c. Comment on why you would have more confidence in this result than in that of part (a). (Hint, you will need at least two plots)."
   ]
  },
  {
   "cell_type": "code",
   "execution_count": 20,
   "metadata": {
    "collapsed": false
   },
   "outputs": [
    {
     "data": {
      "text/plain": [
       "[<matplotlib.lines.Line2D at 0x7f280ff0af28>]"
      ]
     },
     "execution_count": 20,
     "metadata": {},
     "output_type": "execute_result"
    },
    {
     "data": {
      "image/png": "[encoded data removed]",
      "text/plain": [
       "<matplotlib.figure.Figure at 0x7f280fff2550>"
      ]
     },
     "metadata": {},
     "output_type": "display_data"
    }
   ],
   "source": [
    "import matplotlib.pyplot as plt\n",
    "\n",
    "# plot ln Z vs ln V (P constant)\n",
    "plt.loglog(Zdata, Vflow, 'ro-')"
   ]
  },
  {
   "cell_type": "code",
   "execution_count": 19,
   "metadata": {
    "collapsed": false
   },
   "outputs": [
    {
     "data": {
      "text/plain": [
       "[<matplotlib.lines.Line2D at 0x7f28100dd3c8>]"
      ]
     },
     "execution_count": 19,
     "metadata": {},
     "output_type": "execute_result"
    },
    {
     "data": {
      "image/png": "[encoded data removed]",
      "text/plain": [
       "<matplotlib.figure.Figure at 0x7f280fe96160>"
      ]
     },
     "metadata": {},
     "output_type": "display_data"
    }
   ],
   "source": [
    "# use data where Z is increasing only (0-3)\n",
    "newZdata = [ln(Zdata[0]), ln(Zdata[1]), ln(Zdata[2]), ln(Zdata[3])]\n",
    "newVdata = [ln(Vflow[0]), ln(Vflow[1]), ln(Vflow[2]), ln(Vflow[3])]\n",
    "plt.plot(newZdata, newVdata, 'ro-')"
   ]
  },
  {
   "cell_type": "markdown",
   "metadata": {},
   "source": [
    "Function is\n",
    "$$ \\ln Z = b * \\ln V + (\\ln a + c \\ln P) $$\n",
    "\n",
    "with P constant, b is the slope and $ \\ln a + c \\ln P $ is the intercept"
   ]
  },
  {
   "cell_type": "code",
   "execution_count": 34,
   "metadata": {
    "collapsed": false
   },
   "outputs": [
    {
     "data": {
      "image/png": "[encoded data removed]",
      "text/latex": [
       "$$0.499476016509944 x + 1.03494556640371$$"
      ],
      "text/plain": [
       "0.499476016509944⋅x + 1.03494556640371"
      ]
     },
     "execution_count": 34,
     "metadata": {},
     "output_type": "execute_result"
    }
   ],
   "source": [
    "y2 = ln(Zdata[3]).evalf()\n",
    "x2 = ln(Vflow[3]).evalf()\n",
    "y1 = ln(Zdata[0]).evalf()\n",
    "x1 = ln(Vflow[0]).evalf()\n",
    "m = (y2 - y1)/(x2 - x1)\n",
    "b = y2 - m * x2\n",
    "y = Function('y')\n",
    "x = symbols('x')\n",
    "y = m * x + b\n",
    "y"
   ]
  },
  {
   "cell_type": "markdown",
   "metadata": {},
   "source": [
    "Slope here is $b = 0.499$ and intercept is $\\ln a + c \\ln P = 1.035$"
   ]
  },
  {
   "cell_type": "code",
   "execution_count": 22,
   "metadata": {
    "collapsed": false
   },
   "outputs": [
    {
     "data": {
      "text/plain": [
       "[<matplotlib.lines.Line2D at 0x7f280fcec8d0>]"
      ]
     },
     "execution_count": 22,
     "metadata": {},
     "output_type": "execute_result"
    },
    {
     "data": {
      "image/png": "[encoded data removed]",
      "text/plain": [
       "<matplotlib.figure.Figure at 0x7f280feaef98>"
      ]
     },
     "metadata": {},
     "output_type": "display_data"
    }
   ],
   "source": [
    "# do the same for ln Z vs ln P (V constant)\n",
    "plt.loglog(Zdata, Pdata, 'ro-')"
   ]
  },
  {
   "cell_type": "code",
   "execution_count": 27,
   "metadata": {
    "collapsed": false
   },
   "outputs": [
    {
     "data": {
      "text/plain": [
       "[<matplotlib.lines.Line2D at 0x7f280fa1a198>]"
      ]
     },
     "execution_count": 27,
     "metadata": {},
     "output_type": "execute_result"
    },
    {
     "data": {
      "image/png": "[encoded data removed]",
      "text/plain": [
       "<matplotlib.figure.Figure at 0x7f280fb211d0>"
      ]
     },
     "metadata": {},
     "output_type": "display_data"
    }
   ],
   "source": [
    "# use data when P is not repeated (4-6)\n",
    "newZdata = [ln(Zdata[4]), ln(Zdata[5]), ln(Zdata[6])]\n",
    "newPdata = [ln(Pdata[4]), ln(Pdata[5]), ln(Pdata[6])]\n",
    "plt.plot(newZdata, newPdata, 'ro-')"
   ]
  },
  {
   "cell_type": "markdown",
   "metadata": {},
   "source": [
    "Function is\n",
    "$$ \\ln Z = (b * \\ln V + \\ln a) + c \\ln P $$\n",
    "\n",
    "with V constant, c is the slope and $ \\ln a + b \\ln V $ is the intercept"
   ]
  },
  {
   "cell_type": "code",
   "execution_count": 35,
   "metadata": {
    "collapsed": false
   },
   "outputs": [
    {
     "data": {
      "image/png": "[encoded data removed]",
      "text/latex": [
       "$$- 0.997351033166852 x + 3.45518773633826$$"
      ],
      "text/plain": [
       "-- -0.997351033166852⋅x + 3.45518773633826"
      ]
     },
     "execution_count": 35,
     "metadata": {},
     "output_type": "execute_result"
    }
   ],
   "source": [
    "y2 = ln(Zdata[6]).evalf()\n",
    "x2 = ln(Pdata[6]).evalf()\n",
    "y1 = ln(Zdata[4]).evalf()\n",
    "x1 = ln(Pdata[4]).evalf()\n",
    "m = (y2 - y1)/(x2 - x1)\n",
    "b = y2 - m * x2\n",
    "y = Function('y')\n",
    "x = symbols('x')\n",
    "y = m * x + b\n",
    "y"
   ]
  },
  {
   "cell_type": "markdown",
   "metadata": {},
   "source": [
    "Slope here is $c = -1.0$ and intercept is $\\ln a + b \\ln V = 3.4551$"
   ]
  },
  {
   "cell_type": "code",
   "execution_count": 38,
   "metadata": {
    "collapsed": false
   },
   "outputs": [
    {
     "data": {
      "image/png": "[encoded data removed]",
      "text/latex": [
       "$$31.4296716071208 x$$"
      ],
      "text/plain": [
       "31.4296716071208⋅x"
      ]
     },
     "execution_count": 38,
     "metadata": {},
     "output_type": "execute_result"
    }
   ],
   "source": [
    "# Z = a*V^b*P^c\n",
    "y2 = Zdata[6]\n",
    "x2 = (Pdata[6]**-1)*(Vflow[6]**0.499)\n",
    "y1 = Zdata[4]\n",
    "x1 = (Pdata[4]**-1)*(Vflow[4]**0.499)\n",
    "m = (y2 - y1)/(x2 - x1)\n",
    "\n",
    "y = Function('y')\n",
    "x = symbols('x')\n",
    "y = m * x\n",
    "y"
   ]
  },
  {
   "cell_type": "markdown",
   "metadata": {},
   "source": [
    "Slope here is $a = 31.4$ with units volt * kPa/(L/s)"
   ]
  },
  {
   "cell_type": "markdown",
   "metadata": {},
   "source": [
    "$$ a = 31.4 $$\n",
    "$$ b = 0.499 $$\n",
    "$$ c = -1.0 $$"
   ]
  },
  {
   "cell_type": "markdown",
   "metadata": {},
   "source": [
    "I am unsure why this is better than answers in part (a)"
   ]
  },
  {
   "cell_type": "code",
   "execution_count": 42,
   "metadata": {
    "collapsed": false
   },
   "outputs": [
    {
     "name": "stdout",
     "output_type": "stream",
     "text": [
      "[  31.3514340174977]\n",
      "[ 0.501333887269282]\n",
      "[-0.997351033166852]\n"
     ]
    }
   ],
   "source": [
    "# try a nonlinear solver\n",
    "a, b, c = symbols('a b c')\n",
    "f1 = (Pdata[6]**c)*(Vflow[6]**b)*a - Zdata[6]\n",
    "f2 = (Pdata[4]**c)*(Vflow[4]**b)*a - Zdata[4]\n",
    "f3 = (Pdata[0]**c)*(Vflow[0]**b)*a - Zdata[0]\n",
    "print(nsolve((f1, f2, f3), (a, b, c), (30, 0.5, -0.5)))"
   ]
  },
  {
   "cell_type": "markdown",
   "metadata": {},
   "source": [
    "The nonlinear solver seems to have answers closer to the answers in part (b) so it is true that part (b) is a better method."
   ]
  },
  {
   "cell_type": "code",
   "execution_count": null,
   "metadata": {
    "collapsed": true
   },
   "outputs": [],
   "source": []
  }
 ],
 "metadata": {
  "kernelspec": {
   "display_name": "Python 3",
   "language": "python",
   "name": "python3"
  },
  "language_info": {
   "codemirror_mode": {
    "name": "ipython",
    "version": 3
   },
   "file_extension": ".py",
   "mimetype": "text/x-python",
   "name": "python",
   "nbconvert_exporter": "python",
   "pygments_lexer": "ipython3",
   "version": "3.5.1"
  }
 },
 "nbformat": 4,
 "nbformat_minor": 0
}
