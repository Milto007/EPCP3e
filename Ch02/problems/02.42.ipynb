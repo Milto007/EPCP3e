{
 "cells": [
  {
   "cell_type": "markdown",
   "metadata": {},
   "source": [
    "# Chapter 02"
   ]
  },
  {
   "cell_type": "code",
   "execution_count": 1,
   "metadata": {
    "collapsed": true
   },
   "outputs": [],
   "source": [
    "import pint\n",
    "ureg = pint.UnitRegistry()\n",
    "\n",
    "import numpy as np\n",
    "\n",
    "from sympy import *\n",
    "init_printing()\n",
    "\n",
    "# force plots to display in notebook, not new window\n",
    "%matplotlib inline"
   ]
  },
  {
   "cell_type": "markdown",
   "metadata": {},
   "source": [
    "## Probelm 02.42\n",
    "\n",
    "A published study of a chemical reaction, A->P indicates that if the reactor initially contains A at a concentration of Ca0 (g/L) and the raction temperature, T, is kept constant, then the concentration of P in the reactor increases with time according to the formula\n",
    "\n",
    "$$ C_p (g/L) = C_{a0} (1 - e^{-kt}) $$\n",
    "\n",
    "The *rate constant*, $k(s^{-1})$, is reportedly a function only of the reaction temperature. To test this finding, the reaction is run in four different laboratories. The reported experimental results are given below."
   ]
  },
  {
   "cell_type": "code",
   "execution_count": 2,
   "metadata": {
    "collapsed": true
   },
   "outputs": [],
   "source": [
    "# t is in (s)\n",
    "tdata = [0, 10, 20, 30, 60, 120, 240, 360, 480, 600]\n",
    "\n",
    "# C_p is in (g/L)\n",
    "# T = 275 C; C_a0 = 4.83\n",
    "C_a01 = 4.83\n",
    "data1 = [0.0, 0.287, 0.594, 0.871, 1.51, 2.62, 3.91, 4.30, 4.62, 4.68]\n",
    "\n",
    "# T = 275 C; C_a0 = 12.2\n",
    "C_a02 = 12.2\n",
    "data2 = [0, 1.21, 2.43, 3.38, 5.89, 8.90, 11.2, 12.1, 12.1, 12.2]\n",
    "\n",
    "# T = 275 C; C_a0 = 5.14\n",
    "C_a03 = 5.14\n",
    "data3 = [0.0, 0.310, 0.614, 0.885, 1.64, 2.66, 3.87, 4.61, 4.89, 5.03]\n",
    "\n",
    "# T = 275 C; C_a0 = 3.69\n",
    "C_a04 = 3.69\n",
    "data4 = [0.0, 0.245, 0.465, 0.670, 1.20, 2.06, 3.03, 3.32, 3.54, 3.59]"
   ]
  },
  {
   "cell_type": "markdown",
   "metadata": {},
   "source": [
    "(a) What plot would yield a straight line if the given equation is correct?"
   ]
  },
  {
   "cell_type": "markdown",
   "metadata": {},
   "source": [
    "$$ C_p  = C_{a0} (1 - e^{-kt}) $$\n",
    "$$ C_p / C_{a0}  =  (1 - e^{-kt}) $$\n",
    "$$ 1 - C_p / C_{a0} = e^{-kt} $$\n",
    "$$ ln (1 - C_p / C_{a0}) = -kt $$\n",
    "\n",
    "Plot $ln (1 - C_p / C_{a0})$ vs $t$ where $slope = -k$ and there is no intercept"
   ]
  },
  {
   "cell_type": "markdown",
   "metadata": {},
   "source": [
    "(b) Enter the given data into a spreadsheet. For each data set ($C_p$ versus $t$), generate the plot of part (a) and determine the corresponding value of $k$. Your spreadsheet program probably has a built-in function to perform a linear regression on the data in two specified columns)."
   ]
  },
  {
   "cell_type": "markdown",
   "metadata": {},
   "source": [
    "## Solution\n",
    "\n",
    "It would be better to create a function that could handle this instead of copying the code 4 times, but I worked through this and did not do much revision\n",
    "\n",
    "```python\n",
    "def function findk(tdata, Cpdata, C_a0):\n",
    "    ...\n",
    "    return (-slope)\n",
    "```"
   ]
  },
  {
   "cell_type": "markdown",
   "metadata": {},
   "source": [
    "#### Lab 1 Data"
   ]
  },
  {
   "cell_type": "code",
   "execution_count": 3,
   "metadata": {
    "collapsed": false
   },
   "outputs": [
    {
     "data": {
      "image/png": "[encoded data removed]",
      "text/latex": [
       "$$\\log{\\left (1 - \\frac{Cp}{C_{a0}} \\right )}$$"
      ],
      "text/plain": [
       "   ⎛     Cp⎞\n",
       "log⎜1 - ───⎟\n",
       "   ⎝    Cₐ₀⎠"
      ]
     },
     "execution_count": 3,
     "metadata": {},
     "output_type": "execute_result"
    }
   ],
   "source": [
    "# define function for y values\n",
    "y = Function('y')\n",
    "Cp, C_a0 = symbols('Cp C_a0')\n",
    "\n",
    "y = ln(1 - Cp/C_a0)\n",
    "y"
   ]
  },
  {
   "cell_type": "code",
   "execution_count": 4,
   "metadata": {
    "collapsed": false
   },
   "outputs": [],
   "source": [
    "# create array of y values substituting data#[i] for Cp and C_a0# for C_a0\n",
    "y1 = []\n",
    "for i in range(10):\n",
    "    y1.append(y.subs([(C_a0, C_a01), (Cp, data1[i])]))"
   ]
  },
  {
   "cell_type": "code",
   "execution_count": 5,
   "metadata": {
    "collapsed": false
   },
   "outputs": [
    {
     "data": {
      "image/png": "[encoded data removed]",
      "text/latex": [
       "$$- 0.00606662808569644 x$$"
      ],
      "text/plain": [
       "-0.00606662808569644⋅x"
      ]
     },
     "execution_count": 5,
     "metadata": {},
     "output_type": "execute_result"
    }
   ],
   "source": [
    "# calculate A.1-3 equations from given data\n",
    "# assuming correct data types and same dimensions\n",
    "sx = 0\n",
    "for t in tdata:\n",
    "    sx += t\n",
    "sx = sx/len(tdata)\n",
    "\n",
    "sxx = 0\n",
    "for t in tdata:\n",
    "    sxx += t**2\n",
    "sxx = sxx/len(tdata)\n",
    "\n",
    "sy = 0\n",
    "for l in y1:\n",
    "    sy += l\n",
    "sy = sy/len(y1)\n",
    "\n",
    "sxy = 0\n",
    "for i in range(len(y1)):\n",
    "    sxy += tdata[i] * y1[i]\n",
    "sxy = sxy/len(tdata)\n",
    "\n",
    "# find slope and intercept of best fit line (least squares)\n",
    "# use equations A.1-4 and A.1-5\n",
    "f = Function('f')\n",
    "x = symbols('x')\n",
    "\n",
    "a = (sxy - sx*sy)/(sxx - sx**2)\n",
    "#b = (sxx*sy - sxy*sx)/(sxx - sx**2)\n",
    "b = 0\n",
    "\n",
    "# define and print function\n",
    "f = a * x + b\n",
    "f"
   ]
  },
  {
   "cell_type": "code",
   "execution_count": 6,
   "metadata": {
    "collapsed": false
   },
   "outputs": [
    {
     "data": {
      "text/plain": [
       "[<matplotlib.lines.Line2D at 0x7fb1a3f7f4a8>,\n",
       " <matplotlib.lines.Line2D at 0x7fb1a3f7f668>]"
      ]
     },
     "execution_count": 6,
     "metadata": {},
     "output_type": "execute_result"
    },
    {
     "data": {
      "image/png": "[encoded data removed]",
      "text/plain": [
       "<matplotlib.figure.Figure at 0x7fb1a4057908>"
      ]
     },
     "metadata": {},
     "output_type": "display_data"
    }
   ],
   "source": [
    "# plot data1 values with both lab1 and calc'd data\n",
    "y2 = []\n",
    "for i in range(10):\n",
    "    y2.append(f.subs([(x, tdata[i])]))\n",
    "\n",
    "import matplotlib.pyplot as plt\n",
    "\n",
    "plt.plot(tdata, y1, 'ro-', tdata, y2, 'bo-')"
   ]
  },
  {
   "cell_type": "markdown",
   "metadata": {},
   "source": [
    "#### Lab 2 Data"
   ]
  },
  {
   "cell_type": "code",
   "execution_count": 7,
   "metadata": {
    "collapsed": true
   },
   "outputs": [],
   "source": [
    "# define function\n",
    "y = Function('y')\n",
    "Cp, C_a0 = symbols('Cp C_a0')\n",
    "\n",
    "y = ln(1 - Cp/C_a0)\n",
    "\n",
    "# had to remove last data point since it evaluated to inf which pyplot cannot use\n",
    "tdata2 = tdata[0:9]\n",
    "\n",
    "# create array of y values substituting data#[i] for Cp and C_a0# for C_a0\n",
    "y1 = []\n",
    "for i in range(9):\n",
    "    y1.append(y.subs([(C_a0, C_a02), (Cp, data2[i])]))"
   ]
  },
  {
   "cell_type": "code",
   "execution_count": 8,
   "metadata": {
    "collapsed": false
   },
   "outputs": [
    {
     "data": {
      "image/png": "[encoded data removed]",
      "text/latex": [
       "$$- 0.0110410880872567 x$$"
      ],
      "text/plain": [
       "-0.0110410880872567⋅x"
      ]
     },
     "execution_count": 8,
     "metadata": {},
     "output_type": "execute_result"
    }
   ],
   "source": [
    "# calculate A.1-3 equations from given data\n",
    "# assuming correct data types and same dimensions\n",
    "sx = 0\n",
    "for t in tdata2:\n",
    "    sx += t\n",
    "sx = sx/len(tdata2)\n",
    "\n",
    "sxx = 0\n",
    "for t in tdata2:\n",
    "    sxx += t**2\n",
    "sxx = sxx/len(tdata2)\n",
    "\n",
    "sy = 0\n",
    "for l in y1:\n",
    "    sy += l\n",
    "sy = sy/len(y1)\n",
    "\n",
    "sxy = 0\n",
    "for i in range(len(y1)):\n",
    "    sxy += tdata2[i] * y1[i]\n",
    "sxy = sxy/len(tdata2)\n",
    "\n",
    "# find slope and intercept of best fit line (least squares)\n",
    "# use equations A.1-4 and A.1-5\n",
    "f = Function('f')\n",
    "x = symbols('x')\n",
    "\n",
    "a = (sxy - sx*sy)/(sxx - sx**2)\n",
    "#b = (sxx*sy - sxy*sx)/(sxx - sx**2)\n",
    "b = 0\n",
    "\n",
    "# define and print function\n",
    "f = a * x + b\n",
    "f"
   ]
  },
  {
   "cell_type": "code",
   "execution_count": 9,
   "metadata": {
    "collapsed": false
   },
   "outputs": [
    {
     "data": {
      "text/plain": [
       "[<matplotlib.lines.Line2D at 0x7fb1a1e8a2b0>,\n",
       " <matplotlib.lines.Line2D at 0x7fb1a1e8a550>]"
      ]
     },
     "execution_count": 9,
     "metadata": {},
     "output_type": "execute_result"
    },
    {
     "data": {
      "image/png": "[encoded data removed]",
      "text/plain": [
       "<matplotlib.figure.Figure at 0x7fb1a1ed7f28>"
      ]
     },
     "metadata": {},
     "output_type": "display_data"
    }
   ],
   "source": [
    "y2 = []\n",
    "for i in range(9):\n",
    "    y2.append(f.subs([(x, tdata[i])]))\n",
    "\n",
    "import matplotlib.pyplot as plt\n",
    "plt.plot(tdata2, y1, 'ro-', tdata2, y2, 'bo-')"
   ]
  },
  {
   "cell_type": "markdown",
   "metadata": {},
   "source": [
    "#### Lab 3 Data"
   ]
  },
  {
   "cell_type": "code",
   "execution_count": 10,
   "metadata": {
    "collapsed": true
   },
   "outputs": [],
   "source": [
    "# define function\n",
    "y = Function('y')\n",
    "Cp, C_a0 = symbols('Cp C_a0')\n",
    "\n",
    "y = ln(1 - Cp/C_a0)\n",
    "\n",
    "# create array of y values substituting data#[i] for Cp and C_a0# for C_a0\n",
    "y1 = []\n",
    "for i in range(10):\n",
    "    y1.append(y.subs([(C_a0, C_a03), (Cp, data3[i])]))"
   ]
  },
  {
   "cell_type": "code",
   "execution_count": 11,
   "metadata": {
    "collapsed": false
   },
   "outputs": [
    {
     "data": {
      "image/png": "[encoded data removed]",
      "text/latex": [
       "$$- 0.00635210299104909 x$$"
      ],
      "text/plain": [
       "-0.00635210299104909⋅x"
      ]
     },
     "execution_count": 11,
     "metadata": {},
     "output_type": "execute_result"
    }
   ],
   "source": [
    "# calculate A.1-3 equations from given data\n",
    "# assuming correct data types and same dimensions\n",
    "sx = 0\n",
    "for t in tdata:\n",
    "    sx += t\n",
    "sx = sx/len(tdata)\n",
    "\n",
    "sxx = 0\n",
    "for t in tdata:\n",
    "    sxx += t**2\n",
    "sxx = sxx/len(tdata)\n",
    "\n",
    "sy = 0\n",
    "for l in y1:\n",
    "    sy += l\n",
    "sy = sy/len(y1)\n",
    "\n",
    "sxy = 0\n",
    "for i in range(len(y1)):\n",
    "    sxy += tdata[i] * y1[i]\n",
    "sxy = sxy/len(tdata)\n",
    "\n",
    "# find slope and intercept of best fit line (least squares)\n",
    "# use equations A.1-4 and A.1-5\n",
    "f = Function('f')\n",
    "x = symbols('x')\n",
    "\n",
    "a = (sxy - sx*sy)/(sxx - sx**2)\n",
    "#b = (sxx*sy - sxy*sx)/(sxx - sx**2)\n",
    "b = 0\n",
    "\n",
    "# define and print function\n",
    "f = a * x + b\n",
    "f"
   ]
  },
  {
   "cell_type": "code",
   "execution_count": 12,
   "metadata": {
    "collapsed": false
   },
   "outputs": [
    {
     "data": {
      "text/plain": [
       "[<matplotlib.lines.Line2D at 0x7fb1c01d9470>,\n",
       " <matplotlib.lines.Line2D at 0x7fb1c01d9588>]"
      ]
     },
     "execution_count": 12,
     "metadata": {},
     "output_type": "execute_result"
    },
    {
     "data": {
      "image/png": "[encoded data removed]",
      "text/plain": [
       "<matplotlib.figure.Figure at 0x7fb1a1e33908>"
      ]
     },
     "metadata": {},
     "output_type": "display_data"
    }
   ],
   "source": [
    "y2 = []\n",
    "for i in range(10):\n",
    "    y2.append(f.subs([(x, tdata[i])]))\n",
    "\n",
    "import matplotlib.pyplot as plt\n",
    "plt.plot(tdata, y1, 'ro-', tdata, y2, 'bo-')"
   ]
  },
  {
   "cell_type": "markdown",
   "metadata": {},
   "source": [
    "#### Lab 4 Data"
   ]
  },
  {
   "cell_type": "code",
   "execution_count": 13,
   "metadata": {
    "collapsed": true
   },
   "outputs": [],
   "source": [
    "# define function\n",
    "y = Function('y')\n",
    "Cp, C_a0 = symbols('Cp C_a0')\n",
    "\n",
    "y = ln(1 - Cp/C_a0)\n",
    "\n",
    "# create array of y values substituting data#[i] for Cp and C_a0# for C_a0\n",
    "y1 = []\n",
    "for i in range(10):\n",
    "    y1.append(y.subs([(C_a0, C_a04), (Cp, data4[i])]))"
   ]
  },
  {
   "cell_type": "code",
   "execution_count": 14,
   "metadata": {
    "collapsed": false
   },
   "outputs": [
    {
     "data": {
      "image/png": "[encoded data removed]",
      "text/latex": [
       "$$- 0.00626728915014607 x$$"
      ],
      "text/plain": [
       "-0.00626728915014607⋅x"
      ]
     },
     "execution_count": 14,
     "metadata": {},
     "output_type": "execute_result"
    }
   ],
   "source": [
    "# calculate A.1-3 equations from given data\n",
    "# assuming correct data types and same dimensions\n",
    "sx = 0\n",
    "for t in tdata:\n",
    "    sx += t\n",
    "sx = sx/len(tdata)\n",
    "\n",
    "sxx = 0\n",
    "for t in tdata:\n",
    "    sxx += t**2\n",
    "sxx = sxx/len(tdata)\n",
    "\n",
    "sy = 0\n",
    "for l in y1:\n",
    "    sy += l\n",
    "sy = sy/len(y1)\n",
    "\n",
    "sxy = 0\n",
    "for i in range(len(y1)):\n",
    "    sxy += tdata[i] * y1[i]\n",
    "sxy = sxy/len(tdata)\n",
    "\n",
    "# find slope and intercept of best fit line (least squares)\n",
    "# use equations A.1-4 and A.1-5\n",
    "f = Function('f')\n",
    "x = symbols('x')\n",
    "\n",
    "a = (sxy - sx*sy)/(sxx - sx**2)\n",
    "#b = (sxx*sy - sxy*sx)/(sxx - sx**2)\n",
    "b = 0\n",
    "\n",
    "# define and print function\n",
    "f = a * x + b\n",
    "f"
   ]
  },
  {
   "cell_type": "code",
   "execution_count": 15,
   "metadata": {
    "collapsed": false
   },
   "outputs": [
    {
     "data": {
      "text/plain": [
       "[<matplotlib.lines.Line2D at 0x7fb1a1d57f98>,\n",
       " <matplotlib.lines.Line2D at 0x7fb1a1d5c278>]"
      ]
     },
     "execution_count": 15,
     "metadata": {},
     "output_type": "execute_result"
    },
    {
     "data": {
      "image/png": "[encoded data removed]",
      "text/plain": [
       "<matplotlib.figure.Figure at 0x7fb1a1dd0710>"
      ]
     },
     "metadata": {},
     "output_type": "display_data"
    }
   ],
   "source": [
    "y2 = []\n",
    "for i in range(10):\n",
    "    y2.append(f.subs([(x, tdata[i])]))\n",
    "\n",
    "import matplotlib.pyplot as plt\n",
    "plt.plot(tdata, y1, 'ro-', tdata, y2, 'bo-')"
   ]
  },
  {
   "cell_type": "markdown",
   "metadata": {},
   "source": [
    "(c) Use the results in part (b) to come up with a good estimate of the value of $k$ at 275C. Explain how you did it."
   ]
  },
  {
   "cell_type": "markdown",
   "metadata": {},
   "source": [
    "Take an average of all the values of $k$"
   ]
  },
  {
   "cell_type": "code",
   "execution_count": 16,
   "metadata": {
    "collapsed": false
   },
   "outputs": [
    {
     "name": "stdout",
     "output_type": "stream",
     "text": [
      "kavg = 0.00622867340896\n"
     ]
    }
   ],
   "source": [
    "klab1 = 0.00606662808569644\n",
    "klab2 = 0.0110410880872567\n",
    "klab3 = 0.00635210299104909\n",
    "klab4 = 0.00626728915014607\n",
    "\n",
    "# ignore lab 2, appears to be incorrect\n",
    "print(\"kavg =\", np.mean([klab1, klab3, klab4]))"
   ]
  },
  {
   "cell_type": "markdown",
   "metadata": {},
   "source": [
    "(d) If you did the calculation in part (b) correctly, one of the calculated values of $k$ should be considerably out of line with the others. Think of as many possible explanations for this result as you can (up to 10)."
   ]
  },
  {
   "cell_type": "markdown",
   "metadata": {},
   "source": [
    "- Incorrectly measuring the concentration\n",
    "- Variations in temperature (bad temp control)\n",
    "- Taking samples at incorrect or slightly different times\n",
    "- Poorly mixed substance (leading to misleading samples)\n",
    "- Impurities present"
   ]
  },
  {
   "cell_type": "code",
   "execution_count": null,
   "metadata": {
    "collapsed": true
   },
   "outputs": [],
   "source": []
  }
 ],
 "metadata": {
  "kernelspec": {
   "display_name": "Python 3",
   "language": "python",
   "name": "python3"
  },
  "language_info": {
   "codemirror_mode": {
    "name": "ipython",
    "version": 3
   },
   "file_extension": ".py",
   "mimetype": "text/x-python",
   "name": "python",
   "nbconvert_exporter": "python",
   "pygments_lexer": "ipython3",
   "version": "3.5.1"
  }
 },
 "nbformat": 4,
 "nbformat_minor": 0
}
