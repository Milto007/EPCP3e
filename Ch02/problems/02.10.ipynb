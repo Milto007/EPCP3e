{
 "cells": [
  {
   "cell_type": "markdown",
   "metadata": {},
   "source": [
    "# Chapter 02"
   ]
  },
  {
   "cell_type": "code",
   "execution_count": 38,
   "metadata": {
    "collapsed": true
   },
   "outputs": [],
   "source": [
    "# import pint units package\n",
    "import pint\n",
    "ureg = pint.UnitRegistry()\n",
    "\n",
    "from sympy import *\n",
    "init_printing()"
   ]
  },
  {
   "cell_type": "markdown",
   "metadata": {},
   "source": [
    "## Problem 2.10\n",
    "\n",
    "Five hundred lbm of nitrogen is to be charged into a small metal cylinder at 25 degrees celcius, at a pressure such that the gas density is 11.5 kg/m^3. Without using a calculator, estimate the required cylinder volume. Show your work."
   ]
  },
  {
   "cell_type": "code",
   "execution_count": 39,
   "metadata": {
    "collapsed": false
   },
   "outputs": [],
   "source": [
    "# define givens\n",
    "m = 500 * ureg.pounds\n",
    "rho = 11.5 * ureg.kilograms/ureg.meters**3\n",
    "\n",
    "# convert mass to same units (kg) \n",
    "m.ito(ureg.kilograms)"
   ]
  },
  {
   "cell_type": "code",
   "execution_count": 40,
   "metadata": {
    "collapsed": false
   },
   "outputs": [
    {
     "name": "stdout",
     "output_type": "stream",
     "text": [
      "m/rho has correct units and dimensionality\n"
     ]
    }
   ],
   "source": [
    "# check dimensionality\n",
    "# should be [length]^3 for volume\n",
    "if ((m/rho).dimensionality == '[length]**3' and\n",
    "    (m/rho).units == (ureg.meters**3)):\n",
    "    print(\"m/rho has correct units and dimensionality\")\n",
    "else:\n",
    "    print(\"m/rho units and/or dimensionality is incorrect\")"
   ]
  },
  {
   "cell_type": "code",
   "execution_count": 41,
   "metadata": {
    "collapsed": false
   },
   "outputs": [
    {
     "name": "stdout",
     "output_type": "stream",
     "text": [
      "m is  226.796185 kilogram\n",
      "rho is  11.5 kilogram / meter ** 3\n"
     ]
    }
   ],
   "source": [
    "# visually check units\n",
    "print(\"m is \", m)\n",
    "print(\"rho is \", rho)"
   ]
  },
  {
   "cell_type": "code",
   "execution_count": 42,
   "metadata": {
    "collapsed": false
   },
   "outputs": [
    {
     "data": {
      "text/html": [
       "19.72140739130435 meter<sup>3</sup>"
      ],
      "text/latex": [
       "$19.72140739130435 meter^{3}$"
      ],
      "text/plain": [
       "<Quantity(19.72140739130435, 'meter ** 3')>"
      ]
     },
     "execution_count": 42,
     "metadata": {},
     "output_type": "execute_result"
    }
   ],
   "source": [
    "m/rho"
   ]
  },
  {
   "cell_type": "code",
   "execution_count": 43,
   "metadata": {
    "collapsed": false
   },
   "outputs": [
    {
     "data": {
      "text/html": [
       "20.0 meter<sup>3</sup>"
      ],
      "text/latex": [
       "$20.0 meter^{3}$"
      ],
      "text/plain": [
       "<Quantity(20.0, 'meter ** 3')>"
      ]
     },
     "execution_count": 43,
     "metadata": {},
     "output_type": "execute_result"
    }
   ],
   "source": [
    "# round to 1 sig sig\n",
    "round(19.721, -1) * ureg.meters**3"
   ]
  },
  {
   "cell_type": "code",
   "execution_count": null,
   "metadata": {
    "collapsed": true
   },
   "outputs": [],
   "source": []
  }
 ],
 "metadata": {
  "kernelspec": {
   "display_name": "Python 3",
   "language": "python",
   "name": "python3"
  },
  "language_info": {
   "codemirror_mode": {
    "name": "ipython",
    "version": 3
   },
   "file_extension": ".py",
   "mimetype": "text/x-python",
   "name": "python",
   "nbconvert_exporter": "python",
   "pygments_lexer": "ipython3",
   "version": "3.5.1"
  }
 },
 "nbformat": 4,
 "nbformat_minor": 0
}
