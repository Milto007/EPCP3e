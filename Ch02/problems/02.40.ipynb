{
 "cells": [
  {
   "cell_type": "markdown",
   "metadata": {},
   "source": [
    "# Chapter 02"
   ]
  },
  {
   "cell_type": "code",
   "execution_count": 1,
   "metadata": {
    "collapsed": true
   },
   "outputs": [],
   "source": [
    "import pint\n",
    "ureg = pint.UnitRegistry()\n",
    "\n",
    "import numpy as np\n",
    "\n",
    "from sympy import *\n",
    "init_printing()\n",
    "\n",
    "# force plots to display in notebook, not new window\n",
    "%matplotlib inline"
   ]
  },
  {
   "cell_type": "markdown",
   "metadata": {},
   "source": [
    "## Problem 02.40\n",
    "\n"
   ]
  },
  {
   "cell_type": "markdown",
   "metadata": {},
   "source": [
    "A solution containing hazardous waste is charged into a storage tank and subjected to a chemical treatment that decomposes the waste to harmless products. The concentration of the decomposing waste, C, has been reported to vary with time according to the formula\n",
    "\n",
    "$$ C = 1 / (a + b t) $$\n",
    "\n",
    "When sufficient time has elapsed for the concentration to drop to 0.01 g/L, the contents of the tank are discharged into a river that passes by the plant. The following data are taken for C and t:"
   ]
  },
  {
   "cell_type": "code",
   "execution_count": 2,
   "metadata": {
    "collapsed": true
   },
   "outputs": [],
   "source": [
    "# t is in hours\n",
    "tdata = [1.0, 2.0, 3.0, 4.0, 5.0]\n",
    "# C is in g/L\n",
    "Cdata = [1.43, 1.02, 0.73, 0.53, 0.38]"
   ]
  },
  {
   "cell_type": "markdown",
   "metadata": {},
   "source": [
    "(a) If the given formula is correct, what plot would yield a straight line that would enable you to determine the parameters $a$ and $b$?"
   ]
  },
  {
   "cell_type": "markdown",
   "metadata": {},
   "source": [
    "$$ C = 1 / (a + b t) $$ ->\n",
    "$$ 1/C = a + b t $$\n",
    "\n",
    "Plot $1/C$ vs $t$ where the slope is $b$ and the intercept is $a$"
   ]
  },
  {
   "cell_type": "code",
   "execution_count": 7,
   "metadata": {
    "collapsed": false
   },
   "outputs": [
    {
     "data": {
      "text/plain": [
       "[<matplotlib.lines.Line2D at 0x7fbef92df860>]"
      ]
     },
     "execution_count": 7,
     "metadata": {},
     "output_type": "execute_result"
    },
    {
     "data": {
      "image/png": "[encoded data removed]",
      "text/plain": [
       "<matplotlib.figure.Figure at 0x7fbef93162e8>"
      ]
     },
     "metadata": {},
     "output_type": "display_data"
    }
   ],
   "source": [
    "t = symbols('t')\n",
    "Cinv = [1/Cdata[0], 1/Cdata[1], 1/Cdata[2], 1/Cdata[3], 1/Cdata[4]]\n",
    "\n",
    "import matplotlib.pyplot as plt\n",
    "plt.plot(Cinv, tdata,'ro-')"
   ]
  },
  {
   "cell_type": "markdown",
   "metadata": {},
   "source": [
    "(b) Estimate a and b using the method of least squares (Appendix A.1). Check the goodness of fit by generating a plot of C vs t that shows both the measured and predicted values of C."
   ]
  },
  {
   "cell_type": "code",
   "execution_count": 56,
   "metadata": {
    "collapsed": true
   },
   "outputs": [],
   "source": [
    "# sx = sum(ti) / number of data points\n",
    "sx = sum(tdata)/len(tdata)\n",
    "\n",
    "# sxx = sum(ti**2) / number of points\n",
    "sxx = (tdata[0]**2 + tdata[1]**2 + tdata[2]**2 + \n",
    "       tdata[3]**2 + tdata[4]**2)/len(tdata)\n",
    "\n",
    "# sy = sum(Ci) / number of points\n",
    "sy = (sum(Cinv))/len(Cinv)\n",
    "\n",
    "# sxy = sum(ti*Ci) / number of poitns\n",
    "sxy = ((Cinv[0]*tdata[0]) + (Cinv[1]*tdata[1]) + \n",
    "       (Cinv[2]*tdata[2]) + (Cinv[3]*tdata[3]) + \n",
    "       (Cinv[4]*tdata[4]))/len(tdata)"
   ]
  },
  {
   "cell_type": "code",
   "execution_count": 57,
   "metadata": {
    "collapsed": false,
    "scrolled": true
   },
   "outputs": [],
   "source": [
    "b = (sxy - sx*sy)/(sxx-(sx)**2)\n",
    "a = (sxx*sy - sxy*sx)/(sxx-(sx)**2)"
   ]
  },
  {
   "cell_type": "code",
   "execution_count": 58,
   "metadata": {
    "collapsed": false
   },
   "outputs": [
    {
     "data": {
      "text/plain": [
       "[<matplotlib.lines.Line2D at 0x7fbef8e734e0>,\n",
       " <matplotlib.lines.Line2D at 0x7fbef8e73780>]"
      ]
     },
     "execution_count": 58,
     "metadata": {},
     "output_type": "execute_result"
    },
    {
     "data": {
      "image/png": "[encoded data removed]",
      "text/plain": [
       "<matplotlib.figure.Figure at 0x7fbef8ea3080>"
      ]
     },
     "metadata": {},
     "output_type": "display_data"
    }
   ],
   "source": [
    "# C = 1/(a + b t )\n",
    "# plug in calculated a and b to get predicted points\n",
    "Cpredicted = [1/(b*tdata[0]+a), \n",
    "              1/(b*tdata[1]+a),\n",
    "              1/(b*tdata[2]+a),\n",
    "              1/(b*tdata[3]+a),\n",
    "              1/(b*tdata[4]+a)]\n",
    "\n",
    "# plot both given data and predicted C\n",
    "import matplotlib.pyplot as plt\n",
    "plt.plot(tdata, Cdata,'ro-', tdata, Cpredicted, 'ro-')"
   ]
  },
  {
   "cell_type": "markdown",
   "metadata": {},
   "source": [
    "(c) Using the results of part (b), estimate the initial concentration of the waste in the tank and the time required for C to reach its discharge level"
   ]
  },
  {
   "cell_type": "code",
   "execution_count": 61,
   "metadata": {
    "collapsed": false
   },
   "outputs": [],
   "source": [
    "C = Function('C')\n",
    "t = symbols('t')\n",
    "C = 1/(a + b*t)"
   ]
  },
  {
   "cell_type": "code",
   "execution_count": 64,
   "metadata": {
    "collapsed": false
   },
   "outputs": [
    {
     "data": {
      "image/png": "[encoded data removed]",
      "text/latex": [
       "$$12.1509020947283$$"
      ],
      "text/plain": [
       "12.1509020947283"
      ]
     },
     "execution_count": 64,
     "metadata": {},
     "output_type": "execute_result"
    }
   ],
   "source": [
    "# plug in t=0 for inital concentration\n",
    "C.subs(t, 0)"
   ]
  },
  {
   "cell_type": "code",
   "execution_count": 66,
   "metadata": {
    "collapsed": false
   },
   "outputs": [
    {
     "data": {
      "text/html": [
       "[209.429064100952] hour"
      ],
      "text/latex": [
       "$[209.429064100952] hour$"
      ],
      "text/plain": [
       "<Quantity([209.429064100952], 'hour')>"
      ]
     },
     "execution_count": 66,
     "metadata": {},
     "output_type": "execute_result"
    }
   ],
   "source": [
    "# C =0.01 g/L, solve for t (hours)\n",
    "solve(Eq(C, 0.01)) * ureg.hour"
   ]
  },
  {
   "cell_type": "markdown",
   "metadata": {},
   "source": [
    "(d) You should have very little confidence in the time estimated in part (c). Explain why."
   ]
  },
  {
   "cell_type": "markdown",
   "metadata": {},
   "source": [
    "The line of least squares was not very accurate and is appears to be quite different than the data at t=1 so t=0, which is not seen in the data, is likely quite different.\n",
    "\n",
    "t=209 is very far out of the data given and is likely wildly different."
   ]
  },
  {
   "cell_type": "markdown",
   "metadata": {},
   "source": [
    "(e) There are other potential problems with the whole waste disposal procedure. Suggest several of them."
   ]
  },
  {
   "cell_type": "markdown",
   "metadata": {},
   "source": [
    "- The treatment appears to require a very long time (t=209 is estimated)\n",
    "- The substance could still be harmful to aquatic life at 0.01 g/L"
   ]
  },
  {
   "cell_type": "code",
   "execution_count": null,
   "metadata": {
    "collapsed": true
   },
   "outputs": [],
   "source": []
  }
 ],
 "metadata": {
  "kernelspec": {
   "display_name": "Python 3",
   "language": "python",
   "name": "python3"
  },
  "language_info": {
   "codemirror_mode": {
    "name": "ipython",
    "version": 3
   },
   "file_extension": ".py",
   "mimetype": "text/x-python",
   "name": "python",
   "nbconvert_exporter": "python",
   "pygments_lexer": "ipython3",
   "version": "3.5.1"
  }
 },
 "nbformat": 4,
 "nbformat_minor": 0
}
