{
 "cells": [
  {
   "cell_type": "markdown",
   "metadata": {},
   "source": [
    "# Chapter 02"
   ]
  },
  {
   "cell_type": "code",
   "execution_count": 1,
   "metadata": {
    "collapsed": true
   },
   "outputs": [],
   "source": [
    "import pint\n",
    "ureg = pint.UnitRegistry()\n",
    "\n",
    "import numpy as np\n",
    "\n",
    "from sympy import *\n",
    "init_printing()\n",
    "\n",
    "# force plots to display in notebook, not new window\n",
    "%matplotlib inline"
   ]
  },
  {
   "cell_type": "markdown",
   "metadata": {},
   "source": [
    "## Problem 02.34\n",
    "\n",
    "A chemical reaction A->B is carried out in a closed vessel. The following data are taken for the concentration of A, Ca(g/L), as a function of time, t (min), from the start of the reaction\n",
    "\n",
    "> Figure"
   ]
  },
  {
   "cell_type": "code",
   "execution_count": 5,
   "metadata": {
    "collapsed": false
   },
   "outputs": [],
   "source": [
    "# note: final point is listed as 200 but actually inf\n",
    "ts = [0, 36, 65, 100, 160, 200]\n",
    "Cas = [0.1823, 0.1453, 0.1216, 0.1025, 0.0795, 0.0495]\n",
    "Ca0 = Cas[0]\n",
    "Cae = Cas[5]"
   ]
  },
  {
   "cell_type": "markdown",
   "metadata": {},
   "source": [
    "A proposed reaction mechanism predicts that Ca and t should be related by the expression\n",
    "\n",
    "$$ \\ln ((Ca - Cae)/(Ca0 - Cae)) = -kt $$\n",
    "\n",
    "where $k$ is the **reaction rate constant**"
   ]
  },
  {
   "cell_type": "markdown",
   "metadata": {},
   "source": [
    "(a) Do the data support this prediction? If so determine the value of k. (Use a semi plot in your solution of this problem.)"
   ]
  },
  {
   "cell_type": "code",
   "execution_count": 30,
   "metadata": {
    "collapsed": false
   },
   "outputs": [
    {
     "data": {
      "image/png": "[encoded data removed]",
      "text/plain": [
       "<matplotlib.figure.Figure at 0x7fe7a18b0978>"
      ]
     },
     "metadata": {},
     "output_type": "display_data"
    }
   ],
   "source": [
    "import matplotlib.pyplot as plt\n",
    "Ca = Function('Ca')\n",
    "x = symbols('x')\n",
    "Ca = log((x - Cae)/(Ca0 - Cae))\n",
    "\n",
    "# removing last point since it can't print inf\n",
    "newts = [0, 36, 65, 100, 160]\n",
    "newCas = [log((Cas[0] - Cae)/(Ca0 - Cae)),\n",
    "         log((Cas[1] - Cae)/(Ca0 - Cae)),\n",
    "         log((Cas[2] - Cae)/(Ca0 - Cae)),\n",
    "         log((Cas[3] - Cae)/(Ca0 - Cae)),\n",
    "         log((Cas[4] - Cae)/(Ca0 - Cae))]\n",
    "\n",
    "plt.plot(newts, newCas)\n",
    "plt.show()"
   ]
  },
  {
   "cell_type": "code",
   "execution_count": 51,
   "metadata": {
    "collapsed": false
   },
   "outputs": [
    {
     "name": "stdout",
     "output_type": "stream",
     "text": [
      "0.00929779284612611 minute\n"
     ]
    }
   ],
   "source": [
    "k = -(newCas[4] - newCas[0])/(newts[4] - newts[0])\n",
    "print(k * ureg.minute)"
   ]
  },
  {
   "cell_type": "markdown",
   "metadata": {},
   "source": [
    "(b) If the tank volume is 30.5 gallons and there is no B in the tank at t = 0, how much B(g) does the take contain after two hours?"
   ]
  },
  {
   "cell_type": "code",
   "execution_count": 57,
   "metadata": {
    "collapsed": false
   },
   "outputs": [
    {
     "data": {
      "image/png": "[encoded data removed]",
      "text/latex": [
       "$$0.1328 e^{- 0.00929779284612611 t} + 0.0495$$"
      ],
      "text/plain": [
       "        -0.00929779284612611⋅t         \n",
       "0.1328⋅ℯ                       + 0.0495"
      ]
     },
     "execution_count": 57,
     "metadata": {},
     "output_type": "execute_result"
    }
   ],
   "source": [
    "# ln((Ca - Cae)/(Ca0 - Cae)) = -kt -> Ca = (Ca0 - Cae)*e^(-kt) + Cae\n",
    "# Ca = (0.1823 - 0.0495)*e^((-9.3*10^-3)*120) + 0.0495 = 9.30*10^-2 g/L\n",
    "Ca = Function('Ca')\n",
    "t = symbols('t')\n",
    "Ca = (Ca0 - Cae)*exp(-k*t) + Cae\n",
    "Ca"
   ]
  },
  {
   "cell_type": "code",
   "execution_count": 58,
   "metadata": {
    "collapsed": false
   },
   "outputs": [
    {
     "data": {
      "image/png": "[encoded data removed]",
      "text/latex": [
       "$$0.0930151474841479$$"
      ],
      "text/plain": [
       "0.0930151474841479"
      ]
     },
     "execution_count": 58,
     "metadata": {},
     "output_type": "execute_result"
    }
   ],
   "source": [
    "Ca.subs(t, 120)"
   ]
  },
  {
   "cell_type": "code",
   "execution_count": 64,
   "metadata": {
    "collapsed": false
   },
   "outputs": [
    {
     "data": {
      "text/html": [
       "10.739069378998236 gram"
      ],
      "text/latex": [
       "$10.739069378998236 gram$"
      ],
      "text/plain": [
       "<Quantity(10.739069378998236, 'gram')>"
      ]
     },
     "execution_count": 64,
     "metadata": {},
     "output_type": "execute_result"
    }
   ],
   "source": [
    "# C = mass/Vol = m/V\n",
    "# m = C*V\n",
    "C = 0.0930151474841479 * ureg.gram/ureg.liter\n",
    "V = 30.5 * ureg.gallons\n",
    "m = C*V\n",
    "m.to(ureg.gram)"
   ]
  },
  {
   "cell_type": "code",
   "execution_count": null,
   "metadata": {
    "collapsed": true
   },
   "outputs": [],
   "source": []
  }
 ],
 "metadata": {
  "kernelspec": {
   "display_name": "Python 3",
   "language": "python",
   "name": "python3"
  },
  "language_info": {
   "codemirror_mode": {
    "name": "ipython",
    "version": 3
   },
   "file_extension": ".py",
   "mimetype": "text/x-python",
   "name": "python",
   "nbconvert_exporter": "python",
   "pygments_lexer": "ipython3",
   "version": "3.5.1"
  }
 },
 "nbformat": 4,
 "nbformat_minor": 0
}
