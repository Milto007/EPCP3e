{
 "cells": [
  {
   "cell_type": "markdown",
   "metadata": {},
   "source": [
    "# Chapter 02 - Problems\n",
    "\n"
   ]
  },
  {
   "cell_type": "code",
   "execution_count": 2,
   "metadata": {
    "collapsed": true
   },
   "outputs": [],
   "source": [
    "# import pint units package\n",
    "import pint\n",
    "ureg = pint.UnitRegistry()"
   ]
  },
  {
   "cell_type": "markdown",
   "metadata": {},
   "source": [
    "## Problem 2.1\n",
    "\n",
    "Using dimensional equations, convert"
   ]
  },
  {
   "cell_type": "markdown",
   "metadata": {},
   "source": [
    "**Note:** the Pint units package appears to \n",
    "always create a floating point number, so \n",
    "sig figs will not be accurately displayed\n",
    "\n",
    "i. e. 560 (2 sig figs) will be 560.0 (4 sig figs)"
   ]
  },
  {
   "cell_type": "markdown",
   "metadata": {},
   "source": [
    "(a) 3 wk to milliseconds"
   ]
  },
  {
   "cell_type": "code",
   "execution_count": 3,
   "metadata": {
    "collapsed": false
   },
   "outputs": [
    {
     "data": {
      "text/html": [
       "1814400000.0 millisecond"
      ],
      "text/latex": [
       "$1814400000.0 millisecond$"
      ],
      "text/plain": [
       "<Quantity(1814400000.0, 'millisecond')>"
      ]
     },
     "execution_count": 3,
     "metadata": {},
     "output_type": "execute_result"
    }
   ],
   "source": [
    "(3 * ureg.weeks).to(ureg.milliseconds)"
   ]
  },
  {
   "cell_type": "markdown",
   "metadata": {},
   "source": [
    "(b) 38.1 ft/s to miles/h"
   ]
  },
  {
   "cell_type": "code",
   "execution_count": 5,
   "metadata": {
    "collapsed": false
   },
   "outputs": [
    {
     "data": {
      "text/html": [
       "25.977272727272723 mile/hour"
      ],
      "text/latex": [
       "$25.977272727272723 \\frac{mile}{hour}$"
      ],
      "text/plain": [
       "<Quantity(25.977272727272723, 'mile / hour')>"
      ]
     },
     "execution_count": 5,
     "metadata": {},
     "output_type": "execute_result"
    }
   ],
   "source": [
    "(38.1 * (ureg.feet/ureg.seconds)).to(ureg.miles/ureg.hours)"
   ]
  },
  {
   "cell_type": "code",
   "execution_count": 6,
   "metadata": {
    "collapsed": false
   },
   "outputs": [
    {
     "data": {
      "text/html": [
       "26.0 mile/hour"
      ],
      "text/latex": [
       "$26.0 \\frac{mile}{hour}$"
      ],
      "text/plain": [
       "<Quantity(26.0, 'mile / hour')>"
      ]
     },
     "execution_count": 6,
     "metadata": {},
     "output_type": "execute_result"
    }
   ],
   "source": [
    "# round to 3 sig figs\n",
    "round(25.977272727272723,1) * ureg.miles/ureg.hours"
   ]
  },
  {
   "cell_type": "markdown",
   "metadata": {},
   "source": [
    "(c) 554 m^4/(day-kg) to cm^4/(min-g)"
   ]
  },
  {
   "cell_type": "code",
   "execution_count": 7,
   "metadata": {
    "collapsed": false
   },
   "outputs": [
    {
     "data": {
      "text/html": [
       "38472.22222222222 centimeter<sup>4</sup>/(gram minute)"
      ],
      "text/latex": [
       "$38472.22222222222 \\frac{centimeter^{4}}{\\left(gram \\cdot minute\\right)}$"
      ],
      "text/plain": [
       "<Quantity(38472.22222222222, 'centimeter ** 4 / gram / minute')>"
      ]
     },
     "execution_count": 7,
     "metadata": {},
     "output_type": "execute_result"
    }
   ],
   "source": [
    "(554 * (ureg.meters**4 / (ureg.days * ureg.kilograms))).to(ureg.centimeters**4 / (ureg.minutes * ureg.grams))"
   ]
  },
  {
   "cell_type": "code",
   "execution_count": 10,
   "metadata": {
    "collapsed": false
   },
   "outputs": [
    {
     "data": {
      "text/html": [
       "38500.0 centimeter<sup>4</sup>/(gram minute)"
      ],
      "text/latex": [
       "$38500.0 \\frac{centimeter^{4}}{\\left(gram \\cdot minute\\right)}$"
      ],
      "text/plain": [
       "<Quantity(38500.0, 'centimeter ** 4 / gram / minute')>"
      ]
     },
     "execution_count": 10,
     "metadata": {},
     "output_type": "execute_result"
    }
   ],
   "source": [
    "# round to 3 sig figs\n",
    "round(38472.22222222222,-2) * ureg.cm**4/(ureg.grams*ureg.minutes)"
   ]
  },
  {
   "cell_type": "code",
   "execution_count": null,
   "metadata": {
    "collapsed": true
   },
   "outputs": [],
   "source": []
  }
 ],
 "metadata": {
  "kernelspec": {
   "display_name": "Python 3",
   "language": "python",
   "name": "python3"
  },
  "language_info": {
   "codemirror_mode": {
    "name": "ipython",
    "version": 3
   },
   "file_extension": ".py",
   "mimetype": "text/x-python",
   "name": "python",
   "nbconvert_exporter": "python",
   "pygments_lexer": "ipython3",
   "version": "3.5.1"
  }
 },
 "nbformat": 4,
 "nbformat_minor": 0
}
