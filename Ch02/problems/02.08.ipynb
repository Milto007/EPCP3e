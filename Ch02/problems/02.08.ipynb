{
 "cells": [
  {
   "cell_type": "markdown",
   "metadata": {},
   "source": [
    "# Chapter 02"
   ]
  },
  {
   "cell_type": "code",
   "execution_count": 3,
   "metadata": {
    "collapsed": false
   },
   "outputs": [],
   "source": [
    "# import pint units package\n",
    "import pint\n",
    "ureg = pint.UnitRegistry()\n",
    "\n",
    "from sympy import *\n",
    "init_printing()"
   ]
  },
  {
   "cell_type": "markdown",
   "metadata": {},
   "source": [
    "## Problem 2.8\n",
    "\n",
    "Calculate the following:"
   ]
  },
  {
   "cell_type": "markdown",
   "metadata": {},
   "source": [
    "(a) the weight in lbf of a 25.0 lbm object"
   ]
  },
  {
   "cell_type": "code",
   "execution_count": 6,
   "metadata": {
    "collapsed": false
   },
   "outputs": [
    {
     "data": {
      "text/html": [
       "804.35 foot pound/second<sup>2</sup>"
      ],
      "text/latex": [
       "$804.35 \\frac{foot \\cdot pound}{second^{2}}$"
      ],
      "text/plain": [
       "<Quantity(804.35, 'foot * pound / second ** 2')>"
      ]
     },
     "execution_count": 6,
     "metadata": {},
     "output_type": "execute_result"
    }
   ],
   "source": [
    "# define mass and acceleration\n",
    "m = 25.0 * ureg.pounds\n",
    "a = 32.174 * ureg.feet/ureg.seconds**2\n",
    "\n",
    "# calc force\n",
    "F = m*a\n",
    "F"
   ]
  },
  {
   "cell_type": "code",
   "execution_count": 7,
   "metadata": {
    "collapsed": false
   },
   "outputs": [
    {
     "data": {
      "text/html": [
       "24.99996227050012 force_pound"
      ],
      "text/latex": [
       "$24.99996227050012 force_pound$"
      ],
      "text/plain": [
       "<Quantity(24.99996227050012, 'force_pound')>"
      ]
     },
     "execution_count": 7,
     "metadata": {},
     "output_type": "execute_result"
    }
   ],
   "source": [
    "# convert to lbf\n",
    "F.to(ureg.force_pounds)"
   ]
  },
  {
   "cell_type": "code",
   "execution_count": 8,
   "metadata": {
    "collapsed": false
   },
   "outputs": [
    {
     "data": {
      "text/html": [
       "25.0 force_pound"
      ],
      "text/latex": [
       "$25.0 force_pound$"
      ],
      "text/plain": [
       "<Quantity(25.0, 'force_pound')>"
      ]
     },
     "execution_count": 8,
     "metadata": {},
     "output_type": "execute_result"
    }
   ],
   "source": [
    "# round to 3 sig figs\n",
    "round(24.99996227050012, 1) * ureg.force_pounds"
   ]
  },
  {
   "cell_type": "markdown",
   "metadata": {
    "collapsed": true
   },
   "source": [
    "(b) the mass in kg of an object that weighs 25 Newtons"
   ]
  },
  {
   "cell_type": "code",
   "execution_count": 9,
   "metadata": {
    "collapsed": false
   },
   "outputs": [
    {
     "name": "stdout",
     "output_type": "stream",
     "text": [
      "2.54841997961264 newton * second ** 2 / meter\n"
     ]
    }
   ],
   "source": [
    "# define F as weight given and a in SI units\n",
    "F = 25 * ureg.newtons\n",
    "a = 9.81 * ureg.meters/ureg.seconds**2\n",
    "\n",
    "# F = m a -> \n",
    "# F/a = m\n",
    "m = F/a\n",
    "print(m)"
   ]
  },
  {
   "cell_type": "code",
   "execution_count": 10,
   "metadata": {
    "collapsed": false
   },
   "outputs": [
    {
     "data": {
      "text/html": [
       "2.54841997961264 kilogram"
      ],
      "text/latex": [
       "$2.54841997961264 kilogram$"
      ],
      "text/plain": [
       "<Quantity(2.54841997961264, 'kilogram')>"
      ]
     },
     "execution_count": 10,
     "metadata": {},
     "output_type": "execute_result"
    }
   ],
   "source": [
    "# convert units to kilograms\n",
    "m.to(ureg.kilograms)"
   ]
  },
  {
   "cell_type": "code",
   "execution_count": 11,
   "metadata": {
    "collapsed": false
   },
   "outputs": [
    {
     "data": {
      "text/html": [
       "2.5 kilogram"
      ],
      "text/latex": [
       "$2.5 kilogram$"
      ],
      "text/plain": [
       "<Quantity(2.5, 'kilogram')>"
      ]
     },
     "execution_count": 11,
     "metadata": {},
     "output_type": "execute_result"
    }
   ],
   "source": [
    "# round to 2 sig figs\n",
    "round(2.54841997961264, 1) * ureg.kilograms"
   ]
  },
  {
   "cell_type": "markdown",
   "metadata": {},
   "source": [
    "(c) the weight in dynes of a 10-ton object (not metric tons)"
   ]
  },
  {
   "cell_type": "code",
   "execution_count": 12,
   "metadata": {
    "collapsed": false
   },
   "outputs": [
    {
     "name": "stdout",
     "output_type": "stream",
     "text": [
      "19999.969816400095 force_pound\n"
     ]
    }
   ],
   "source": [
    "m = 10 * ureg.tons\n",
    "m.ito(ureg.pounds)\n",
    "a = 32.174 * ureg.feet/ureg.seconds**2\n",
    "\n",
    "F = m*a\n",
    "F.ito(ureg.force_pounds)\n",
    "print(F)"
   ]
  },
  {
   "cell_type": "code",
   "execution_count": 13,
   "metadata": {
    "collapsed": false
   },
   "outputs": [
    {
     "name": "stdout",
     "output_type": "stream",
     "text": [
      "8896429804.186848 dyne\n"
     ]
    }
   ],
   "source": [
    "F.ito(ureg.dynes)\n",
    "print(F)"
   ]
  },
  {
   "cell_type": "code",
   "execution_count": 14,
   "metadata": {
    "collapsed": false
   },
   "outputs": [
    {
     "data": {
      "text/html": [
       "9000000000.0 dyne"
      ],
      "text/latex": [
       "$9000000000.0 dyne$"
      ],
      "text/plain": [
       "<Quantity(9000000000.0, 'dyne')>"
      ]
     },
     "execution_count": 14,
     "metadata": {},
     "output_type": "execute_result"
    }
   ],
   "source": [
    "round(8896429804.186848, -9) * ureg.dynes"
   ]
  },
  {
   "cell_type": "code",
   "execution_count": null,
   "metadata": {
    "collapsed": true
   },
   "outputs": [],
   "source": []
  }
 ],
 "metadata": {
  "kernelspec": {
   "display_name": "Python 3",
   "language": "python",
   "name": "python3"
  },
  "language_info": {
   "codemirror_mode": {
    "name": "ipython",
    "version": 3
   },
   "file_extension": ".py",
   "mimetype": "text/x-python",
   "name": "python",
   "nbconvert_exporter": "python",
   "pygments_lexer": "ipython3",
   "version": "3.5.1"
  }
 },
 "nbformat": 4,
 "nbformat_minor": 0
}
