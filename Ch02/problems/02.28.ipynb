{
 "cells": [
  {
   "cell_type": "markdown",
   "metadata": {
    "collapsed": true
   },
   "source": [
    "# Chapter 02"
   ]
  },
  {
   "cell_type": "code",
   "execution_count": 7,
   "metadata": {
    "collapsed": true
   },
   "outputs": [],
   "source": [
    "import pint\n",
    "ureg = pint.UnitRegistry()\n",
    "\n",
    "import numpy as np\n",
    "\n",
    "from sympy import *\n",
    "init_printing()\n",
    "\n",
    "# force plots to display in notebook, not new window\n",
    "%matplotlib inline"
   ]
  },
  {
   "cell_type": "markdown",
   "metadata": {},
   "source": [
    "## Problem 2.28\n",
    "\n",
    "A concentration C (mol/L) varies with time (min) according to the equation \n",
    "\n",
    "$$C = 3.00 exp (-2.00 t)$$"
   ]
  },
  {
   "cell_type": "markdown",
   "metadata": {},
   "source": [
    "(a) what are the units of 3.00 and -2.00"
   ]
  },
  {
   "cell_type": "markdown",
   "metadata": {},
   "source": [
    "3.00 has units mol/L\n",
    "\n",
    "-2.00 has units 1/min"
   ]
  },
  {
   "cell_type": "code",
   "execution_count": 8,
   "metadata": {
    "collapsed": false
   },
   "outputs": [
    {
     "data": {
      "image/png": "[encoded data removed]",
      "text/latex": [
       "$$3.0 e^{- 2.0 t}$$"
      ],
      "text/plain": [
       "     -2.0⋅t\n",
       "3.0⋅ℯ      "
      ]
     },
     "execution_count": 8,
     "metadata": {},
     "output_type": "execute_result"
    }
   ],
   "source": [
    "# define t as a symbol and C as a function\n",
    "t = symbols('t')\n",
    "C = Function('C')\n",
    "\n",
    "# define the function in terms of t, print to output\n",
    "C = 3.00*exp(-2.00*t)\n",
    "C"
   ]
  },
  {
   "cell_type": "markdown",
   "metadata": {
    "collapsed": true
   },
   "source": [
    "(b) suppose the concentration is measured at t = 0 and t = 1 min. use two-point linear interpolation or extrapolation to estimate C(t=0.6 min) and t(c=0.10 mol/L) from the measured values and compare these results with the true values of these quantities"
   ]
  },
  {
   "cell_type": "code",
   "execution_count": 9,
   "metadata": {
    "collapsed": false
   },
   "outputs": [
    {
     "data": {
      "text/html": [
       "3.00000000000000 mole/liter"
      ],
      "text/latex": [
       "$3.00000000000000 \\frac{mole}{liter}$"
      ],
      "text/plain": [
       "<Quantity(3.00000000000000, 'mole / liter')>"
      ]
     },
     "execution_count": 9,
     "metadata": {},
     "output_type": "execute_result"
    }
   ],
   "source": [
    "# substitute into C, t=0\n",
    "C.subs(t,0) * ureg.mole/ureg.liter"
   ]
  },
  {
   "cell_type": "code",
   "execution_count": 10,
   "metadata": {
    "collapsed": false
   },
   "outputs": [
    {
     "data": {
      "image/png": "[encoded data removed]",
      "text/latex": [
       "$$0.406005849709838$$"
      ],
      "text/plain": [
       "0.406005849709838"
      ]
     },
     "execution_count": 10,
     "metadata": {},
     "output_type": "execute_result"
    }
   ],
   "source": [
    "# substitute into C, t=1\n",
    "C.subs(t,1)"
   ]
  },
  {
   "cell_type": "code",
   "execution_count": 11,
   "metadata": {
    "collapsed": false
   },
   "outputs": [],
   "source": [
    "# use the previous answers to create linear two-point interpolation\n",
    "y2 = 0.406005849709838\n",
    "y1 = 3\n",
    "x2 = 1\n",
    "x1 = 0\n",
    "\n",
    "# y = m*x + b\n",
    "m = (y2-y1)/(x2-x1)\n",
    "b = y1-m*x1"
   ]
  },
  {
   "cell_type": "code",
   "execution_count": 12,
   "metadata": {
    "collapsed": false
   },
   "outputs": [],
   "source": [
    "# declare y to be a function and define in terms of t\n",
    "y = Function('y')\n",
    "y = m*t + b"
   ]
  },
  {
   "cell_type": "markdown",
   "metadata": {},
   "source": [
    "(c) sketch a curve of C vs t and show graphically the points you determined in part (b)"
   ]
  },
  {
   "cell_type": "code",
   "execution_count": 13,
   "metadata": {
    "collapsed": false
   },
   "outputs": [
    {
     "data": {
      "image/png": "[encoded data removed]",
      "text/plain": [
       "<matplotlib.figure.Figure at 0x7fade818bfd0>"
      ]
     },
     "metadata": {},
     "output_type": "display_data"
    },
    {
     "data": {
      "text/plain": [
       "<sympy.plotting.plot.Plot at 0x7fade818b908>"
      ]
     },
     "execution_count": 13,
     "metadata": {},
     "output_type": "execute_result"
    }
   ],
   "source": [
    "# plot both functions in terms of t\n",
    "# TODO: plot individual points on graph as well, change to matplotlib?\n",
    "from sympy.plotting import plot\n",
    "plot(C, y,(t,-0.1,1.2), title='Conc (mol/L) vs time (min)')"
   ]
  },
  {
   "cell_type": "code",
   "execution_count": null,
   "metadata": {
    "collapsed": true
   },
   "outputs": [],
   "source": []
  }
 ],
 "metadata": {
  "kernelspec": {
   "display_name": "Python 3",
   "language": "python",
   "name": "python3"
  },
  "language_info": {
   "codemirror_mode": {
    "name": "ipython",
    "version": 3
   },
   "file_extension": ".py",
   "mimetype": "text/x-python",
   "name": "python",
   "nbconvert_exporter": "python",
   "pygments_lexer": "ipython3",
   "version": "3.5.1"
  }
 },
 "nbformat": 4,
 "nbformat_minor": 0
}
