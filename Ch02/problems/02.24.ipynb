{
 "cells": [
  {
   "cell_type": "markdown",
   "metadata": {},
   "source": [
    "# Chapter 02"
   ]
  },
  {
   "cell_type": "code",
   "execution_count": 2,
   "metadata": {
    "collapsed": true
   },
   "outputs": [],
   "source": [
    "import pint\n",
    "ureg = pint.UnitRegistry()\n",
    "\n",
    "# import numpy as np\n",
    "\n",
    "from sympy import *\n",
    "init_printing()\n",
    "\n",
    "# force plots to display in notebook, not new window\n",
    "# %matplotlib inline"
   ]
  },
  {
   "cell_type": "markdown",
   "metadata": {},
   "source": [
    "## Problem 2.24\n",
    "\n",
    "The following empirical equation correlates the values of variables in a system in which solid particles are suspended in a flowing gas:"
   ]
  },
  {
   "cell_type": "code",
   "execution_count": 3,
   "metadata": {
    "collapsed": true
   },
   "outputs": [],
   "source": [
    "kg, dp, y, D = symbols('kg dp y D')\n",
    "mu, rho, u = symbols('mu rho u')"
   ]
  },
  {
   "cell_type": "code",
   "execution_count": 4,
   "metadata": {
    "collapsed": false
   },
   "outputs": [
    {
     "data": {
      "image/png": "[encoded data removed]",
      "text/latex": [
       "$$\\frac{dp kg}{D} y$$"
      ],
      "text/plain": [
       "dp⋅kg⋅y\n",
       "───────\n",
       "   D   "
      ]
     },
     "execution_count": 4,
     "metadata": {},
     "output_type": "execute_result"
    }
   ],
   "source": [
    "kg * dp * y / D"
   ]
  },
  {
   "cell_type": "code",
   "execution_count": 5,
   "metadata": {
    "collapsed": false
   },
   "outputs": [
    {
     "data": {
      "image/png": "[encoded data removed]",
      "text/latex": [
       "$$0.6 \\sqrt[3]{\\frac{\\mu}{D \\rho}} \\sqrt{\\frac{dp \\rho}{\\mu} u} + 2.0$$"
      ],
      "text/plain": [
       "        _____     ________      \n",
       "       ╱  μ      ╱ dp⋅ρ⋅u       \n",
       "0.6⋅3 ╱  ─── ⋅  ╱  ──────  + 2.0\n",
       "    ╲╱   D⋅ρ  ╲╱     μ          "
      ]
     },
     "execution_count": 5,
     "metadata": {},
     "output_type": "execute_result"
    }
   ],
   "source": [
    "2.00+0.600*cbrt(mu/(rho*D))*sqrt(dp*u*rho/mu)"
   ]
  },
  {
   "cell_type": "markdown",
   "metadata": {},
   "source": [
    "Both $(mu / (rho*D))$ and $(dp * u * rho / mu)$ are dimensionless groups; kg is a coefficient that expresses the rate at which a particular species transfers from the gas to the soild particles; and the coefficients 2.00 and0.600 are dimensionless constants obtained by fitting experimental data covering a wide range of values of teh equation variables.\n",
    "\n",
    "The value of kg is needed to design a catalytic reactor. Since this coefficient is difficult to determine directly, values of the other variables are measured or estimated and kg is calcualted from the given correlation. The variable values are as follows:"
   ]
  },
  {
   "cell_type": "code",
   "execution_count": 6,
   "metadata": {
    "collapsed": true
   },
   "outputs": [],
   "source": [
    "dp = 5.00 * ureg.millimeters\n",
    "y = 0.100 * ureg.dimensionless\n",
    "D = 0.100 * ureg.centimeters**2/ureg.second\n",
    "mu = 1*10**(-5) * ureg.newton * ureg.second / ureg.meter**2\n",
    "rho = 1*10**(-3) * ureg.gram / ureg.centimeter**3\n",
    "u = 10 * ureg.meter / ureg.second"
   ]
  },
  {
   "cell_type": "code",
   "execution_count": 7,
   "metadata": {
    "collapsed": false
   },
   "outputs": [
    {
     "name": "stdout",
     "output_type": "stream",
     "text": [
      "mu is 1.0000000000000001e-07 kilogram / centimeter / second\n",
      "rho is 1e-06 kilogram / centimeter ** 3\n",
      "D is 0.1 centimeter ** 2 / second\n",
      "dp is 0.5 centimeter\n",
      "u is 1000.0 centimeter / second\n",
      "rho is 1e-06 kilogram / centimeter ** 3\n",
      "mu is 1.0000000000000001e-07 kilogram / centimeter / second\n"
     ]
    }
   ],
   "source": [
    "# convert to the same system (cm, kg, s) and convert N\n",
    "dp.ito(ureg.centimeter)\n",
    "mu.ito(ureg.kilogram/ureg.centimeter/ureg.second)\n",
    "rho.ito(ureg.kilogram/ureg.centimeter**3)\n",
    "u.ito(ureg.centimeter/ureg.second)\n",
    "print(\"mu is\", mu)\n",
    "print(\"rho is\", rho)\n",
    "print(\"D is\", D)\n",
    "\n",
    "print(\"dp is\", dp)\n",
    "print(\"u is\", u)\n",
    "print(\"rho is\", rho)\n",
    "print(\"mu is\", mu)"
   ]
  },
  {
   "cell_type": "code",
   "execution_count": 21,
   "metadata": {
    "collapsed": false
   },
   "outputs": [
    {
     "name": "stdout",
     "output_type": "stream",
     "text": [
      "my/(rho*D) has correct units and dimensions\n",
      "dp*u*rho/mu has correct units and dimensions\n"
     ]
    }
   ],
   "source": [
    "# verify demensions match (should be unitless and dimensionless)\n",
    "# first term\n",
    "if ((mu/(rho*D)).dimensionality == ureg.dimensionless and \n",
    "    (mu/(rho*D)).units == ureg.dimensionless):\n",
    "    print(\"my/(rho*D) has correct units and dimensions\")\n",
    "else:\n",
    "    print(\"mu/(rho*D) has incorrect units and/or dimensions\")\n",
    "    \n",
    "# second term\n",
    "if ((dp*u*rho/mu).dimensionality == ureg.dimensionless and \n",
    "    (dp*u*rho/mu).units == ureg.dimensionless):\n",
    "    print(\"dp*u*rho/mu has correct units and dimensions\")\n",
    "else:\n",
    "    print(\"dp*u*rho/mu has incorrect units and/or dimensions\")"
   ]
  },
  {
   "cell_type": "markdown",
   "metadata": {},
   "source": [
    "(a) what is the estimated value of kg? Give its value and units"
   ]
  },
  {
   "cell_type": "code",
   "execution_count": 9,
   "metadata": {
    "collapsed": false
   },
   "outputs": [],
   "source": [
    "kg = (2.00 + 0.600*((mu/(rho*D))**(1/3))*((dp*u*rho/mu)**(1/2)))*(D/(dp*y))"
   ]
  },
  {
   "cell_type": "code",
   "execution_count": 10,
   "metadata": {
    "collapsed": false
   },
   "outputs": [
    {
     "data": {
      "text/html": [
       "0.8885281374238571 meter/second"
      ],
      "text/latex": [
       "$0.8885281374238571 \\frac{meter}{second}$"
      ],
      "text/plain": [
       "<Quantity(0.8885281374238571, 'meter / second')>"
      ]
     },
     "execution_count": 10,
     "metadata": {},
     "output_type": "execute_result"
    }
   ],
   "source": [
    "kg.to(ureg.meter/ureg.second)"
   ]
  },
  {
   "cell_type": "markdown",
   "metadata": {
    "collapsed": true
   },
   "source": [
    "(b) why might the true value of kg in the reactor be significantly different from the value estimated in part (a)? Give serveral possible answers"
   ]
  },
  {
   "cell_type": "markdown",
   "metadata": {},
   "source": [
    "(c) Create a spreadsheet in which up to five sets of values of the given variables (dp through u) are entered in the columns and the corresponding valyues of kg are calcualted. Test your program using the following variable sets"
   ]
  },
  {
   "cell_type": "markdown",
   "metadata": {},
   "source": [
    "(i) values given above"
   ]
  },
  {
   "cell_type": "code",
   "execution_count": 11,
   "metadata": {
    "collapsed": false
   },
   "outputs": [
    {
     "data": {
      "text/html": [
       "0.8885281374238571 meter/second"
      ],
      "text/latex": [
       "$0.8885281374238571 \\frac{meter}{second}$"
      ],
      "text/plain": [
       "<Quantity(0.8885281374238571, 'meter / second')>"
      ]
     },
     "execution_count": 11,
     "metadata": {},
     "output_type": "execute_result"
    }
   ],
   "source": [
    "kg.to(ureg.meter/ureg.second)"
   ]
  },
  {
   "cell_type": "markdown",
   "metadata": {},
   "source": [
    "(ii) as above, only double the particle diameter dp (maing it 10.00 mm)"
   ]
  },
  {
   "cell_type": "code",
   "execution_count": 12,
   "metadata": {
    "collapsed": false
   },
   "outputs": [
    {
     "data": {
      "text/html": [
       "0.62 meter/second"
      ],
      "text/latex": [
       "$0.62 \\frac{meter}{second}$"
      ],
      "text/plain": [
       "<Quantity(0.62, 'meter / second')>"
      ]
     },
     "execution_count": 12,
     "metadata": {},
     "output_type": "execute_result"
    }
   ],
   "source": [
    "dp2 = 2*dp\n",
    "kg = (2.00 + 0.600*((mu/(rho*D))**(1/3))*((dp2*u*rho/mu)**(1/2)))*(D/(dp2*y))\n",
    "kg.to(ureg.meter/ureg.second)"
   ]
  },
  {
   "cell_type": "markdown",
   "metadata": {},
   "source": [
    "(iii) as above only double the diffusivity D|"
   ]
  },
  {
   "cell_type": "code",
   "execution_count": 13,
   "metadata": {
    "collapsed": false
   },
   "outputs": [
    {
     "data": {
      "text/html": [
       "1.4269544579712476 meter/second"
      ],
      "text/latex": [
       "$1.4269544579712476 \\frac{meter}{second}$"
      ],
      "text/plain": [
       "<Quantity(1.4269544579712476, 'meter / second')>"
      ]
     },
     "execution_count": 13,
     "metadata": {},
     "output_type": "execute_result"
    }
   ],
   "source": [
    "D2 = 2*D\n",
    "kg = (2.00 + 0.600*((mu/(rho*D2))**(1/3))*((dp*u*rho/mu)**(1/2)))*(D2/(dp*y))\n",
    "kg.to(ureg.meter/ureg.second)"
   ]
  },
  {
   "cell_type": "markdown",
   "metadata": {},
   "source": [
    "(iv) as above only double the viscosity, mu"
   ]
  },
  {
   "cell_type": "code",
   "execution_count": 14,
   "metadata": {
    "collapsed": false
   },
   "outputs": [
    {
     "data": {
      "text/html": [
       "0.7959526299369238 meter/second"
      ],
      "text/latex": [
       "$0.7959526299369238 \\frac{meter}{second}$"
      ],
      "text/plain": [
       "<Quantity(0.7959526299369238, 'meter / second')>"
      ]
     },
     "execution_count": 14,
     "metadata": {},
     "output_type": "execute_result"
    }
   ],
   "source": [
    "mu2 = 2*mu\n",
    "kg = (2.00 + 0.600*((mu2/(rho*D))**(1/3))*((dp*u*rho/mu2)**(1/2)))*(D/(dp*y))\n",
    "kg.to(ureg.meter/ureg.second)"
   ]
  },
  {
   "cell_type": "markdown",
   "metadata": {},
   "source": [
    "(v) as above only double the velocity, u"
   ]
  },
  {
   "cell_type": "code",
   "execution_count": 15,
   "metadata": {
    "collapsed": false
   },
   "outputs": [
    {
     "data": {
      "text/html": [
       "1.24 meter/second"
      ],
      "text/latex": [
       "$1.24 \\frac{meter}{second}$"
      ],
      "text/plain": [
       "<Quantity(1.24, 'meter / second')>"
      ]
     },
     "execution_count": 15,
     "metadata": {},
     "output_type": "execute_result"
    }
   ],
   "source": [
    "u2 = 2*u\n",
    "kg = (2.00 + 0.600*((mu/(rho*D))**(1/3))*((dp*u2*rho/mu)**(1/2)))*(D/(dp*y))\n",
    "kg.to(ureg.meter/ureg.second)"
   ]
  },
  {
   "cell_type": "code",
   "execution_count": null,
   "metadata": {
    "collapsed": true
   },
   "outputs": [],
   "source": []
  }
 ],
 "metadata": {
  "kernelspec": {
   "display_name": "Python 3",
   "language": "python",
   "name": "python3"
  },
  "language_info": {
   "codemirror_mode": {
    "name": "ipython",
    "version": 3
   },
   "file_extension": ".py",
   "mimetype": "text/x-python",
   "name": "python",
   "nbconvert_exporter": "python",
   "pygments_lexer": "ipython3",
   "version": "3.5.1"
  }
 },
 "nbformat": 4,
 "nbformat_minor": 0
}
