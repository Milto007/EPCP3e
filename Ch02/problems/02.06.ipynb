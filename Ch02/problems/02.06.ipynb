{
 "cells": [
  {
   "cell_type": "markdown",
   "metadata": {},
   "source": [
    "# Chapter 02"
   ]
  },
  {
   "cell_type": "code",
   "execution_count": 34,
   "metadata": {
    "collapsed": true
   },
   "outputs": [],
   "source": [
    "# import pint units package\n",
    "import pint\n",
    "ureg = pint.UnitRegistry()\n",
    "\n",
    "# add USD to unit definitions for only this problem\n",
    "# dimensions of USD will be [] (dimensionless)\n",
    "ureg.define('USD = 1 * count')\n",
    "\n",
    "# import sympy functions\n",
    "from sympy import *\n",
    "init_printing()\n",
    "\n",
    "# force plots to display in notebook, not new window\n",
    "%matplotlib inline"
   ]
  },
  {
   "cell_type": "markdown",
   "metadata": {},
   "source": [
    "## Problem 2.6\n",
    "\n",
    "You are trying to decide which of two automobiles to buy. They are:\n",
    "\n",
    "- American made, costs \\$14,500, and has mileage of 28 miles/gallon\n",
    "- European made, costs \\$21,700, and has mileable of 19 km/L\n",
    "\n",
    "If gas costs $1.25/gal, estimate how many miles you would have to driver for the lower fuel consumption of the second car to compensate for the higher cost of this car?"
   ]
  },
  {
   "cell_type": "code",
   "execution_count": 35,
   "metadata": {
    "collapsed": false
   },
   "outputs": [],
   "source": [
    "# car 1 info\n",
    "cost1 = 14500 * ureg.USD\n",
    "mileage1 = 28 * ureg.miles/ureg.gallons\n",
    "\n",
    "# car 2 info\n",
    "cost2 = 21700 * ureg.USD\n",
    "mileage2 = 19 * ureg.kilometers/ureg.liters\n",
    "\n",
    "# convert car 2 to same units as car 1\n",
    "mileage2.ito(ureg.miles/ureg.gallons)\n",
    "\n",
    "# info for both\n",
    "gascost = 1.25 * ureg.USD / ureg.gallons"
   ]
  },
  {
   "cell_type": "code",
   "execution_count": 36,
   "metadata": {
    "collapsed": true
   },
   "outputs": [],
   "source": [
    "# create variables as symbols\n",
    "x, y1, y2 = symbols('x y1 y2')"
   ]
  },
  {
   "cell_type": "code",
   "execution_count": 37,
   "metadata": {
    "collapsed": false
   },
   "outputs": [
    {
     "name": "stdout",
     "output_type": "stream",
     "text": [
      "gascost is 1.25 USD / gallon\n",
      "mileage1 is 28.0 mile / gallon\n",
      "mileage2 is 44.69077083333333 mile / gallon\n",
      "variable x has units mile\n",
      "cost1 is 14500 USD\n",
      "cost2 is 21700 USD\n"
     ]
    }
   ],
   "source": [
    "# ensure units are all compatible (i. e. no km and miles mixed)\n",
    "print(\"gascost is\", gascost)\n",
    "print(\"mileage1 is\", mileage1)\n",
    "print(\"mileage2 is\", mileage2)\n",
    "print(\"variable x has units\", (x * ureg.miles).units)\n",
    "print(\"cost1 is\", cost1)\n",
    "print(\"cost2 is\", cost2)"
   ]
  },
  {
   "cell_type": "code",
   "execution_count": 56,
   "metadata": {
    "collapsed": false
   },
   "outputs": [
    {
     "name": "stdout",
     "output_type": "stream",
     "text": [
      "Proposed Line 1 OK\n",
      "Proposed Line 2 OK\n"
     ]
    }
   ],
   "source": [
    "# test proposed equation for units and dimensionality: \n",
    "# expected: units = USD; dimension=dimensionless)\n",
    "if((gascost/mileage1 * (x * ureg.miles) + cost1).units          == ureg.USD and \n",
    "   (gascost/mileage1 * (x * ureg.miles) + cost1).dimensionality == ureg.dimensionless):\n",
    "    print(\"Proposed Line 1 OK\")\n",
    "else:\n",
    "    print(\"Proposed line 1 does not match in units and/or dimensionality\")\n",
    "\n",
    "if((gascost/mileage2 * (x * ureg.miles) + cost2).units          == ureg.USD and \n",
    "   (gascost/mileage2 * (x * ureg.miles) + cost2).dimensionality == ureg.dimensionless):\n",
    "    print(\"Proposed Line 2 OK\")\n",
    "else:\n",
    "    print(\"Proposed line 2 does not match in units and/or dimensionality\")"
   ]
  },
  {
   "cell_type": "code",
   "execution_count": 45,
   "metadata": {
    "collapsed": false
   },
   "outputs": [
    {
     "data": {
      "image/png": "[encoded data removed]",
      "text/latex": [
       "$$0.0446428571428571 x + 14500$$"
      ],
      "text/plain": [
       "0.0446428571428571⋅x + 14500"
      ]
     },
     "execution_count": 45,
     "metadata": {},
     "output_type": "execute_result"
    }
   ],
   "source": [
    "# define car 1 line and display expression (use .magnitude for compatibility)\n",
    "y1 = gascost.magnitude/mileage1.magnitude*x + cost1.magnitude\n",
    "y1"
   ]
  },
  {
   "cell_type": "code",
   "execution_count": 44,
   "metadata": {
    "collapsed": false
   },
   "outputs": [
    {
     "data": {
      "image/png": "[encoded data removed]",
      "text/latex": [
       "$$0.0279699807519916 x + 21700$$"
      ],
      "text/plain": [
       "0.0279699807519916⋅x + 21700"
      ]
     },
     "execution_count": 44,
     "metadata": {},
     "output_type": "execute_result"
    }
   ],
   "source": [
    "#define car 2 line and display expression (use .magnitude for compatibility)\n",
    "y2 = gascost.magnitude/mileage2.magnitude*x + cost2.magnitude\n",
    "y2"
   ]
  },
  {
   "cell_type": "code",
   "execution_count": 41,
   "metadata": {
    "collapsed": false
   },
   "outputs": [
    {
     "data": {
      "image/png": "[encoded data removed]",
      "text/plain": [
       "<matplotlib.figure.Figure at 0x7f4e1ef5bda0>"
      ]
     },
     "metadata": {},
     "output_type": "display_data"
    },
    {
     "data": {
      "text/plain": [
       "<sympy.plotting.plot.Plot at 0x7f4e1efc3588>"
      ]
     },
     "execution_count": 41,
     "metadata": {},
     "output_type": "execute_result"
    }
   ],
   "source": [
    "# plot both lines to visualize intersection\n",
    "plot(y1, y2, (x,0,500000),ylim=(0,40000))"
   ]
  },
  {
   "cell_type": "code",
   "execution_count": 42,
   "metadata": {
    "collapsed": false
   },
   "outputs": [
    {
     "data": {
      "image/png": "[encoded data removed]",
      "text/latex": [
       "$$\\left [ 431839.103895989\\right ]$$"
      ],
      "text/plain": [
       "[431839.103895989]"
      ]
     },
     "execution_count": 42,
     "metadata": {},
     "output_type": "execute_result"
    }
   ],
   "source": [
    "# set y1 - y2 = 0 and solve for x (in miles)\n",
    "solve(y1 - y2,x)"
   ]
  },
  {
   "cell_type": "code",
   "execution_count": 43,
   "metadata": {
    "collapsed": false
   },
   "outputs": [
    {
     "data": {
      "text/html": [
       "430000 mile"
      ],
      "text/latex": [
       "$430000 mile$"
      ],
      "text/plain": [
       "<Quantity(430000, 'mile')>"
      ]
     },
     "execution_count": 43,
     "metadata": {},
     "output_type": "execute_result"
    }
   ],
   "source": [
    "# round to 2 sig figs\n",
    "round(431839, -4) * ureg.miles"
   ]
  },
  {
   "cell_type": "code",
   "execution_count": null,
   "metadata": {
    "collapsed": true
   },
   "outputs": [],
   "source": []
  }
 ],
 "metadata": {
  "kernelspec": {
   "display_name": "Python 3",
   "language": "python",
   "name": "python3"
  },
  "language_info": {
   "codemirror_mode": {
    "name": "ipython",
    "version": 3
   },
   "file_extension": ".py",
   "mimetype": "text/x-python",
   "name": "python",
   "nbconvert_exporter": "python",
   "pygments_lexer": "ipython3",
   "version": "3.5.1"
  }
 },
 "nbformat": 4,
 "nbformat_minor": 0
}
