{
 "cells": [
  {
   "cell_type": "markdown",
   "metadata": {},
   "source": [
    "# Chapter 02"
   ]
  },
  {
   "cell_type": "code",
   "execution_count": 1,
   "metadata": {
    "collapsed": true
   },
   "outputs": [],
   "source": [
    "import pint\n",
    "ureg = pint.UnitRegistry()\n",
    "\n",
    "import numpy as np\n",
    "\n",
    "from sympy import *\n",
    "init_printing()\n",
    "\n",
    "# force plots to display in notebook, not new window\n",
    "%matplotlib inline"
   ]
  },
  {
   "cell_type": "markdown",
   "metadata": {},
   "source": [
    "## Problem 02.36\n",
    "\n",
    "The relationship between the pressure P and volume V of the air in a cylinder during the upstroke of a piston in an air compressor can be expressed as:\n",
    "\n",
    "$$ PV^k = C $$\n",
    "\n",
    "where $ k $ and $ C $ are constants. During a commpression test, the following data are taken:"
   ]
  },
  {
   "cell_type": "code",
   "execution_count": 2,
   "metadata": {
    "collapsed": true
   },
   "outputs": [],
   "source": [
    "# P is in mmHg\n",
    "Pdata = [760, 1140, 1520, 2280, 3040, 3800]\n",
    "\n",
    "# V is in cm^3\n",
    "Vdata = [48.3, 37.4, 31.3, 24.1, 20.0, 17.4]"
   ]
  },
  {
   "cell_type": "markdown",
   "metadata": {},
   "source": [
    "Determine the values of $ k $ and $ C $ that best fit the data. (Give both numerical values and units)"
   ]
  },
  {
   "cell_type": "code",
   "execution_count": 3,
   "metadata": {
    "collapsed": false
   },
   "outputs": [
    {
     "data": {
      "text/plain": [
       "[<matplotlib.lines.Line2D at 0x7f7590ad5a58>]"
      ]
     },
     "execution_count": 3,
     "metadata": {},
     "output_type": "execute_result"
    },
    {
     "data": {
      "image/png": "[encoded data removed]",
      "text/plain": [
       "<matplotlib.figure.Figure at 0x7f7590b64748>"
      ]
     },
     "metadata": {},
     "output_type": "display_data"
    }
   ],
   "source": [
    "# P = C*V^-k\n",
    "# ln P = ln (C * V^-k) \n",
    "#      = ln C + ln (V^-k) \n",
    "#      = ln C -k * ln V\n",
    "import matplotlib.pyplot as plt\n",
    "\n",
    "# plot using matplotlib with 'ro' for points and 'b-' for lines\n",
    "plt.loglog(Pdata, Vdata, 'b-')"
   ]
  },
  {
   "cell_type": "code",
   "execution_count": 47,
   "metadata": {
    "collapsed": false
   },
   "outputs": [
    {
     "data": {
      "image/png": "[encoded data removed]",
      "text/latex": [
       "$$- 0.134632315799318 x + 7.52637745538722$$"
      ],
      "text/plain": [
       "-- -0.134632315799318⋅x + 7.52637745538722"
      ]
     },
     "execution_count": 47,
     "metadata": {},
     "output_type": "execute_result"
    }
   ],
   "source": [
    "# ln P = m * ln V + b\n",
    "# ln P/(ln V) = m + b\n",
    "# (ln P2 - ln P1)/(ln V2 - ln V1) = m\n",
    "\n",
    "y2 = ln(Pdata[1])\n",
    "x2 = ln(Vdata[1])\n",
    "y1 = ln(Pdata[0])\n",
    "x1 = ln(Pdata[0])\n",
    "\n",
    "m = (y2 - y1)/(x2 - x1)\n",
    "b = y1 - m * x1\n",
    "\n",
    "y = Function('y')\n",
    "x = symbols('x')\n",
    "\n",
    "# ln P = ln C -k * ln V\n",
    "# as y = m * x + b\n",
    "y = m.evalf() * x + b.evalf()\n",
    "y"
   ]
  },
  {
   "cell_type": "code",
   "execution_count": 48,
   "metadata": {
    "collapsed": false
   },
   "outputs": [
    {
     "name": "stdout",
     "output_type": "stream",
     "text": [
      "0.134632315799318\n"
     ]
    }
   ],
   "source": [
    "# m = -k\n",
    "k = -m.evalf()\n",
    "print(k * ureg.dimensionless)"
   ]
  },
  {
   "cell_type": "code",
   "execution_count": 65,
   "metadata": {
    "collapsed": false
   },
   "outputs": [
    {
     "name": "stdout",
     "output_type": "stream",
     "text": [
      "1856.36853061143\n"
     ]
    }
   ],
   "source": [
    "# b = ln C\n",
    "C = exp(b)\n",
    "# units of C are mmHg*(cm**3) since P*(V**k) = C\n",
    "print(C.evalf())"
   ]
  },
  {
   "cell_type": "code",
   "execution_count": null,
   "metadata": {
    "collapsed": true
   },
   "outputs": [],
   "source": [
    "# back of book says ansswers may vary slightly but this seems too different\n",
    "# not sure where I went wrong"
   ]
  }
 ],
 "metadata": {
  "kernelspec": {
   "display_name": "Python 3",
   "language": "python",
   "name": "python3"
  },
  "language_info": {
   "codemirror_mode": {
    "name": "ipython",
    "version": 3
   },
   "file_extension": ".py",
   "mimetype": "text/x-python",
   "name": "python",
   "nbconvert_exporter": "python",
   "pygments_lexer": "ipython3",
   "version": "3.5.1"
  }
 },
 "nbformat": 4,
 "nbformat_minor": 0
}
