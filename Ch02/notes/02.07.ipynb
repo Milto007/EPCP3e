{
 "cells": [
  {
   "cell_type": "markdown",
   "metadata": {},
   "source": [
    "# 2.7 Process Data Representation and Analysis\n",
    "\n",
    "In a chemical process, many measurements must be taken indirectly. For example, to get concentration, C, you might measure a quantity, X (thermal or electrical conductivity), which varies in a known manner with C. Then use the relationship to determine C.\n",
    "\n",
    "**Calibration** - separate experiment in which solutions of known concentration are prepared and X is measured for each solution.\n",
    "\n",
    "Consider an experiment in which a variable, y, is measured for several values of another variable, x."
   ]
  },
  {
   "cell_type": "code",
   "execution_count": 22,
   "metadata": {
    "collapsed": false
   },
   "outputs": [
    {
     "data": {
      "image/png": "[encoded data removed]",
      "text/plain": [
       "<matplotlib.figure.Figure at 0x7f4177fceda0>"
      ]
     },
     "metadata": {},
     "output_type": "display_data"
    },
    {
     "data": {
      "image/png": "[encoded data removed]",
      "text/plain": [
       "<matplotlib.figure.Figure at 0x7f417805df60>"
      ]
     },
     "metadata": {},
     "output_type": "display_data"
    },
    {
     "data": {
      "image/png": "[encoded data removed]",
      "text/plain": [
       "<matplotlib.figure.Figure at 0x7f4177f1a160>"
      ]
     },
     "metadata": {},
     "output_type": "display_data"
    },
    {
     "name": "stdout",
     "output_type": "stream",
     "text": [
      "[[1.0, 0.3], [2.0, 0.7], [3.0, 1.2], [4.0, 1.8]]\n"
     ]
    }
   ],
   "source": [
    "import matplotlib.pyplot as plt\n",
    "%matplotlib inline\n",
    "\n",
    "# data set a\n",
    "data_ax = [1, 2, 3, 4]\n",
    "data_ay = [1, 2, 3, 4]\n",
    "\n",
    "# data set b\n",
    "data_bx = [0.5, 1, 1.2, 2, 2.1, 2.5, 2.9, 3.0, 3.3, 3.6, 4.0, 4.2, 5.0]\n",
    "data_by = [5.0, 4.5, 3.8, 3.9, 3.1, 3.1, 3.0, 2.8, 2.6, 2, 1.4, 1.1, 1.0]\n",
    "\n",
    "# data set c\n",
    "data_cx = [1, 2, 3, 4, 5]\n",
    "data_cy = [1, 3.8, 10, 15, 26]\n",
    "\n",
    "datatable = [[1.0, 0.3], [2.0, 0.7], [3.0, 1.2], [4.0, 1.8]]\n",
    "\n",
    "# plot data set a\n",
    "plt.plot(data_ax, data_ay, 'bo')\n",
    "plt.xlim(0,5)\n",
    "plt.ylim(0,5)\n",
    "plt.show()\n",
    "\n",
    "# plot data set b\n",
    "plt.plot(data_bx, data_by, 'bo')\n",
    "plt.xlim(0,6)\n",
    "plt.ylim(0,6)\n",
    "plt.show()\n",
    "\n",
    "# plot data set c\n",
    "plt.plot(data_cx, data_cy, 'bo')\n",
    "plt.xlim(0,6)\n",
    "plt.ylim(0,27)\n",
    "plt.show()\n",
    "\n",
    "print(datatable)"
   ]
  },
  {
   "cell_type": "markdown",
   "metadata": {},
   "source": [
    "Use calibration data to estimate the value of y for a value of x between tabulated points (interpolation) or outside the range of the table data (extrapolation)\n",
    "\n",
    "dataA and dataB look to be linear but dataC looks like a curve is more appropriate\n",
    "\n",
    "One could draw a line from the data points and create a basic linear function. Other methods are explored below."
   ]
  },
  {
   "cell_type": "markdown",
   "metadata": {},
   "source": [
    "## 2.7a Two-point Linear Interpolation\n",
    "\n",
    "Equation of a line through two points $(x_1, y_1)$ and $(x_2, y_2)$ on a plot of $y$ vs $x$ is:\n",
    "\n",
    "$$\n",
    "y = y_1 + \\frac{x - x_1}{x_2 - x_1} \\times (y_2 - y_1)\n",
    "$$"
   ]
  },
  {
   "cell_type": "markdown",
   "metadata": {},
   "source": [
    "### Test Yourself\n",
    "\n",
    "#### Problem 1\n",
    "Values of a variable (f) are measured at several times (t):"
   ]
  },
  {
   "cell_type": "code",
   "execution_count": 23,
   "metadata": {
    "collapsed": true
   },
   "outputs": [],
   "source": [
    "f = [1, 4, 8]\n",
    "t = [1, 2, 3]"
   ]
  },
  {
   "cell_type": "markdown",
   "metadata": {},
   "source": [
    "Show that if two-point linear interpolation is used:\n",
    "- $f(t=1.3) = 1.9$\n",
    "- $t(f=5) = 2.25$"
   ]
  },
  {
   "cell_type": "code",
   "execution_count": 1,
   "metadata": {
    "collapsed": false
   },
   "outputs": [
    {
     "name": "stdout",
     "output_type": "stream",
     "text": [
      "3*x - 2\n"
     ]
    }
   ],
   "source": [
    "# sympy needed for CAS\n",
    "from sympy import *\n",
    "x, y = symbols('x y')\n",
    "\n",
    "# Use first sets of points\n",
    "y1 = 1\n",
    "y2 = 4\n",
    "x1 = 1\n",
    "x2 = 2\n",
    "\n",
    "y = y1 + ((x - x1)/(x2 - x1))* (y2 - y1)\n",
    "print(y)"
   ]
  },
  {
   "cell_type": "code",
   "execution_count": 2,
   "metadata": {
    "collapsed": false
   },
   "outputs": [
    {
     "data": {
      "text/plain": [
       "1.90000000000000"
      ]
     },
     "execution_count": 2,
     "metadata": {},
     "output_type": "execute_result"
    }
   ],
   "source": [
    "# sub x = 1.3\n",
    "y.subs(x,1.3)"
   ]
  },
  {
   "cell_type": "code",
   "execution_count": 3,
   "metadata": {
    "collapsed": false
   },
   "outputs": [
    {
     "name": "stdout",
     "output_type": "stream",
     "text": [
      "4*x - 4\n"
     ]
    }
   ],
   "source": [
    "# Use other sets of points\n",
    "y1 = 4\n",
    "y2 = 8\n",
    "x1 = 2\n",
    "x2 = 3\n",
    "\n",
    "y = y1 + ((x - x1)/(x2 - x1))* (y2 - y1)\n",
    "print(y)"
   ]
  },
  {
   "cell_type": "code",
   "execution_count": 7,
   "metadata": {
    "collapsed": false
   },
   "outputs": [
    {
     "data": {
      "text/plain": [
       "[9/4]"
      ]
     },
     "execution_count": 7,
     "metadata": {},
     "output_type": "execute_result"
    }
   ],
   "source": [
    "# solve for x when y = 5\n",
    "solve(Eq(y,5),x)"
   ]
  },
  {
   "cell_type": "code",
   "execution_count": 8,
   "metadata": {
    "collapsed": false
   },
   "outputs": [
    {
     "data": {
      "text/plain": [
       "2.25"
      ]
     },
     "execution_count": 8,
     "metadata": {},
     "output_type": "execute_result"
    }
   ],
   "source": [
    "# Convert answer to decimal number\n",
    "9/4"
   ]
  },
  {
   "cell_type": "markdown",
   "metadata": {},
   "source": [
    "### Problem 2\n",
    "\n",
    "If a function $y(x)$ appears as shown in each of the diagrams below, would two-point linear interpolation yield estimates of $y$ that are too high, too low, or correct? If the two-point linear interpolation formula were used to estimate $y(x)$ from the tabulated values of $(x_1, y_1)$ and $(x_2, y_2)$ in plot (b), would the estimated value be too high or too low?"
   ]
  },
  {
   "cell_type": "code",
   "execution_count": 52,
   "metadata": {
    "collapsed": false
   },
   "outputs": [
    {
     "data": {
      "image/png": "[encoded data removed]",
      "text/plain": [
       "<matplotlib.figure.Figure at 0x7f4176c627f0>"
      ]
     },
     "metadata": {},
     "output_type": "display_data"
    },
    {
     "data": {
      "image/png": "[encoded data removed]",
      "text/plain": [
       "<matplotlib.figure.Figure at 0x7f4176de4cf8>"
      ]
     },
     "metadata": {},
     "output_type": "display_data"
    },
    {
     "data": {
      "image/png": "[encoded data removed]",
      "text/plain": [
       "<matplotlib.figure.Figure at 0x7f4176bf0908>"
      ]
     },
     "metadata": {},
     "output_type": "display_data"
    }
   ],
   "source": [
    "import matplotlib.pyplot as plt\n",
    "%matplotlib inline\n",
    "\n",
    "# data set A\n",
    "data_Ax = [1,2,3,4]\n",
    "data_Ay = [1,2,3,4]\n",
    "\n",
    "# data set B\n",
    "data_Bx = [1, 5, 10]\n",
    "data_By = [1, 25, 100]\n",
    "\n",
    "# data set C\n",
    "data_Cx = [-1, 0, 1]\n",
    "data_Cy = [9, 10, 9]\n",
    "\n",
    "# plot data set A\n",
    "plt.plot(data_Ax, data_Ay, 'ro-')\n",
    "plt.ylim(1,4)\n",
    "plt.xlim(1,4)\n",
    "plt.show()\n",
    "\n",
    "# plot B, should look more like x**2\n",
    "plt.plot(data_Bx, data_By, 'bo-')\n",
    "plt.ylim(0,100)\n",
    "plt.xlim(0,10)\n",
    "plt.show()\n",
    "\n",
    "# plot C, should look more like -x**2\n",
    "plt.plot(data_Cx, data_Cy, 'go-')\n",
    "plt.ylim(9,10)\n",
    "plt.xlim(-1,1)\n",
    "plt.show()"
   ]
  },
  {
   "cell_type": "markdown",
   "metadata": {},
   "source": [
    "using the two-point linear interpolation forumla for \n",
    "\n",
    "(a) would be about right\n",
    "\n",
    "(b) would be too low. Slope is increaing at increasing rate\n",
    "\n",
    "(c) would be too high. Slow is increasing between points 1 and 2 but point 2 appears to be a point of inflection. Slope is decreasing between points 2 and 3."
   ]
  },
  {
   "cell_type": "markdown",
   "metadata": {},
   "source": [
    "## 2.7b Fitting a Straight Line\n",
    "\n",
    "How one variable depends on another can be expressed with an equation:\n",
    "\n",
    "$$y = 3x + 4 $$\n",
    "$$y = 4.24(x - 3)^2 - 23 $$\n",
    "$$y = (1.3 * 10^7) \\times \\text{sin}(2x)/(x^{1/2} + 58.4)$$\n",
    "\n",
    "Using data points of dependent variable ($y$) at various values of the independent variable ($x$), you can plot $y$ vs $x$.\n",
    "\n",
    "If it appears to be a straight line, you can use the equation\n",
    "\n",
    "$y = a x + b$\n",
    "\n",
    "If there is little scatter (as in plot (a) above) you can draw a line through them by inspection. If $(x_1, y_1)$ and $(x_2, y_2)$ are two points (which may or may not be data points) then:\n",
    "\n",
    "Slope:\n",
    "- $a = \\frac{y_2 - y_1}{x_2 - x_1}$\n",
    "\n",
    "Intercept:\n",
    "- $b = y_1 - a x_1$, or\n",
    "- $b = y_2 - a x_2$\n",
    "\n",
    "Calculate $a$ then use it and one point to find $b$"
   ]
  },
  {
   "cell_type": "markdown",
   "metadata": {},
   "source": [
    "### Example 2.7-1\n",
    "#### Fitting a straight line to flowmeter calibration data\n",
    "\n",
    "Rotameter calibration data (flow rate vs rotameter reading) are as follows"
   ]
  },
  {
   "cell_type": "code",
   "execution_count": 53,
   "metadata": {
    "collapsed": true
   },
   "outputs": [],
   "source": [
    "Vflow = [20.0, 52.1, 84.6, 118.3, 151.0]\n",
    "R = [10, 30, 50, 70, 90]"
   ]
  },
  {
   "cell_type": "markdown",
   "metadata": {},
   "source": [
    "##### Problem 1\n",
    "Draw a calibration curve and determine an equation for $V_\\text{flow}(R)$"
   ]
  },
  {
   "cell_type": "code",
   "execution_count": 56,
   "metadata": {
    "collapsed": false
   },
   "outputs": [
    {
     "data": {
      "text/plain": [
       "1.605*R + 3.95"
      ]
     },
     "execution_count": 56,
     "metadata": {},
     "output_type": "execute_result"
    }
   ],
   "source": [
    "# sympy needed for CAS\n",
    "from sympy import *\n",
    "R, V = symbols('R V')\n",
    "\n",
    "# Use first sets of points\n",
    "V1 = 20.0\n",
    "V2 = 52.1\n",
    "R1 = 10\n",
    "R2 = 30\n",
    "\n",
    "# Setup equation\n",
    "V = V1 + ((R - R1)/(R2 - R1))* (V2 - V1)\n",
    "print(V)"
   ]
  },
  {
   "cell_type": "code",
   "execution_count": 64,
   "metadata": {
    "collapsed": false
   },
   "outputs": [
    {
     "data": {
      "text/plain": [
       "[<matplotlib.lines.Line2D at 0x7f4176b6dd30>]"
      ]
     },
     "execution_count": 64,
     "metadata": {},
     "output_type": "execute_result"
    },
    {
     "data": {
      "image/png": "[encoded data removed]",
      "text/plain": [
       "<matplotlib.figure.Figure at 0x7f4176ebb828>"
      ]
     },
     "metadata": {},
     "output_type": "display_data"
    }
   ],
   "source": [
    "# matplotlib needed for plotting\n",
    "import matplotlib.pyplot as plt\n",
    "%matplotlib inline\n",
    "\n",
    "# create x values 0 to 100 and find corresponding y values\n",
    "x1 = range(100)\n",
    "y1 = []\n",
    "for i in range(100):\n",
    "    y1.append(V.subs([(R, x1[i])]))\n",
    "\n",
    "# plot resulting coordinates\n",
    "plt.plot(x1, y1, 'bo-')"
   ]
  },
  {
   "cell_type": "markdown",
   "metadata": {},
   "source": [
    "##### Probelm 2\n",
    "Calculate the flow rate that corresponds to a rotameter reading of 36"
   ]
  },
  {
   "cell_type": "code",
   "execution_count": 62,
   "metadata": {
    "collapsed": false
   },
   "outputs": [
    {
     "data": {
      "text/plain": [
       "61.7300000000000"
      ]
     },
     "execution_count": 62,
     "metadata": {},
     "output_type": "execute_result"
    }
   ],
   "source": [
    "# use previously interpolated formula and substitute R=36\n",
    "V.subs(R,36)"
   ]
  },
  {
   "cell_type": "markdown",
   "metadata": {},
   "source": [
    "## 2.7c Fitting nonlinear data\n",
    "\n",
    "423 experimenters measured and plotted data and found that their data points did not lie on straight points.\n",
    "\n",
    "416 people said close enough but 7 used a different equation than\n",
    "\n",
    "$$y = a x + b$$\n",
    "\n",
    "suppose x and y are related by the equation\n",
    "\n",
    "$$y^2 = a x^3 + b$$\n",
    "\n",
    "a plot of measured $y$ vs $x$ would be curved but a plot of $y^2$ vs $x^3$ would be a straight line with slope $a$ and intercept $b$\n",
    "\n",
    "if\n",
    "\n",
    "$$(\\text{Quantity }1) = a (\\text{Quantity }2) + b$$\n",
    "\n",
    "then a plot of the first quantity vs the second on rectangular coordinates produces a straight line with slope $a$ and intercept $b$\n",
    "\n",
    "Here are several examples:\n",
    "\n",
    "### Example 1\n",
    "$$y = a x^2 + b$$\n",
    "plot $y$ vs $x^2$\n",
    "\n",
    "### Example 2\n",
    "$$y^2 = \\frac{a}{x} + b$$\n",
    "plot $y^2$ vs $1/x$\n",
    "\n",
    "### Example 3\n",
    "$$1/y = a(x + 3) + b$$\n",
    "plot $1/y$ vs $(x+3)$\n",
    "\n",
    "### Example 4\n",
    "$$\\text{sin} y = a(x^2 - 4)$$\n",
    "plot $\\text{sin} y$ vs $(x^2 - 4)$\n",
    "- note: must draw line through origin\n",
    "\n",
    "Sometimes you'll have to rearrange the terms but you can still plot a linear plot\n",
    "\n",
    "### Example 5\n",
    "$$y = \\frac{1}{(c_1 x - c_2)} $$\n",
    "\n",
    "-> $$1/y = c_1 x - c_2$$\n",
    "\n",
    "plot $1/y$ vs $c_1$ with intercept $= -c2$\n",
    "\n",
    "### Example 6\n",
    "$$y = 1 + x(m x^2 + n)^{1/2}$$\n",
    "\n",
    "-> $$(y-1)^2/x^2 = m x^2 + n$$\n",
    "\n",
    "plot $(y-1)^2/x^2$ vs $x^2$ with slope $= m$ and intercept $= n$\n",
    "\n",
    "*Summarized*: \n",
    "If you have $(x, y)$ data that you can write of the form \n",
    "\n",
    "$$f(x, y) = a \\times g(x, y) + b$$\n",
    "\n",
    "- calculate $f(x, y)$ and $g(x, y)$ for each $(x, y)$ point. plot $f$ vs $g$\n",
    "- if it fits on a straight line, choose two points on the line $(g_1, f_1)$ and $(g_2, f_2)$ and calculate $a$ and $b$\n",
    "\n",
    "$$a = (f_2 - f_1)/(g_2 - g_1)$$\n",
    "\n",
    "- $b = f_1 - a \\times g_1$ or\n",
    "- $b = f_2 - a \\times g_2$"
   ]
  },
  {
   "cell_type": "markdown",
   "metadata": {},
   "source": [
    "## Example 2.7-2\n",
    "### Linear curve-fitting of nonlinear data\n",
    "\n",
    "A mass flow rate mflow (g/s) is measured as a function of temperature T (degrees C)"
   ]
  },
  {
   "cell_type": "code",
   "execution_count": 2,
   "metadata": {
    "collapsed": true
   },
   "outputs": [],
   "source": [
    "mflow = [14.76, 20.14, 27.73, 38.47]\n",
    "T = [10, 20, 40, 80]"
   ]
  },
  {
   "cell_type": "markdown",
   "metadata": {},
   "source": [
    "Believe mflow varies linearly with square root of T\n",
    "\n",
    "$$m_{flow} = a \\times T^{1/2}$$\n",
    "\n",
    "use a straight-line plot to verify this formula and determine a and b"
   ]
  },
  {
   "cell_type": "markdown",
   "metadata": {
    "collapsed": true
   },
   "source": [
    "If the formula is correct, a plot of $m_{flow}$ vs $T^{1/2}$ should be linear with slope $= a$ and intercept $ = b$. The data table is augmented by adding a $T^{1/2} row:"
   ]
  },
  {
   "cell_type": "code",
   "execution_count": 4,
   "metadata": {
    "collapsed": false
   },
   "outputs": [
    {
     "name": "stdout",
     "output_type": "stream",
     "text": [
      "[10, 20, 40, 80]\n",
      "[3.1622776601683795, 4.47213595499958, 6.324555320336759, 8.94427190999916]\n",
      "[14.76, 20.14, 27.73, 38.47]\n"
     ]
    }
   ],
   "source": [
    "T_sqrt = []\n",
    "for t in T:\n",
    "    T_sqrt.append(t**(1/2))\n",
    "print(T)\n",
    "print(T_sqrt)\n",
    "print(mflow)"
   ]
  },
  {
   "cell_type": "markdown",
   "metadata": {},
   "source": [
    "and $m_{flow}$ is plotted versus $T^{1/2}$"
   ]
  },
  {
   "cell_type": "code",
   "execution_count": 8,
   "metadata": {
    "collapsed": false
   },
   "outputs": [
    {
     "data": {
      "text/plain": [
       "[<matplotlib.lines.Line2D at 0x7f2498564eb8>]"
      ]
     },
     "execution_count": 8,
     "metadata": {},
     "output_type": "execute_result"
    },
    {
     "data": {
      "image/png": "[encoded data removed]",
      "text/plain": [
       "<matplotlib.figure.Figure at 0x7f24985de1d0>"
      ]
     },
     "metadata": {},
     "output_type": "display_data"
    }
   ],
   "source": [
    "# matplotlib needed for plotting\n",
    "import matplotlib.pyplot as plt\n",
    "%matplotlib inline\n",
    "\n",
    "plt.plot(T_sqrt, mflow, 'bo-')"
   ]
  },
  {
   "cell_type": "markdown",
   "metadata": {},
   "source": [
    "Since the plot is linear, the proposed formula is verified. A line drawn through the data points passes through the first and last points so these points may be used to calculate the slope and intercept"
   ]
  },
  {
   "cell_type": "code",
   "execution_count": 11,
   "metadata": {
    "collapsed": false
   },
   "outputs": [],
   "source": [
    "T1_sqrt = T_sqrt[0]\n",
    "m1flow = mflow[0]\n",
    "T2_sqrt = T_sqrt[3]\n",
    "m2flow = mflow[3]\n",
    "\n",
    "# calc slope, a\n",
    "a = (m2flow - m1flow)/(T2_sqrt - T1_sqrt)\n",
    "\n",
    "# calc intercept, b\n",
    "b = m1flow - a * T1_sqrt"
   ]
  },
  {
   "cell_type": "code",
   "execution_count": 12,
   "metadata": {
    "collapsed": false
   },
   "outputs": [
    {
     "data": {
      "text/plain": [
       "4.10066129012389*T + 1.79257041032397"
      ]
     },
     "execution_count": 12,
     "metadata": {},
     "output_type": "execute_result"
    }
   ],
   "source": [
    "from sympy import *\n",
    "T = symbols('T')\n",
    "\n",
    "# create mflow = a * T + b expression\n",
    "m = a * T + b\n",
    "m"
   ]
  },
  {
   "cell_type": "markdown",
   "metadata": {},
   "source": [
    "Two nonlinear functions that often occur are \n",
    "\n",
    "exponential functions:\n",
    "- $y = a e^{b x}$\n",
    "\n",
    "where $e \\approx 2.7182818$\n",
    "\n",
    "power law:\n",
    "- $y = a x^b$\n",
    "\n",
    "$$P = e^Q <-> \\text{ln }P = Q$$\n",
    "\n",
    "$\\text{ln}(e^q) = Q$, and\n",
    "\n",
    "$e^{\\text{ln }(P)} = P$\n",
    "\n",
    "Calculate natural log using relation\n",
    "\n",
    "$$\\text{ln }x = 2.302585 \\times ln_{10} x$$"
   ]
  },
  {
   "cell_type": "code",
   "execution_count": 15,
   "metadata": {
    "collapsed": false
   },
   "outputs": [
    {
     "data": {
      "text/plain": [
       "0.6931471805599453"
      ]
     },
     "execution_count": 15,
     "metadata": {},
     "output_type": "execute_result"
    }
   ],
   "source": [
    "import math\n",
    "\n",
    "# check what ln 2 is (log without second arg is natural log in python)\n",
    "math.log(2)"
   ]
  },
  {
   "cell_type": "code",
   "execution_count": 17,
   "metadata": {
    "collapsed": false
   },
   "outputs": [
    {
     "data": {
      "text/plain": [
       "0.693147152565948"
      ]
     },
     "execution_count": 17,
     "metadata": {},
     "output_type": "execute_result"
    }
   ],
   "source": [
    "# use expression to calc natual log of 2 and compare to above\n",
    "2.302585 * math.log(2, 10)"
   ]
  },
  {
   "cell_type": "markdown",
   "metadata": {},
   "source": [
    "$y = ae^{bx} -> \\text{ln }y = \\text{ln }a + b x$\n",
    "\n",
    "plot $\\text{ln }y$ vs $x$\n",
    "\n",
    "$y = a*x^b -> \\text{ln }y = \\text{ln }a + b \\text{ln }x$\n",
    "\n",
    "plot $\\text{ln }y$ vs $\\text{ln }x$"
   ]
  },
  {
   "cell_type": "markdown",
   "metadata": {},
   "source": [
    "### Test Yourself\n",
    "\n",
    "#### Problem 1\n",
    "The following plot is generated from experimental data (x, y):\n",
    "- What equation would you use to relate x and y?\n",
    "- Note: image appears to be $y = x$ but axis is $y$ vs $x^2 - 2$\n",
    "\n",
    "#### Solution 1\n",
    "\n",
    "$y = a (x^2 - 2) + b$"
   ]
  },
  {
   "cell_type": "markdown",
   "metadata": {},
   "source": [
    "#### Problem 2\n",
    "\n",
    "How would you plot (x, y) data to get a straight line and how would you determine a and b for each of the following functions?\n",
    "\n",
    "##### Part A\n",
    "$$y = a  x^{1/2}+ b$$\n",
    "Plot $y$ vs $x^{1/2}$\n",
    "\n",
    "##### Part B \n",
    "$$1/y = a (x - 3)^2 + b$$\n",
    "plot $1/y$ vs $(x -3)^2$\n",
    "\n",
    "##### Part C\n",
    "$$y = (a   x^2 - b)^{1/3}$$\n",
    "plot $y^3$ vs $x^2$\n",
    "\n",
    "##### Part D\n",
    "$$\\text{sin }y = x (a x + b)^{-2}$$\n",
    "plot $(x/\\text{sin }y)^{1/2}$ vs $x$\n",
    "\n",
    "##### Part E\n",
    "$$y = a  e^{b x}$$\n",
    "$$\\text{ln }y = \\text{ln }a + b x$$\n",
    "plot $\\text{ln }y$ vs $x$\n",
    "\n",
    "##### Part F\n",
    "$$y = a  x^b$$\n",
    "$$\\text{ln }y = \\text{ln }a + b \\text{ln }x$$\n",
    "plot $\\text{ln }y$ vs $\\text{ln }x$"
   ]
  },
  {
   "cell_type": "markdown",
   "metadata": {},
   "source": [
    "## 2.7d Logarithmic Coordinates\n",
    "\n",
    "- ** Semilog plot ** - a plot with one axis that uses a log scale\n",
    "- ** Log plot ** - a plot where both axis use a log scale\n",
    "\n",
    "When you plot values of a variable $y$ on a logarithmic scale you are in effect plotting the logarithm of $y$ on a rectangular scale\n",
    "\n",
    "Suppose that $y$ and $x$ are related by the equation\n",
    "\n",
    "$$y = a e^{b x} \\text{ln }y = \\text{ln }a + b x$$\n",
    "\n",
    "To determine $a$ and $b$, you may plot $y$ vs $x$ on a semilog plot or you may plot $\\text{ln }y$ vs $x$ on a rectangular plot. In either case, you obtain $a$ and $b$\n",
    "\n",
    "$$\n",
    "b \n",
    "= (\\text{ln }y_2 - \\text{ln }y_1)/(x_2 - x_1)\n",
    "= (\\text{ln }(y_2/y_1))/(x_2 - x_1)\n",
    "$$\n",
    "\n",
    "$$\\text{ln }a = \\text{ln }y_1 - b x_1$$\n",
    "or\n",
    "$$\\text{ln }a = \\text{ln }y_2 - b x_2$$\n",
    "\n",
    "$$->a = e^{\\text{ln }a}$$"
   ]
  },
  {
   "cell_type": "markdown",
   "metadata": {},
   "source": [
    "In summary,\n",
    "\n",
    "- If $y$ vs $x$ data appear on semilog plot, $\\text{ln }y$ vs $x$ would be linear on a rectangular plot and data can be correlated by an exponential function\n",
    "\n",
    "$$y = a e^{b x}$$\n",
    "\n",
    "- If $y$ vs $x$ data appear linear on a log plot, then $\\text{ln }y$ vs $\\text{ln }x$ would be linear on rectangular plot and data can be correlated by a power law\n",
    "\n",
    "$$y = a x^b$$\n",
    "\n",
    "- When you plot variable $z$ on a logarithmic axis and your plot yields a straight line through two points with coordinate values $z_1$ and $z_2$, replace $z_2-z_1$ with $\\text{ln}(z_2/z_1)$ in formula for slope\n",
    "\n",
    "- Do not plot values of $\\text{ln }z$ on a logarithmic scale and expect anything useful to result (plot $z$ on logarithmic axis or $\\text{ln }z$ on rectangular axis)"
   ]
  },
  {
   "cell_type": "markdown",
   "metadata": {},
   "source": [
    "### Example 2.7-3\n",
    "#### Curve fitting on semilog and log plots\n",
    "\n",
    "A plot of $F$ vs $t$ yields a line that passes through the points \n",
    "$(t_1 = 15, F_1 = 0.298)$ and $(t_2 = 30, F_2 = 0.0527)$ on\n",
    "\n",
    "- semilog plot, and\n",
    "- log plot\n",
    "\n",
    "For each calculate the equation that relates $F$ and $t$"
   ]
  },
  {
   "cell_type": "code",
   "execution_count": 9,
   "metadata": {
    "collapsed": false
   },
   "outputs": [
    {
     "name": "stdout",
     "output_type": "stream",
     "text": [
      "1.68508538899431*exp(-0.115498535397206*t)\n"
     ]
    }
   ],
   "source": [
    "from sympy import *\n",
    "F, t = symbols('F t')\n",
    "\n",
    "ts = [15, 30]\n",
    "Fs = [0.298, 0.0527]\n",
    "\n",
    "# ln(F) = b*t + ln(a)\n",
    "# F = a*e^(b*t)\n",
    "\n",
    "t1 = ts[0]\n",
    "t2 = ts[1]\n",
    "F1 = Fs[0]\n",
    "F2 = Fs[1]\n",
    "\n",
    "# ln(F) = b*t + ln(a)\n",
    "# ln(F2) - ln(F1) = b*t2 - b * t1 + ln (a) - ln (a)\n",
    "# ln(F2/F1) = b * (t2 - t1)\n",
    "# b = ln(F2/F1)/(t2 - t1)\n",
    "b = ln(F2/F1)/(t2 - t1)\n",
    "\n",
    "# calc ln(a) first\n",
    "# ln(F) = b*t + ln(a)\n",
    "# ln(F1) - b * t1 = ln(a)\n",
    "a = ln(F1) - b * t1\n",
    "\n",
    "# change to just 'a'\n",
    "# exp(ln(a)) = a \n",
    "a = exp(a)\n",
    "\n",
    "# create formula for F\n",
    "F = a*exp(b*t)\n",
    "print(F)"
   ]
  },
  {
   "cell_type": "code",
   "execution_count": 10,
   "metadata": {
    "collapsed": false
   },
   "outputs": [
    {
     "data": {
      "text/plain": [
       "259.288238736944*t**(-2.49943746371231)"
      ]
     },
     "execution_count": 10,
     "metadata": {},
     "output_type": "execute_result"
    }
   ],
   "source": [
    "from sympy import *\n",
    "F, t = symbols('F t')\n",
    "\n",
    "ts = [15, 30]\n",
    "Fs = [0.298, 0.0527]\n",
    "\n",
    "# ln(F) = b*t + ln(a)\n",
    "# F = a*t^b\n",
    "\n",
    "t1 = ts[0]\n",
    "t2 = ts[1]\n",
    "F1 = Fs[0]\n",
    "F2 = Fs[1]\n",
    "\n",
    "# ln(F) = b*ln(t) + ln(a)\n",
    "# ln(F2) - ln(F1) = b * ln(t2) - b * ln(t1) + ln(a) - ln(a)\n",
    "# ln(F2/F1) = b * (ln(t2) - ln(t1)\n",
    "# ln(F2/F1) = b * (ln(t2/t1))\n",
    "# ln(F1/F1)/ln(t2/t1) = b\n",
    "b = ln(F2/F1)/ln(t2/t1)\n",
    "\n",
    "# calc ln(a) first\n",
    "# ln(F) = b*ln(t) + ln(a)\n",
    "# ln(F1) - b*ln(t1) = ln(a)\n",
    "a = ln(F1) - b * ln(t1)\n",
    "# change to just 'a'\n",
    "# exp(ln(a)) = a \n",
    "a = exp(a)\n",
    "\n",
    "# create formula for F; use evalf() to evaluate 'a' to a decimal\n",
    "F = a.evalf()*t**(b)\n",
    "(F)"
   ]
  },
  {
   "cell_type": "markdown",
   "metadata": {},
   "source": [
    "### Test Yourself\n",
    "#### Problem 1\n",
    "The following plots yield straight lines. What are the equations that relate the variables?\n",
    "##### Part a\n",
    "$P$ vs $t$ on rectangular coordinates\n",
    "$$P = at + b$$\n",
    "\n",
    "##### Part b\n",
    "$P$ (logarithmic axis) vs $t$ on a semilog plot\n",
    "$$\\text{ln }P = a  t + b$$\n",
    "$$P = a e^{b t}$$\n",
    "\n",
    "##### Part c\n",
    "$P$ vs $t$ on a log plot\n",
    "$$\\text{ln }P = \\text{ln }a + b\\text{ln }t$$\n",
    "$$P = a  t^b$$\n",
    "\n",
    "##### Part d\n",
    "$y^2 - 3$ (logarithmic axis) vs $1/x^2$ on a semilog plot (express answer as an exponential function)\n",
    "$$\\text{ln }(y^2 - 3) = a / x^2 + b$$\n",
    "$$y^2 = a e^{b x^2}$$\n",
    "\n",
    "##### Part e\n",
    "$1/F$ vs $t^2 - 4$ on a log plot (express answer as power law)\n",
    "$$\\text{ln }(1/F) = \\text{ln }a + b \\text{ln }(t^2 - 4)$$\n",
    "$$1/F = a (t^2 - 4)^b$$"
   ]
  },
  {
   "cell_type": "markdown",
   "metadata": {},
   "source": [
    "#### Problem 2\n",
    "What would you plot against what on what kind of axes to get a straight line for the following relationships (a and b are constants)?\n",
    "\n",
    "##### Part a\n",
    "$$P = a e^{b*t}$$\n",
    "plot $\\text{ln }P$ vs $t$ (semilog plot)\n",
    "\n",
    "##### Part b\n",
    "$$P = a  t^b$$\n",
    "plot $P$ vs $t$ (log plot)\n",
    "\n",
    "##### Part c\n",
    "$$P^2 = e^{a t^3 + b}$$\n",
    "plot $P^2$ vs $t^3$ (semilog plot)\n",
    "\n",
    "##### Part d\n",
    "$$1/P = a (t - 4)^{-b}$$\n",
    "plot $1/P$ vs $t-4$ (log plot)"
   ]
  },
  {
   "cell_type": "markdown",
   "metadata": {},
   "source": [
    "## 2.7e Fitting a line to scattered data\n",
    "Measurements will rarely fit on a perfectly straight line. They will probably be scattered around a line. In these instances, many lines will appear to fit the data somewhat well. Use Linear Regression or Method of Least Squares to find the best fit line \n",
    "\n",
    "See Appendix A.1 (will be necessary for problems 2.39 to 2.42)"
   ]
  },
  {
   "cell_type": "code",
   "execution_count": null,
   "metadata": {
    "collapsed": true
   },
   "outputs": [],
   "source": []
  }
 ],
 "metadata": {
  "kernelspec": {
   "display_name": "Python 3",
   "language": "python",
   "name": "python3"
  },
  "language_info": {
   "codemirror_mode": {
    "name": "ipython",
    "version": 3
   },
   "file_extension": ".py",
   "mimetype": "text/x-python",
   "name": "python",
   "nbconvert_exporter": "python",
   "pygments_lexer": "ipython3",
   "version": "3.5.1"
  }
 },
 "nbformat": 4,
 "nbformat_minor": 0
}
