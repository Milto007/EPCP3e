{
 "cells": [
  {
   "cell_type": "markdown",
   "metadata": {},
   "source": [
    "# Chapter 02\n",
    "\n",
    "## 02.03 System of Units"
   ]
  },
  {
   "cell_type": "markdown",
   "metadata": {},
   "source": [
    "A system of units has the following components: \n",
    "- Base units - for length, mass, time, temperature, electrical current, and light intensity \n",
    "- Multiple units - multiples or fractions of base units (i. e. minutes, hours, seconds all different ways to express time) 3. Derived units - Two ways to obtain:\n",
    "\n",
    "(a) compound units - multiplying and dividing base or multiple units (i. e. $cm^2$, ft/min) \n",
    "\n",
    "(b) defined equivalents of comound units (i. e. 1 erg $\\equiv$ (1g cm/$s^2$)) \n",
    "\n",
    "**Systeme Internationale d'Unites (SI)** - system of units with widespread acceptance:\n",
    "- length -> meter (m) \n",
    "- mass -> kilogram (kg) \n",
    "- time -> seconds (s) \n",
    "\n",
    "SI uses prefixes to indicate powers of ten. For example:\n",
    "- mega (M) = 10^6 \n",
    "- kilo (k) = 10^3 \n",
    "- centi (c) = 10^-2 \n",
    "- mili (m) = 10^-3 \n",
    "- micro ($\\mu$) = 10^-6 \n",
    "\n",
    "**CGS system** is like SI except:\n",
    "- mass -> grams (g) \n",
    "- length -> cenimeters (cm) \n",
    "\n",
    "**American engineering system** has two issues: \n",
    "conversions are not powers of 10 and unit of force (discussed next section):\n",
    "- length -> foot (ft) \n",
    "- mass -> pound-mass ($lb_m$) \n",
    "- time -> second (s) \n",
    "\n",
    "Conversion between systems is possible using the correct factors. See table 2.3-1 or consult Perry's Chemical Engineers' Handbook for a complete list"
   ]
  },
  {
   "cell_type": "markdown",
   "metadata": {},
   "source": [
    "### Test Yourself\n",
    "#### Problem 1\n",
    "What are the factors (numerical values and units) needed to convert: \n",
    "\n",
    "- meters to milimeters\n",
    "- nanoseconds to second \n",
    "- square centimeters to square meters \n",
    "- cubic feet to cubic meters \n",
    "- horsepower to British thermal units per second\n"
   ]
  },
  {
   "cell_type": "code",
   "execution_count": 9,
   "metadata": {
    "collapsed": false
   },
   "outputs": [
    {
     "name": "stdout",
     "output_type": "stream",
     "text": [
      "1000.0 millimeter\n",
      "1e-09 second\n",
      "0.0001 meter ** 2\n",
      "0.028316846591999994 meter ** 3\n",
      "0.7067871049011177 btu / second\n"
     ]
    }
   ],
   "source": [
    "import pint\n",
    "ureg = pint.UnitRegistry()\n",
    "\n",
    "print((1 *  ureg.meter).to(ureg.millimeter))\n",
    "print((1 * ureg.nanosecond).to(ureg.second))\n",
    "print((1 * ureg.centimeter**2).to(ureg.meter**2))\n",
    "print((1 * ureg.foot**3).to(ureg.meter**3))\n",
    "print((1 * ureg.hp).to(ureg.BTU / ureg.second))"
   ]
  },
  {
   "cell_type": "markdown",
   "metadata": {},
   "source": [
    "#### Problem 2\n",
    "What is the derived SI unit for velocity? The velocity unit in the CGS system? In the American engineering system?\n",
    "\n",
    "Velocity is [length]/[time]:\n",
    "- SI  -> m/s\n",
    "- CGF -> cm/s\n",
    "- AES -> ft/s"
   ]
  },
  {
   "cell_type": "markdown",
   "metadata": {},
   "source": [
    "### Example 2-3.1\n",
    "#### Conversion between System of Units\n",
    "\n",
    "Convert 23 $lb_mft/min^2$ to its equivalent $kg-cm/s^2$\n",
    "\n",
    "Write dimensional equation, fill in units of conversion factors (new/old) and then the numerical values of these factors. Finally, do arithmetic"
   ]
  },
  {
   "cell_type": "code",
   "execution_count": 2,
   "metadata": {
    "collapsed": false
   },
   "outputs": [
    {
     "name": "stdout",
     "output_type": "stream",
     "text": [
      "0.45359237 kilogram\n",
      "0.30479999999999996 meter\n",
      "100.0 centimeter\n",
      "60.0 second\n"
     ]
    }
   ],
   "source": [
    "import pint\n",
    "ureg = pint.UnitRegistry()\n",
    "\n",
    "print((1 * ureg.pound).to(ureg.kilogram))\n",
    "print((1 * ureg.foot).to(ureg.meter))\n",
    "print((1 * ureg.meter).to(ureg.centimeter))\n",
    "print((1 * ureg.minute).to(ureg.second))"
   ]
  },
  {
   "cell_type": "markdown",
   "metadata": {},
   "source": [
    "Setup equation with correct orientation\n",
    "\n",
    "$$ \n",
    "\\frac{23 lb-ft^2}{1 min^2}\n",
    "\\frac{0.45359237 kg}{1 lb}\n",
    "\\frac{1 m}{3.281 ft}\n",
    "\\frac{100 cm}{1 m}\n",
    "\\frac{1 min^2}{60^2 s^2}\n",
    "$$"
   ]
  },
  {
   "cell_type": "code",
   "execution_count": 3,
   "metadata": {
    "collapsed": false
   },
   "outputs": [
    {
     "data": {
      "text/html": [
       "0.08832955418466666 centimeter kilogram/second<sup>2</sup>"
      ],
      "text/latex": [
       "$0.08832955418466666 \\frac{centimeter \\cdot kilogram}{second^{2}}$"
      ],
      "text/plain": [
       "<Quantity(0.08832955418466666, 'centimeter * kilogram / second ** 2')>"
      ]
     },
     "execution_count": 3,
     "metadata": {},
     "output_type": "execute_result"
    }
   ],
   "source": [
    "(23 * ureg.pound * ureg.foot / ureg.minute**2).to(\n",
    "      ureg.kilogram * ureg.centimeter / ureg.second**2)"
   ]
  },
  {
   "cell_type": "code",
   "execution_count": null,
   "metadata": {
    "collapsed": true
   },
   "outputs": [],
   "source": []
  }
 ],
 "metadata": {
  "kernelspec": {
   "display_name": "Python 3",
   "language": "python",
   "name": "python3"
  },
  "language_info": {
   "codemirror_mode": {
    "name": "ipython",
    "version": 3
   },
   "file_extension": ".py",
   "mimetype": "text/x-python",
   "name": "python",
   "nbconvert_exporter": "python",
   "pygments_lexer": "ipython3",
   "version": "3.5.1"
  }
 },
 "nbformat": 4,
 "nbformat_minor": 0
}
