{
 "cells": [
  {
   "cell_type": "markdown",
   "metadata": {},
   "source": [
    "# 2.5 Numerical Calculation and Estimation\n",
    "\n",
    "## 2.5a Scientific Notation, Significant Figures, and Precision\n",
    "\n",
    "**Scientific notation** - number expressed as product of number and power of 10:\n",
    "- 123,000,000 = 1.23 * $10^8$\n",
    "- 0.000028 = 2.8 * $10^{-5}$\n",
    "\n",
    "**Significant figures** - number of digits from the first nonzero digit on the left to either:\n",
    "- decimal point - last digit (zero or nonzero) on the right\n",
    "- no decimal point - last nonzero digit of the number\n",
    "\n",
    "Examples:\n",
    "- $2300$ or $2.3 \\times 10^3$ has 2 sig figs\n",
    "- $2300.$ or $2.300 \\times 10^4$ has 4 sig figs\n",
    "- $2300.0$ or $2.3000 \\times 10^3$ has 5 sig figs\n",
    "- $23,040$ or $2.304 \\times 10^4$ has 4 sig figs\n",
    "- $0.035$ or $3.5 \\times 10^{-2}$ has 2 sig figs\n",
    "- $0.03500$ or $3.500 \\times 10^{-2}$ has 4 sig figs\n",
    "\n",
    "The more sig figs, the more precise. Last sig fig implies it can be off by as much as half unit\n",
    "\n",
    "- 2.3 g is actually between 2.25 g and 2.35 g\n",
    "- 2.30 g is actually between 2.295 g and 2.305 g\n",
    "\n",
    "Only used for measured quantities. Integers have infinite sig figs \n",
    "5 crows = $5.00000...$ crows\n",
    "\n",
    "When multiplying or dividing, the result must match the lowest number of sig figs (round as necessary)\n",
    "\n",
    "- $2.3 * 1.05 => 2 \\text{ sig figs} * 3 \\text{ sig figs} -> 2 \\text{ sig figs}$"
   ]
  },
  {
   "cell_type": "code",
   "execution_count": 1,
   "metadata": {
    "collapsed": false
   },
   "outputs": [
    {
     "data": {
      "text/plain": [
       "2.415"
      ]
     },
     "execution_count": 1,
     "metadata": {},
     "output_type": "execute_result"
    }
   ],
   "source": [
    "2.3 * 1.05"
   ]
  },
  {
   "cell_type": "markdown",
   "metadata": {},
   "source": [
    "Round the results to two significant figures:\n",
    "- 2.4"
   ]
  },
  {
   "cell_type": "markdown",
   "metadata": {},
   "source": [
    "For addition and subtraction, the positions of the last sig figs of each number relative to the decimal point should be compared. Of these positions, the one farthest to the left is the position of the last permissible sig fig of the sum or difference.\n",
    "\n",
    "1530 -> tens place\n",
    "\n",
    "2.56 -> hundreths place\n",
    "\n",
    "result will have sig figs stop in tens place"
   ]
  },
  {
   "cell_type": "code",
   "execution_count": 2,
   "metadata": {
    "collapsed": false
   },
   "outputs": [
    {
     "data": {
      "text/plain": [
       "1527.44"
      ]
     },
     "execution_count": 2,
     "metadata": {},
     "output_type": "execute_result"
    }
   ],
   "source": [
    "1530 - 2.56"
   ]
  },
  {
   "cell_type": "markdown",
   "metadata": {},
   "source": [
    "With correct significant digits, the result is\n",
    "$1530$ or $1.53 \\times 10^3$"
   ]
  },
  {
   "cell_type": "markdown",
   "metadata": {},
   "source": [
    "- 1.0000 -> ten thousanths\n",
    "- 0.036 -> thousanths\n",
    "- 0.22 -> hundreths\n",
    "\n",
    "result will stop at hundeths place"
   ]
  },
  {
   "cell_type": "code",
   "execution_count": 3,
   "metadata": {
    "collapsed": false
   },
   "outputs": [
    {
     "data": {
      "text/plain": [
       "1.256"
      ]
     },
     "execution_count": 3,
     "metadata": {},
     "output_type": "execute_result"
    }
   ],
   "source": [
    "1.0000 + 0.036 + 0.22"
   ]
  },
  {
   "cell_type": "markdown",
   "metadata": {},
   "source": [
    "With correct significant digits, the result is 1.26"
   ]
  },
  {
   "cell_type": "markdown",
   "metadata": {},
   "source": [
    "### Test Yourself\n",
    "\n",
    "#### Problem 1\n",
    "\n",
    "Express the following quantities in scientific notation and indicate how many sig figs each has:\n",
    "- 12,200\n",
    "- 12,200.0\n",
    "- 0.003040"
   ]
  },
  {
   "cell_type": "markdown",
   "metadata": {},
   "source": [
    "#### Solution 1\n",
    "- **1**2,**2**00 has 3 sig figs = $1.22 \\times 10^4$\n",
    "- **1**2,200.**0** has 6 sig figs = $1.22000 \\times 10^4$\n",
    "- 0.00**3**04**0** has 4 sig figs = $3.040 \\times 10^{-3}$"
   ]
  },
  {
   "cell_type": "markdown",
   "metadata": {},
   "source": [
    "#### Problem 2 \n",
    "Express the following quantities in standard decimal form and indicate how many significant figures each has\n",
    "- $1.34 \\times 10^5$\n",
    "- $1.340 \\times 10^{-2}$\n",
    "- $0.00420 \\times 10^6$"
   ]
  },
  {
   "cell_type": "markdown",
   "metadata": {},
   "source": [
    "#### Solution 2\n",
    "\n",
    "- **1**3**4**000 has 3 sig figs\n",
    "- 0.0**1**34**0** has 4 sig figs\n",
    "- **4**2**0**0 has 3 sig figs (Note: sig figs not distinguishable in decimal form)"
   ]
  },
  {
   "cell_type": "markdown",
   "metadata": {},
   "source": [
    "#### Probelm 3\n",
    "How many significant figures would the solution of each of the following problems have? Whare the solutions of (c) and (d)?\n",
    "- $(5.74)(38.27)$\n",
    "- $(1.76*10^4)(0.12*10^{-6})$\n",
    "- $1.000 + 10.2$\n",
    "- $18.76 - 7$"
   ]
  },
  {
   "cell_type": "markdown",
   "metadata": {},
   "source": [
    "#### Solution 3"
   ]
  },
  {
   "cell_type": "code",
   "execution_count": 5,
   "metadata": {
    "collapsed": false
   },
   "outputs": [
    {
     "data": {
      "text/plain": [
       "219.66980000000004"
      ]
     },
     "execution_count": 5,
     "metadata": {},
     "output_type": "execute_result"
    }
   ],
   "source": [
    "5.74*38.27"
   ]
  },
  {
   "cell_type": "markdown",
   "metadata": {},
   "source": [
    "(a) is 220. and has 3 sig figs"
   ]
  },
  {
   "cell_type": "code",
   "execution_count": 7,
   "metadata": {
    "collapsed": false
   },
   "outputs": [
    {
     "data": {
      "text/plain": [
       "0.0021119999999999997"
      ]
     },
     "execution_count": 7,
     "metadata": {},
     "output_type": "execute_result"
    }
   ],
   "source": [
    "(1.76*10**4)*(0.12*10**-6)"
   ]
  },
  {
   "cell_type": "markdown",
   "metadata": {},
   "source": [
    "(b) is 0.0021 and has 2 sig figs"
   ]
  },
  {
   "cell_type": "code",
   "execution_count": 8,
   "metadata": {
    "collapsed": false
   },
   "outputs": [
    {
     "data": {
      "text/plain": [
       "11.2"
      ]
     },
     "execution_count": 8,
     "metadata": {},
     "output_type": "execute_result"
    }
   ],
   "source": [
    "1.000 + 10.2"
   ]
  },
  {
   "cell_type": "markdown",
   "metadata": {},
   "source": [
    "(c) is 11.2 and has 3 sig figs"
   ]
  },
  {
   "cell_type": "code",
   "execution_count": 10,
   "metadata": {
    "collapsed": false
   },
   "outputs": [
    {
     "data": {
      "text/plain": [
       "11.760000000000002"
      ]
     },
     "execution_count": 10,
     "metadata": {},
     "output_type": "execute_result"
    }
   ],
   "source": [
    "18.76 - 7"
   ]
  },
  {
   "cell_type": "markdown",
   "metadata": {},
   "source": [
    "(d) is 12 and has 2 sig figs"
   ]
  },
  {
   "cell_type": "markdown",
   "metadata": {},
   "source": [
    "#### Problem 4\n",
    "Round off each of the following numbers to three sig figs\n",
    "- $1465$\n",
    "- $13.35$\n",
    "- $1.765 \\times 10^{-7}$"
   ]
  },
  {
   "cell_type": "markdown",
   "metadata": {},
   "source": [
    "#### Solution 4\n",
    "- 1470\n",
    "- 13.4\n",
    "- $1.77 \\times 10^{-7}$"
   ]
  },
  {
   "cell_type": "markdown",
   "metadata": {},
   "source": [
    "#### Probelm 5 \n",
    "\n",
    "When the value of a number is given, the sig figs provide an indication of the uncertainty in the value; for example, a value of 2.7 indicates that the number lies between 2.65 and 2.75. Give ranges within which each of the following lie\n",
    "- $4.3$\n",
    "- $4.30$\n",
    "- $2.778 \\times 10^{-3}$\n",
    "- $2500$\n",
    "- $2.500 \\times 10^3$"
   ]
  },
  {
   "cell_type": "markdown",
   "metadata": {},
   "source": [
    "#### Solution 5\n",
    "- $4.25$ to $4.35$\n",
    "- $4.295$ to $2.305$\n",
    "- $2.7775 \\times 10^{-3}$ to $2.7785 \\times 10^{-3}$\n",
    "- $2450$ to $2550$\n",
    "- $2449.5$ to $2500.5$"
   ]
  },
  {
   "cell_type": "markdown",
   "metadata": {},
   "source": [
    "## 2.5b Validating Results\n",
    "\n",
    "Problems will have two critical questions:\n",
    "\n",
    "1. How do I get a solution?\n",
    "2. How do I know solution is correct?\n",
    "\n",
    "To validate solutions, you can use \n",
    "\n",
    "- *back substitution* - substitude solution back into equation and test result\n",
    "- *order of magnitude esitmation* - come up with crude approximation of answer and see if more exact solution is close\n",
    "- *test of reasonableness* - verify solution makes sense. If velocity through pipe > speed of light or reactor's temp > sun, there is probably a mistake somewhere."
   ]
  },
  {
   "cell_type": "markdown",
   "metadata": {
    "collapsed": true
   },
   "source": [
    "Examples of order-of-magnitude estimation:\n",
    "\n",
    "Substitute integers for all numerical quantities, using powers of 10:\n",
    "- 27.36 -> 20 or 30\n",
    "- 63,472 -> 6*10^4\n",
    "- 0.002887 -> 3 * 10^-3\n",
    "    \n",
    "Perform calc continuing to round"
   ]
  },
  {
   "cell_type": "code",
   "execution_count": 2,
   "metadata": {
    "collapsed": false
   },
   "outputs": [
    {
     "data": {
      "text/plain": [
       "4000000.0"
      ]
     },
     "execution_count": 2,
     "metadata": {},
     "output_type": "execute_result"
    }
   ],
   "source": [
    "4 * 10**4 * 5 * 10**-2 / (5 * 10**-4)"
   ]
  },
  {
   "cell_type": "markdown",
   "metadata": {},
   "source": [
    "With correct sig figs, the solution is $4 \\times 10^6$. The solution without rounding is $4.78 \\times 10^6$ so they are pretty close"
   ]
  },
  {
   "cell_type": "markdown",
   "metadata": {},
   "source": [
    "When a number is added that is much smaller, drop it and approximate\n",
    "\n",
    "$$\n",
    "\\frac{1}{4.13 + 0.04762} =\n",
    "\\frac{1}{4.13} =\n",
    "\\frac{1}{4} =\n",
    "0.25\n",
    "$$\n",
    "\n",
    "The calculated solution is 0.239"
   ]
  },
  {
   "cell_type": "markdown",
   "metadata": {},
   "source": [
    "### Example 2.5-1\n",
    "#### Order-of-Magnitude Estimation\n",
    "\n",
    "The calcuation of a process stream volumetric flow rate has led to the following formula:\n",
    "\n",
    "$$\n",
    "V = \n",
    "(\\frac{254}{0.879 \\times 62.4} + \n",
    "\\frac{13}{0.866*62.4}) \\times \n",
    "\\frac{1}{31.3145 \\times 60}\n",
    "$$\n",
    "\n",
    "Estimate V without using a calculator\n",
    "\n",
    "$$\n",
    "V = \n",
    "(\\frac{250}{50} + \\frac{10}{60}) \\times \\frac{1}{40 \\times 60} = \n",
    "\\frac{5}{25 \\times 10^2} =\n",
    "0.2 \\times 10^{-2} = \n",
    "0.002\n",
    "$$\n"
   ]
  },
  {
   "cell_type": "markdown",
   "metadata": {},
   "source": [
    "Third way is to check numerical result for reasonableness. Always ask yourself:\n",
    "\n",
    "- Does this make sense?\n",
    "\n",
    "Compare your answer to extremes like iron melting point (1535 Degrees Celcius) or volume of Earth ($10^{21}$ m)"
   ]
  },
  {
   "cell_type": "markdown",
   "metadata": {},
   "source": [
    "## 2.5c Estimation of Measured Values: Sample Mean\n",
    "\n",
    "Chem reaction A -> Products\n",
    "\n",
    "Start with pure A in a reactor, constant temp of 45 degrees C. Two minutes later, draw sample and determine X, the percent of A fed that has reacted.\n",
    "\n",
    "X should have a unique value, but in a real reactor, X is a random variable, changing in an unpredictable manner from one run to another. Sample values below:\n",
    "\n",
    "Run\n",
    "1 2 3 4 5 6 7 8 9 10\n",
    "\n",
    "X(%)\n",
    "67.1 73.1 69.6 67.4 71. 68.2 69.4 68.2 68.7 70.2\n",
    "\n",
    "- It is impossible to replicate experimental conditions exactly in successive experiments\n",
    "- Impossible to draw sample at exactly t = 2.00... minutes\n",
    "- Variations in sampling and chem analysis introduce scatter in measured values\n",
    "\n",
    "##### What is the true value of X?\n",
    "\n",
    "A true value would assume exactly 45.000... degrees C temp, sample at exactly 2.00... minutes and analyze with complete accuracy. Perform this measurement infitinite number of times and average results. Impossible to do, so we can only estimate.\n",
    "\n",
    "##### How can we estimate the true value of X?\n",
    "\n",
    "Most commonly use sample mean:\n",
    "- collect N measured values of X (X1, X2, ..., XN) and calculate\n",
    "\n",
    "$$\n",
    "\\frac{1}{N} \\sum{x_j}\n",
    "$$\n",
    "\n",
    "For given data, that would be"
   ]
  },
  {
   "cell_type": "code",
   "execution_count": 22,
   "metadata": {
    "collapsed": false
   },
   "outputs": [
    {
     "data": {
      "text/plain": [
       "69.29"
      ]
     },
     "execution_count": 22,
     "metadata": {},
     "output_type": "execute_result"
    }
   ],
   "source": [
    "xdata = [67.1, 73.1, 69.6, 67.4, 71, 68.2, 69.4, 68.2, 68.7, 70.2]\n",
    "\n",
    "sum = 0\n",
    "for i in xdata:\n",
    "    sum += i\n",
    "    \n",
    "xavg = sum/len(xdata)\n",
    "xavg"
   ]
  },
  {
   "cell_type": "code",
   "execution_count": 24,
   "metadata": {
    "collapsed": false
   },
   "outputs": [
    {
     "data": {
      "text/plain": [
       "(50, 100)"
      ]
     },
     "execution_count": 24,
     "metadata": {},
     "output_type": "execute_result"
    },
    {
     "data": {
      "image/png": "[encoded data removed]",
      "text/plain": [
       "<matplotlib.figure.Figure at 0x7f0675b88d30>"
      ]
     },
     "metadata": {},
     "output_type": "display_data"
    }
   ],
   "source": [
    "import matplotlib.pyplot as plt\n",
    "%matplotlib inline\n",
    "\n",
    "x = [1, 2, 3, 4, 5, 6, 7, 8, 9, 10]\n",
    "\n",
    "# create matching set of y values of just the xdata avg\n",
    "y = []\n",
    "for i in range(10):\n",
    "    y.append(xavg)\n",
    "\n",
    "plt.plot(x, xdata, 'ro', x, y, 'b-')\n",
    "plt.ylim([50,100])"
   ]
  },
  {
   "cell_type": "markdown",
   "metadata": {},
   "source": [
    "### Test Yourself\n",
    "\n",
    "The weekly production rates of a pharmaceutical product over the past six weeks have been 37, 17, 39, 40, 40, and 40 batches per week.\n",
    "\n",
    "#### Problem 1\n",
    "Think of several possible explanations for the observed variation in the weekly produciton"
   ]
  },
  {
   "cell_type": "markdown",
   "metadata": {},
   "source": [
    "#### Solution 1\n",
    "Things that cannot be controlled like weather, temperature, or humidity. Things that can be controll may have contributed as well such as breakdowns, shutdowns, or human operation mistakes."
   ]
  },
  {
   "cell_type": "markdown",
   "metadata": {},
   "source": [
    "#### Problem 2\n",
    "If you used the sample mean of the given data as a basis, what would you predict the next weekly production rate to be?"
   ]
  },
  {
   "cell_type": "code",
   "execution_count": 28,
   "metadata": {
    "collapsed": false
   },
   "outputs": [
    {
     "data": {
      "text/plain": [
       "35.5"
      ]
     },
     "execution_count": 28,
     "metadata": {},
     "output_type": "execute_result"
    }
   ],
   "source": [
    "# Solution 2\n",
    "runs = [37, 17, 39, 40, 40, 40]\n",
    "sum = 0\n",
    "for i in runs:\n",
    "    sum += i\n",
    "\n",
    "runs_avg = sum/len(runs)\n",
    "runs_avg"
   ]
  },
  {
   "cell_type": "markdown",
   "metadata": {},
   "source": [
    "#### Problem 3\n",
    "Come up with a better prediction and explain your reasoning."
   ]
  },
  {
   "cell_type": "markdown",
   "metadata": {},
   "source": [
    "#### Solution 3\n",
    "40\n",
    "\n",
    "The last three batches were consistent at 40, so I suspect they have refined the process well enough to match or come close to 40 batches per week. The mean incorporates early mistakes and does not weigh the most recent production weeks as heavily."
   ]
  },
  {
   "cell_type": "markdown",
   "metadata": {},
   "source": [
    "## 2.5d Sample Variance of Scattered Data\n",
    "\n",
    "Three quantities are used to express extent to which values of a random variable scatter about their mean value\n",
    "\n",
    "**Range**\n",
    "\n",
    "$$\n",
    "R = X_{max} - X_{min}\n",
    "$$\n",
    "\n",
    "- crudest measure, gives no indication of whether or not values cluster close to mean or scatter widely\n",
    "\n",
    "**Sample Variance**\n",
    "\n",
    "$$\n",
    "s_{x}^2 = \n",
    "\\frac{1}{N-1} \\times\n",
    "((X_1 - X_{avg})^2 + \n",
    " (X_2 - X_{avg})^2 + \n",
    " ... + \n",
    " (X_N - X_{avg})^2))\n",
    "$$\n",
    "\n",
    "- Calcuate deviation of each measured value from sample mean\n",
    "\n",
    "**Sample Standard Deviation**\n",
    "\n",
    "$$\n",
    "s_x = \\sqrt{s_x^2}\n",
    "$$\n",
    "\n",
    "- square root of sample variance\n",
    "\n",
    "For typical random variables, roughly 2/3 of all measured values fall within one standard deviation of the mean; about 95% fall within two standard deviations; about 99% fall within three standard deviations\n",
    "\n",
    "Values are often reported with error limits such as \n",
    "\n",
    "$$\n",
    "X = 48.2 \\pm 0.6 \n",
    "$$\n",
    "\n",
    "but it is not clear if 0.6 is the range or $\\pm s_x$ or $\\pm 2s_x$ or $\\pm 3s_x$. Make it clear what you mean"
   ]
  },
  {
   "cell_type": "markdown",
   "metadata": {},
   "source": [
    "### Test Yourself\n",
    "\n",
    "Volumetric flow rate of a process fluid, Vflow (cm^3/s) is measured 5 times with the following results\n",
    "\n",
    "Measurement 1       2      3    4     5\n",
    "\n",
    "V(cm^3/s)\t\t\t\t\t\t\t232 248 227 241 239"
   ]
  },
  {
   "cell_type": "code",
   "execution_count": 29,
   "metadata": {
    "collapsed": true
   },
   "outputs": [],
   "source": [
    "measurements = [232, 248, 227, 241, 239]"
   ]
  },
  {
   "cell_type": "markdown",
   "metadata": {},
   "source": [
    "#### Problem (a)\n",
    "calculate sample mean ($V_{avg}$), range, sample variance ($s_v^2$) and sample standard variance ($s_v$)"
   ]
  },
  {
   "cell_type": "code",
   "execution_count": 52,
   "metadata": {
    "collapsed": false
   },
   "outputs": [
    {
     "name": "stdout",
     "output_type": "stream",
     "text": [
      "The avg is 237.4\n"
     ]
    }
   ],
   "source": [
    "# solution (a)\n",
    "import math\n",
    "\n",
    "sum = 0\n",
    "for i in measurements:\n",
    "    sum += i\n",
    "    \n",
    "avg = sum/len(measurements)\n",
    "print(\"The avg is\", avg)"
   ]
  },
  {
   "cell_type": "code",
   "execution_count": 53,
   "metadata": {
    "collapsed": false
   },
   "outputs": [
    {
     "name": "stdout",
     "output_type": "stream",
     "text": [
      "The range is 21\n"
     ]
    }
   ],
   "source": [
    "range = max(measurements) - min(measurements)\n",
    "print(\"The range is\", range)"
   ]
  },
  {
   "cell_type": "code",
   "execution_count": 54,
   "metadata": {
    "collapsed": false
   },
   "outputs": [
    {
     "name": "stdout",
     "output_type": "stream",
     "text": [
      "The sample variance is 66.30000000000001\n",
      "The sample standard variance is 8.142481194328914\n"
     ]
    }
   ],
   "source": [
    "sx = 0\n",
    "for i in measurements:\n",
    "    sx += (i - avg)**2\n",
    "\n",
    "sx = sx / (len(measurements) - 1)\n",
    "print(\"The sample variance is\", sx)\n",
    "    \n",
    "sx = math.sqrt(sx)\n",
    "print(\"The sample standard variance is\", sx)"
   ]
  },
  {
   "cell_type": "markdown",
   "metadata": {},
   "source": [
    "#### Problem (b)\n",
    "There is a high probablility (above 90%) that a measure value of Vflow will fall within two standard deviations of the mean. Report the value of Vflow in the form $V_{flow} = a \\pm b$, choosing the values of a and b to define this range"
   ]
  },
  {
   "cell_type": "code",
   "execution_count": 57,
   "metadata": {
    "collapsed": false
   },
   "outputs": [
    {
     "name": "stdout",
     "output_type": "stream",
     "text": [
      "Vavg =  237.4 +/- 16.284962388657828\n"
     ]
    }
   ],
   "source": [
    "print(\"Vavg = \", avg, \"+/-\", 2*sx)"
   ]
  },
  {
   "cell_type": "markdown",
   "metadata": {},
   "source": [
    "### Example 2.5-2\n",
    "#### Statistical Quality Control\n",
    "\n",
    "500 batches of pigment are produced each week. Each batch is subjected to a precise color analysis test. If it fails, it is rejects and sent back for reformulation.\n",
    "\n",
    "Let Y be the number of bad batches produced per week. Here are resutls for 12 weeks"
   ]
  },
  {
   "cell_type": "code",
   "execution_count": 1,
   "metadata": {
    "collapsed": true
   },
   "outputs": [],
   "source": [
    "badbatches = [17, 27, 18, 18, 23, 19, 18, 21, 20, 19, 21, 18]"
   ]
  },
  {
   "cell_type": "markdown",
   "metadata": {},
   "source": [
    "Company policy says process is normal as long as bat batches in a week is no more than 3 std devs above mean value for base period ($Y <= Y_{avg} \\pm 3s_y$). If it exceeds this, it is shutdown for maintenance\n",
    "\n",
    "##### Problem 1\n",
    "How many bad batches in a week would it take to shutdown the process?"
   ]
  },
  {
   "cell_type": "code",
   "execution_count": 2,
   "metadata": {
    "collapsed": false
   },
   "outputs": [
    {
     "name": "stdout",
     "output_type": "stream",
     "text": [
      "19.916666666666668\n"
     ]
    }
   ],
   "source": [
    "# calc average\n",
    "sum = 0\n",
    "for i in badbatches:\n",
    "    sum += i\n",
    "    \n",
    "avg = sum/len(badbatches)\n",
    "print(avg)"
   ]
  },
  {
   "cell_type": "code",
   "execution_count": 4,
   "metadata": {
    "collapsed": false
   },
   "outputs": [
    {
     "name": "stdout",
     "output_type": "stream",
     "text": [
      "7.901515151515153\n"
     ]
    }
   ],
   "source": [
    "# calc sample variance\n",
    "sx2 = 0\n",
    "\n",
    "for i in badbatches:\n",
    "    sx2 += (i - avg)**2\n",
    "\n",
    "sx2 = sx2/(len(badbatches) - 1)\n",
    "print(sx2)"
   ]
  },
  {
   "cell_type": "code",
   "execution_count": 8,
   "metadata": {
    "collapsed": false
   },
   "outputs": [
    {
     "name": "stdout",
     "output_type": "stream",
     "text": [
      "2.810963384947437\n"
     ]
    }
   ],
   "source": [
    "# calc std sample variance\n",
    "import math\n",
    "sx = math.sqrt(sx2)\n",
    "print(sx)"
   ]
  },
  {
   "cell_type": "code",
   "execution_count": 11,
   "metadata": {
    "collapsed": false
   },
   "outputs": [
    {
     "data": {
      "text/plain": [
       "28.34955682150898"
      ]
     },
     "execution_count": 11,
     "metadata": {},
     "output_type": "execute_result"
    }
   ],
   "source": [
    "# calc avg + 3*std sample variance\n",
    "avg + 3 * sx"
   ]
  },
  {
   "cell_type": "markdown",
   "metadata": {},
   "source": [
    "If 29 or more bad batches happen, the process must be shut down for maintenance"
   ]
  },
  {
   "cell_type": "markdown",
   "metadata": {},
   "source": [
    "##### Probelm 2\n",
    "What would be the limiting value of Y if two std devs instead of three were used as the cutoff? What would be the advantage and disadvantage?"
   ]
  },
  {
   "cell_type": "code",
   "execution_count": 13,
   "metadata": {
    "collapsed": false
   },
   "outputs": [
    {
     "data": {
      "text/plain": [
       "25.53859343656154"
      ]
     },
     "execution_count": 13,
     "metadata": {},
     "output_type": "execute_result"
    }
   ],
   "source": [
    "# calc avg + 2*std sample variance\n",
    "avg + 2 * sx"
   ]
  },
  {
   "cell_type": "markdown",
   "metadata": {},
   "source": [
    "Using only 2 std devs, cutoff is 26. This would mean it would more easily shutdown for maintenance which could mean fewer bad batches overall and longer life of equipment but an increase in maintenance cost and time. It could also mean a shutdown when nothing is wrong."
   ]
  },
  {
   "cell_type": "code",
   "execution_count": null,
   "metadata": {
    "collapsed": true
   },
   "outputs": [],
   "source": []
  }
 ],
 "metadata": {
  "kernelspec": {
   "display_name": "Python 3",
   "language": "python",
   "name": "python3"
  },
  "language_info": {
   "codemirror_mode": {
    "name": "ipython",
    "version": 3
   },
   "file_extension": ".py",
   "mimetype": "text/x-python",
   "name": "python",
   "nbconvert_exporter": "python",
   "pygments_lexer": "ipython3",
   "version": "3.5.1"
  }
 },
 "nbformat": 4,
 "nbformat_minor": 0
}
