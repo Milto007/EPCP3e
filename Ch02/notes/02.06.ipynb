{
 "cells": [
  {
   "cell_type": "markdown",
   "metadata": {},
   "source": [
    "# 2.6 Dimensionlal Homogeneity and Dimensionless Quantities\n",
    "\n",
    "If quantities can only be added and subtracted when units match, same is true of dimensionless quantities\n",
    "\n",
    "*Every valid equation msut be dimensionally homogeneous: that is, all additive terms on both sides of the equation must have the same dimensions.*\n",
    "\n",
    "Consider the equation:\n",
    "$$\n",
    "u(\\text{m/s}) = \n",
    "u_0(\\text{m/s}) + g(\\text{m} / \\text{s}^2) \\times t(\\text{s})\n",
    "$$\n",
    "\n",
    "It is dimensionally homogeneous since each term is length/time. It also has consisten units since each term is m/s. If equation is dimensionally homogeneous but units are inconsistent, the terms must be converted to match units. For example, if time, t, was given in minutes:\n",
    "\n",
    "$$\n",
    "u(\\text{m/s}) = \n",
    "u_0(\\text{m/s}) + \n",
    "g(\\text{m} / \\text{s}^2) \\times \n",
    "t(\\text{min}) \\times \n",
    "(60 \\text{ s/min})\n",
    "$$\n",
    "\n",
    "$$ = u_0 + 60 g t$$"
   ]
  },
  {
   "cell_type": "markdown",
   "metadata": {},
   "source": [
    "## Example 2.6-1 Dimensional Homogeneity\n",
    "\n",
    "Consider the equation:\n",
    "$$ D(\\text{ft}) = 3 t(\\text{s}) - 4 $$\n",
    "\n",
    "### Problem 1\n",
    "If the equation is valid, what are the dimensions of the constants 3 and 4?\n",
    "### Solution 1\n",
    "4 has dimensions of *length* and 3 has dimensions *length/time*\n",
    "\n",
    "### Problem 2\n",
    "If the equation is consistent in units, what are the units of the constants 3 and 4?\n",
    "### Solution 2\n",
    "4 has units feet (ft) and 3 has units feet per second (ft/s)\n",
    "\n",
    "### Problem 3\n",
    "Derive an equation for distance in meters in terms of time in minutes\n",
    "### Solution 3"
   ]
  },
  {
   "cell_type": "code",
   "execution_count": 3,
   "metadata": {
    "collapsed": false
   },
   "outputs": [
    {
     "name": "stdout",
     "output_type": "stream",
     "text": [
      "3.2808398950131235 foot\n",
      "60.0 second\n"
     ]
    }
   ],
   "source": [
    "import pint\n",
    "ureg = pint.UnitRegistry()\n",
    "\n",
    "print((1 * ureg.meter).to(ureg.foot))\n",
    "print((1 * ureg.minute).to(ureg.second))"
   ]
  },
  {
   "cell_type": "markdown",
   "metadata": {},
   "source": [
    "$$D = D' \\times 3.28$$\n",
    "$$t = t' \\times 60$$\n",
    "\n",
    "Substitute into equation\n",
    "$$\n",
    "3.28 \\times D' = \n",
    "3 \\times 60 \\times t' + 4\n",
    "$$\n",
    "or\n",
    "$$ D' = 55 \\times t' + 1.22$$"
   ]
  },
  {
   "cell_type": "markdown",
   "metadata": {
    "collapsed": true
   },
   "source": [
    "To rewrite an equation in terms of new variables:\n",
    "- Define new variables (add 'primes' to old variable names)\n",
    "- Write expressions for each old variable of the corresponding new variable\n",
    "- Substitute these expressions in the original equation and simplify\n",
    "\n",
    "A **dimensionless quantity** can be a pure number (2, 1, 3, 5/2) or multiplicative combination with no net dimensions:\n",
    "\n",
    "$$ \n",
    "\\frac{M(\\text{g})}{M_o(\\text{g})} \n",
    "\\frac{D(\\text{cm})u(\\text{cm/s})\\rho(\\text{g/cm}^3)}\n",
    "     {\\mu[\\text{g/(cm-s)}]}\n",
    "$$\n",
    "\n",
    "A quantity such as $M/M_o$ or $Du\\rho/\\mu$ is also called a **dimensionless group**.\n",
    "\n",
    "Exponents, transcendental functions, and arguments of transcendental functions must be dimensionless quantities. $10^{2\\text{ft}}$ and $\\text{sin }(8 \\text{ s})$ doesn't make sense."
   ]
  },
  {
   "cell_type": "markdown",
   "metadata": {},
   "source": [
    "### Example 2.6-2 Dimensional Homogeneity and Dimensionless Groups\n",
    "\n",
    "A quantity, $k$, depends on the temperature $T$ in the following manner:\n",
    "$$\n",
    "k(\\frac{\\text{mol}}{\\text{cm}^3\\text{s}}) =\n",
    "1.2 \\times 10^5 \\text{exp}(-\\frac{20,000}{1.987T})\n",
    "$$\n",
    "\n",
    "Units of the quantity 20,000 are cal/mol, and T is in K (kelvin). What are the units of $1.2 \\times 10^5$ and $1.987$?"
   ]
  },
  {
   "cell_type": "markdown",
   "metadata": {},
   "source": [
    "- Since argument of exp must be dimneionless, 1.987 must be of units $\\text{cal/(mol K)}$\n",
    "- Units of $1.2 \\times 10^5$ must match result, so units are $\\frac{\\text{mol}}{\\text{cm}^3\\text{s}}$"
   ]
  },
  {
   "cell_type": "markdown",
   "metadata": {},
   "source": [
    "### Test Yourself\n",
    "#### Problem 1\n",
    "What is a dimensionally homogeneous equation? If an equation is dimensionally homogeneous, is it necessarily valid? If an equation is valid, is it dimensionally homogenous?\n",
    "#### Solution 1\n",
    "- Dimensionally homogeneous means dimensions match correctly (i.e. length/time + length/time - (length-length)/(time-length) )\n",
    "- Equation must have same units in addition to correct dimensions; it is possible to be dimensionally homogeneous but still be invalid\n",
    "- Yes, a valid equation must be dimensionally homogeneous\n",
    "\n",
    "#### Problem 2\n",
    "If $y(\\text{m/s}^2) = az(\\text{m}^3)$, what are the units of $a$?\n",
    "#### Solution 2\n",
    "$a$ must have units $1/(\\text{m}^2 \\text{s}^2)$\n",
    "\n",
    "#### Problem 3\n",
    "What is a dimensionless group? What multiplicative combination of $r(\\text{m})$, $s(\\text{m/s}^2)$, and $t(\\text{s})$ would constitute a dimensionless grou?\n",
    "#### Solution 3\n",
    "- A dimensionless group has units/dimensions cancel to result in no dimensions for that term/group\n",
    "- Many possibilities, one is $\\frac{r}{t^2 s}$\n",
    "\n",
    "#### Problem 4\n",
    "If $z(\\text{lb}_f) = a\\text{sin}(Q)$, what are the units of $a$ and $Q$?\n",
    "#### Solution 4\n",
    "- Q must be dimensionless\n",
    "- a must be $\\text{lb}_f$"
   ]
  },
  {
   "cell_type": "code",
   "execution_count": null,
   "metadata": {
    "collapsed": true
   },
   "outputs": [],
   "source": []
  }
 ],
 "metadata": {
  "kernelspec": {
   "display_name": "Python 3",
   "language": "python",
   "name": "python3"
  },
  "language_info": {
   "codemirror_mode": {
    "name": "ipython",
    "version": 3
   },
   "file_extension": ".py",
   "mimetype": "text/x-python",
   "name": "python",
   "nbconvert_exporter": "python",
   "pygments_lexer": "ipython3",
   "version": "3.5.1"
  }
 },
 "nbformat": 4,
 "nbformat_minor": 0
}
