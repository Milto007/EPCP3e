{
 "cells": [
  {
   "cell_type": "markdown",
   "metadata": {},
   "source": [
    "# Chapter 02"
   ]
  },
  {
   "cell_type": "markdown",
   "metadata": {},
   "source": [
    "## 2.2 Conversion of Units\n",
    "\n",
    "Numerical values of a measured quantity depend on chosen units. Equivalence between two expressions of same quantity may be defined in terms of a ratio:\n",
    "\n",
    "$$\\frac{1 cm}{10 mm}$$\n",
    "\n",
    "$$\\frac{10 mm}{1 cm}$$"
   ]
  },
  {
   "cell_type": "markdown",
   "metadata": {
    "collapsed": true
   },
   "source": [
    "The ratios shown above are called Conversion Factors. \n",
    "To convert a quantity expressed in terms of one units to its equivalent in terms of another unit, multiply the given quantity by the conversion factor \t\n",
    "\n",
    "$$\\frac{\\text{new unit}}{\\text{old unit}} $$\n",
    "\n",
    "if the new unit is to be on top or use\n",
    "\n",
    "$$\\frac{\\text{old unit}}{\\text{new unit}} $$ \n",
    "\n",
    "if the new unit is to be on bottom \n",
    "\n",
    "Example:\n",
    "\n",
    "$$ \\frac{36 mg}{1}\\frac{1 g}{1000 mg} = 0.036 g$$\n",
    "\n",
    "Milligrams is located on both the top and bottom so it is eliminated and only grams remains.\n",
    "\n",
    "Performing it incorrectly would lead to incorrect units\n",
    "\n",
    "$$ \\frac{36 mg}{1} \\frac{1 000 mg}{1 g} = 36 000 \\text{mg}^2/\\text{g} $$\n",
    "\n",
    "Here, milligrams is on top in both fractions and when multiplied becomes $mg^2$ while grams remains on the bottom."
   ]
  },
  {
   "cell_type": "markdown",
   "metadata": {},
   "source": [
    "### Example 2.2-1 Conversion of Units\n",
    "Convert an acceleration of 1 cm/s^2 to its equivalent km/yr^2"
   ]
  },
  {
   "cell_type": "markdown",
   "metadata": {},
   "source": [
    "Will need to convert cm to km and $s^2$ to $yr^2$. Easiest way is: \n",
    "\n",
    "cm->m->km\n",
    "\n",
    "$\\text{s}^2$->$\\text{min}^2$->$\\text{hr}^2$->$\\text{days}^2$->$\\text{yr}^2$\n",
    "\n",
    "$$\n",
    "\\frac{1 cm}{1 s^2}\n",
    "\\frac{1 m}{100 cm}\n",
    "\\frac{1 km}{1000 m}\n",
    "\\frac{60^2 s^2}{1^2 min^2}\n",
    "\\frac{60^2 min^2}{1^2 hr^2}\n",
    "\\frac{24^2 hr^2}{1^2 days^2}\n",
    "\\frac{365^2 days^2}{1^2 yr^2} \n",
    "= \n",
    "9 945 192 960 \\frac{km}{yr^2}\n",
    "$$"
   ]
  },
  {
   "cell_type": "markdown",
   "metadata": {},
   "source": [
    "Note that raising a quantity to a power also raises its units to the same power. The following two forms are equivalent:\n",
    "\n",
    "$$ \n",
    "(\\frac{24 hr}{1 day})^2  \n",
    "= \n",
    "\\frac{24^2 hr^2}{1^2 day^2}$$"
   ]
  },
  {
   "cell_type": "code",
   "execution_count": 15,
   "metadata": {
    "collapsed": false
   },
   "outputs": [
    {
     "name": "stdout",
     "output_type": "stream",
     "text": [
      "9958395769.726955 kilometer / year ** 2\n"
     ]
    }
   ],
   "source": [
    "import pint\n",
    "ureg = pint.UnitRegistry()\n",
    "\n",
    "# this appears to be an example of the limits computer memory. The correct answer is in the next cell\n",
    "print((1 * ureg.centimeter/(ureg.second**2)).to(ureg.kilometer/(ureg.year**2)))"
   ]
  },
  {
   "cell_type": "code",
   "execution_count": 3,
   "metadata": {
    "collapsed": false
   },
   "outputs": [
    {
     "data": {
      "text/plain": [
       "99451929600.0"
      ]
     },
     "execution_count": 3,
     "metadata": {},
     "output_type": "execute_result"
    }
   ],
   "source": [
    "60*60*60*60*24*24*365*365/(100*100*1*1*1)"
   ]
  },
  {
   "cell_type": "code",
   "execution_count": null,
   "metadata": {
    "collapsed": true
   },
   "outputs": [],
   "source": []
  }
 ],
 "metadata": {
  "kernelspec": {
   "display_name": "Python 3",
   "language": "python",
   "name": "python3"
  },
  "language_info": {
   "codemirror_mode": {
    "name": "ipython",
    "version": 3
   },
   "file_extension": ".py",
   "mimetype": "text/x-python",
   "name": "python",
   "nbconvert_exporter": "python",
   "pygments_lexer": "ipython3",
   "version": "3.5.1"
  }
 },
 "nbformat": 4,
 "nbformat_minor": 0
}
