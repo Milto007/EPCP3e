{
 "cells": [
  {
   "cell_type": "markdown",
   "metadata": {},
   "source": [
    "# 2.4 Force and Weight\n",
    "\n",
    "Force is proportional to the product of mass and accelartion or F=ma [=] length/time$^2$\n",
    "\n",
    "Natural force units:\n",
    "- SI -> $kg-m/s^2$\n",
    "- CGF -> $g-cm/s^2$\n",
    "- AES -> $lb_m-ft/s^2$\n",
    "\n",
    "or derived force units:\n",
    "- SI -> Newton (N) $ \\equiv \\text{1 } kg-m/s^2$\n",
    "- CGF -> dyne -> $\\text{1 }dyne \\equiv \\text{1 } g-cm/s^2$\n",
    "\n",
    "American uses pound-force ($lb_f$) defined as product of a unit mass (1 $lb_m$) and the acceleration of gravity at sea level and 45 degrees latitute (32.174 $ft/s^2$)\n",
    "\n",
    "$\\text{1 lb}_f \\equiv \\text{32.174 } lb_m-ft/s^2$"
   ]
  },
  {
   "cell_type": "markdown",
   "metadata": {
    "collapsed": true
   },
   "source": [
    "Examples of converting between natural and derived force untis\n",
    "\n",
    "Force in Newtons required to accelerate mass of 4.00 $kg$ at a rate of 9.00 $m/s^2$"
   ]
  },
  {
   "cell_type": "markdown",
   "metadata": {},
   "source": [
    "## The Setup\n",
    "\n",
    "$ F = m \\times a$\n",
    "\n",
    "$\n",
    "\\frac{\\text{4 } kg}{1}\n",
    "\\frac{\\text{9 } m}{\\text{1 } s^2}\n",
    "\\frac{\\text{1 } N}{\\text{1 } kg-m/s^2}\n",
    "$"
   ]
  },
  {
   "cell_type": "markdown",
   "metadata": {},
   "source": [
    "## Evaulate"
   ]
  },
  {
   "cell_type": "code",
   "execution_count": 1,
   "metadata": {
    "collapsed": false
   },
   "outputs": [
    {
     "name": "stdout",
     "output_type": "stream",
     "text": [
      "36.0 kilogram * meter / second\n"
     ]
    }
   ],
   "source": [
    "# Evaluate the setup\n",
    "import pint\n",
    "ureg = pint.UnitRegistry()\n",
    "\n",
    "m = 4 * ureg.kilogram\n",
    "a = 9 * ureg.meter/ureg.second\n",
    "F = m * a\n",
    "print(F)"
   ]
  },
  {
   "cell_type": "markdown",
   "metadata": {},
   "source": [
    "Factors to convert from one force unt to another are sometimes denoted as\n",
    "\n",
    "$$ g_c = \\frac{1 lb_f}{32.174 lb_m-ft/s^2} $$\n",
    "$$ g_c = \\frac{1 N}{1 kg-m/s^2} $$\n"
   ]
  },
  {
   "cell_type": "markdown",
   "metadata": {
    "collapsed": true
   },
   "source": [
    "**Weight** of an object is force exerted on an object by gravity.\n",
    "\n",
    "$ W = m\\times g $\n",
    "\n",
    "The value of $g$ at sea level is:\n",
    "- $ g = \\text{9.8066 } m/s^2 $\n",
    "- $ g = \\text{980.66 } cm/s^2 $\n",
    "- $ g = \\text{32.174 } ft/s^2 $\n",
    "\n",
    "Since acceleration of gravity doesn't vary much on earth's surface, the above equations can be used for most conversions"
   ]
  },
  {
   "cell_type": "markdown",
   "metadata": {},
   "source": [
    "## Test Yourself\n",
    "\n",
    "#### Problem 1\n",
    "What is a force of $2 kg-m/s^2$ equivalent to in Newtons? What is a force of $2 lb_m-ft/s^2$ equivalent to in $lb_f$?\n",
    "\n",
    "##### Setup\n",
    "$\n",
    "\\frac{\\text{2 } kg-m}{\\text{1 } s^2}\n",
    "\\frac{\\text{1 } N-s^2}{\\text{1 } kg-m}\n",
    "$\n",
    "\n",
    "##### Evaluate"
   ]
  },
  {
   "cell_type": "code",
   "execution_count": 2,
   "metadata": {
    "collapsed": false
   },
   "outputs": [
    {
     "name": "stdout",
     "output_type": "stream",
     "text": [
      "2.0 newton\n"
     ]
    }
   ],
   "source": [
    "# Evaulate the setup\n",
    "import pint\n",
    "ureg = pint.UnitRegistry()\n",
    "\n",
    "f = 2 * ureg.kilogram * ureg.meter / ureg.second**2\n",
    "f = f * ureg.newton * ureg.second**2 / (ureg.kilogram * ureg.meter)\n",
    "print(f)"
   ]
  },
  {
   "cell_type": "code",
   "execution_count": 4,
   "metadata": {
    "collapsed": false
   },
   "outputs": [
    {
     "data": {
      "text/html": [
       "2.0 newton"
      ],
      "text/latex": [
       "$2.0 newton$"
      ],
      "text/plain": [
       "<Quantity(2.0, 'newton')>"
      ]
     },
     "execution_count": 4,
     "metadata": {},
     "output_type": "execute_result"
    }
   ],
   "source": [
    "# Verify using pint's built in converter\n",
    "f = 2 * ureg.kilogram * ureg.meter / ureg.second**2\n",
    "f.to(ureg.newton)"
   ]
  },
  {
   "cell_type": "code",
   "execution_count": 3,
   "metadata": {
    "collapsed": false
   },
   "outputs": [
    {
     "name": "stdout",
     "output_type": "stream",
     "text": [
      "0.06216199415677255 force_pound\n"
     ]
    }
   ],
   "source": [
    "# Evaulate the setup\n",
    "import pint\n",
    "ureg = pint.UnitRegistry()\n",
    "\n",
    "f = 2 * ureg.pound * ureg.foot / ureg.second**2\n",
    "f = f * ureg.force_pound * ureg.second**2 / (32.174 * ureg.pound * ureg.foot)\n",
    "print(f)"
   ]
  },
  {
   "cell_type": "code",
   "execution_count": 9,
   "metadata": {
    "collapsed": false
   },
   "outputs": [
    {
     "data": {
      "text/html": [
       "0.062161900343134506 force_pound"
      ],
      "text/latex": [
       "$0.062161900343134506 force_pound$"
      ],
      "text/plain": [
       "<Quantity(0.062161900343134506, 'force_pound')>"
      ]
     },
     "execution_count": 9,
     "metadata": {},
     "output_type": "execute_result"
    }
   ],
   "source": [
    "# Verify using pint's built in converter\n",
    "f = 2 * ureg.pound * ureg.foot / ureg.second**2\n",
    "f.to(ureg.force_pound)"
   ]
  },
  {
   "cell_type": "markdown",
   "metadata": {},
   "source": [
    "#### Problem 2\n",
    "If the acceleration of gravity at a point is $g = \\text{9.8 } m/s^2$ and an object is resting on the ground at this point, is this object accelerating at a rate of $\\text{9.8 } m/s^2$?"
   ]
  },
  {
   "cell_type": "markdown",
   "metadata": {},
   "source": [
    "No, it is not accelerating at a rate of 9.8 $m/s^2$"
   ]
  },
  {
   "cell_type": "markdown",
   "metadata": {},
   "source": [
    "#### Problem 3\n",
    "Suppose an object weighs $9.8 N$ at sea level. What is its mass? Would its mass be greater, less, or the same on the moon? How about its weight?"
   ]
  },
  {
   "cell_type": "markdown",
   "metadata": {},
   "source": [
    "An objects mass does not change depending on its environment. It will have the same mass on the moon or on the earth. It would have less weight on the moon.\n",
    "\n",
    "Its weight is 9.8 N. Its mass can be calculated"
   ]
  },
  {
   "cell_type": "code",
   "execution_count": 16,
   "metadata": {
    "collapsed": false
   },
   "outputs": [
    {
     "data": {
      "text/html": [
       "0.9993269838680073 kilogram"
      ],
      "text/latex": [
       "$0.9993269838680073 kilogram$"
      ],
      "text/plain": [
       "<Quantity(0.9993269838680073, 'kilogram')>"
      ]
     },
     "execution_count": 16,
     "metadata": {},
     "output_type": "execute_result"
    }
   ],
   "source": [
    "# Calc mass\n",
    "import pint\n",
    "ureg = pint.UnitRegistry()\n",
    "\n",
    "f = 9.8 * ureg.newton\n",
    "a = 9.8066 * ureg.meter/ureg.second**2\n",
    "\n",
    "# f = m*a -> m = f/a\n",
    "m = f/a\n",
    "m.to(ureg.kilogram)"
   ]
  },
  {
   "cell_type": "markdown",
   "metadata": {},
   "source": [
    "#### Problem 4\n",
    "Suppose an object weighs $2 lb_f$ at sea level. What is its mass? Would its mass be greater, less, or the same at the center of the earth? How about its weight? (Careful !)"
   ]
  },
  {
   "cell_type": "markdown",
   "metadata": {},
   "source": [
    "Mass does not change depending on location. It would have less weight at the center of the earth since gravity will be smaller or almost zero"
   ]
  },
  {
   "cell_type": "code",
   "execution_count": 17,
   "metadata": {
    "collapsed": false
   },
   "outputs": [
    {
     "data": {
      "text/html": [
       "2.0 pound"
      ],
      "text/latex": [
       "$2.0 pound$"
      ],
      "text/plain": [
       "<Quantity(2.0, 'pound')>"
      ]
     },
     "execution_count": 17,
     "metadata": {},
     "output_type": "execute_result"
    }
   ],
   "source": [
    "# calc mass\n",
    "import pint\n",
    "ureg = pint.UnitRegistry()\n",
    "\n",
    "# f = m*a -> m = f/a\n",
    "a = 32.174 * ureg.foot/ureg.second**2\n",
    "f = 2 * ureg.force_pound\n",
    "g_c = 32.174 * (ureg.pound * ureg.foot/ureg.second**2)/ureg.force_pound\n",
    "m = f * g_c / a\n",
    "m"
   ]
  },
  {
   "cell_type": "code",
   "execution_count": 18,
   "metadata": {
    "collapsed": false
   },
   "outputs": [
    {
     "data": {
      "text/html": [
       "2.0000030183645454 pound"
      ],
      "text/latex": [
       "$2.0000030183645454 pound$"
      ],
      "text/plain": [
       "<Quantity(2.0000030183645454, 'pound')>"
      ]
     },
     "execution_count": 18,
     "metadata": {},
     "output_type": "execute_result"
    }
   ],
   "source": [
    "# verify using pint's built-in converter\n",
    "a = 32.174 * ureg.foot/ureg.second**2\n",
    "f = 2 * ureg.force_pound\n",
    "m = f/a\n",
    "m.to(ureg.pound)"
   ]
  },
  {
   "cell_type": "markdown",
   "metadata": {},
   "source": [
    "## Example 2.4-1\n",
    "### Weight and Mass\n",
    "\n",
    "Water has density of $64.2 \\frac{lb_m}{ft^3}$. How much does $2000 ft^3$ of water weigh:\n",
    "- at sea level and 45 degrees lattitude\n",
    "- in Denver, CO where altitude is 5374 ft and $g_c = 32.139 ft/s^2$"
   ]
  },
  {
   "cell_type": "code",
   "execution_count": 5,
   "metadata": {
    "collapsed": false
   },
   "outputs": [],
   "source": [
    "# imports necessary for problem\n",
    "import pint\n",
    "ureg = pint.UnitRegistry()"
   ]
  },
  {
   "cell_type": "code",
   "execution_count": 6,
   "metadata": {
    "collapsed": false
   },
   "outputs": [
    {
     "name": "stdout",
     "output_type": "stream",
     "text": [
      "128400.0 pound\n"
     ]
    }
   ],
   "source": [
    "# calc mass of water which doesn't change\n",
    "rho = 64.2 * ureg.pound / ureg.foot**3\n",
    "vol = 2000 * ureg.foot**3\n",
    "\n",
    "m = rho * vol\n",
    "print(m)"
   ]
  },
  {
   "cell_type": "code",
   "execution_count": 7,
   "metadata": {
    "collapsed": false
   },
   "outputs": [
    {
     "name": "stdout",
     "output_type": "stream",
     "text": [
      "128400.0 force_pound\n"
     ]
    }
   ],
   "source": [
    "# calc at sea level\n",
    "g_c = 1 * ureg.force_pound/(32.174 * ureg.pound * ureg.foot/ureg.second**2)\n",
    "a = 32.174 * ureg.foot/ureg.second**2\n",
    "\n",
    "f = m * g_c * a\n",
    "print(f)"
   ]
  },
  {
   "cell_type": "code",
   "execution_count": 8,
   "metadata": {
    "collapsed": false
   },
   "outputs": [
    {
     "name": "stdout",
     "output_type": "stream",
     "text": [
      "128260.32199912975 force_pound\n"
     ]
    }
   ],
   "source": [
    "# calc in Denver, CO\n",
    "g_c = 1 * ureg.force_pound/(32.174 * ureg.pound * ureg.foot/ureg.second**2)\n",
    "a = 32.139 * ureg.foot/ureg.second**2\n",
    "\n",
    "f = m * g_c * a\n",
    "print(f)"
   ]
  },
  {
   "cell_type": "code",
   "execution_count": null,
   "metadata": {
    "collapsed": true
   },
   "outputs": [],
   "source": []
  }
 ],
 "metadata": {
  "kernelspec": {
   "display_name": "Python 3",
   "language": "python",
   "name": "python3"
  },
  "language_info": {
   "codemirror_mode": {
    "name": "ipython",
    "version": 3
   },
   "file_extension": ".py",
   "mimetype": "text/x-python",
   "name": "python",
   "nbconvert_exporter": "python",
   "pygments_lexer": "ipython3",
   "version": "3.5.1"
  }
 },
 "nbformat": 4,
 "nbformat_minor": 0
}
